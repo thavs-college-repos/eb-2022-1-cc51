{
 "cells": [
  {
   "cell_type": "markdown",
   "metadata": {},
   "source": [
    "# Youtube data analysis\n",
    "Analisaremos la informacion de youtube en Gran Bretra;analysis\n",
    "\n",
    "## Set Up\n",
    "### Importar Librerias"
   ]
  },
  {
   "cell_type": "code",
   "execution_count": 77,
   "metadata": {},
   "outputs": [],
   "source": [
    "import numpy as np\n",
    "import pandas as pd\n",
    "import json\n",
    "%matplotlib inline\n",
    "\n",
    "import seaborn as sns\n",
    "from matplotlib import pyplot as plt"
   ]
  },
  {
   "cell_type": "markdown",
   "metadata": {},
   "source": [
    "### Hoja de estilos"
   ]
  },
  {
   "cell_type": "code",
   "execution_count": 80,
   "metadata": {},
   "outputs": [],
   "source": [
    "pd.options.display.float_format = '{:.2f}'.format # format floats to 2 decimal places in output\n",
    "\n",
    "sns.set(style=\"ticks\")\n",
    "plt.style.use(\"dark_background\")\n",
    "for param in ['text.color', 'axes.labelcolor', 'xtick.color', 'ytick.color']:\n",
    "    plt.rcParams[param] = '0.9'  # very light grey\n",
    "for param in ['figure.facecolor', 'axes.facecolor', 'savefig.facecolor']:\n",
    "    plt.rcParams[param] = '#212946'  # bluish dark grey\n",
    "colors = [\n",
    "    '#08F7FE',  # teal/cyan\n",
    "    '#FE53BB',  # pink\n",
    "    '#F5D300',  # yellow\n",
    "    '#00ff41',  # matrix green\n",
    "]\n"
   ]
  },
  {
   "cell_type": "markdown",
   "metadata": {},
   "source": [
    "### Cargar datos"
   ]
  },
  {
   "cell_type": "code",
   "execution_count": 51,
   "metadata": {},
   "outputs": [],
   "source": [
    "df = pd.read_csv('data/GBvideos_cc50.csv')"
   ]
  },
  {
   "cell_type": "markdown",
   "metadata": {},
   "source": [
    "### Inspeccionar los datos"
   ]
  },
  {
   "cell_type": "code",
   "execution_count": 13,
   "metadata": {},
   "outputs": [
    {
     "data": {
      "text/html": [
       "<div>\n",
       "<style scoped>\n",
       "    .dataframe tbody tr th:only-of-type {\n",
       "        vertical-align: middle;\n",
       "    }\n",
       "\n",
       "    .dataframe tbody tr th {\n",
       "        vertical-align: top;\n",
       "    }\n",
       "\n",
       "    .dataframe thead th {\n",
       "        text-align: right;\n",
       "    }\n",
       "</style>\n",
       "<table border=\"1\" class=\"dataframe\">\n",
       "  <thead>\n",
       "    <tr style=\"text-align: right;\">\n",
       "      <th></th>\n",
       "      <th>video_id</th>\n",
       "      <th>trending_date</th>\n",
       "      <th>title</th>\n",
       "      <th>channel_title</th>\n",
       "      <th>category_id</th>\n",
       "      <th>publish_time</th>\n",
       "      <th>tags</th>\n",
       "      <th>views</th>\n",
       "      <th>likes</th>\n",
       "      <th>dislikes</th>\n",
       "      <th>comment_count</th>\n",
       "      <th>thumbnail_link</th>\n",
       "      <th>comments_disabled</th>\n",
       "      <th>ratings_disabled</th>\n",
       "      <th>video_error_or_removed</th>\n",
       "      <th>description</th>\n",
       "      <th>state</th>\n",
       "      <th>lat</th>\n",
       "      <th>lon</th>\n",
       "      <th>geometry</th>\n",
       "    </tr>\n",
       "  </thead>\n",
       "  <tbody>\n",
       "    <tr>\n",
       "      <th>0</th>\n",
       "      <td>Jw1Y-zhQURU</td>\n",
       "      <td>17.14.11</td>\n",
       "      <td>John Lewis Christmas Ad 2017 - #MozTheMonster</td>\n",
       "      <td>John Lewis</td>\n",
       "      <td>26</td>\n",
       "      <td>2017-11-10T07:38:29.000Z</td>\n",
       "      <td>christmas|\"john lewis christmas\"|\"john lewis\"|...</td>\n",
       "      <td>7224515</td>\n",
       "      <td>55681</td>\n",
       "      <td>10247</td>\n",
       "      <td>9479</td>\n",
       "      <td>https://i.ytimg.com/vi/Jw1Y-zhQURU/default.jpg</td>\n",
       "      <td>False</td>\n",
       "      <td>False</td>\n",
       "      <td>False</td>\n",
       "      <td>Click here to continue the story and make your...</td>\n",
       "      <td>Devon</td>\n",
       "      <td>50.700405</td>\n",
       "      <td>-3.529950</td>\n",
       "      <td>POINT (-3.529950197 50.70040529)</td>\n",
       "    </tr>\n",
       "    <tr>\n",
       "      <th>1</th>\n",
       "      <td>3s1rvMFUweQ</td>\n",
       "      <td>17.14.11</td>\n",
       "      <td>Taylor Swift: …Ready for It? (Live) - SNL</td>\n",
       "      <td>Saturday Night Live</td>\n",
       "      <td>24</td>\n",
       "      <td>2017-11-12T06:24:44.000Z</td>\n",
       "      <td>SNL|\"Saturday Night Live\"|\"SNL Season 43\"|\"Epi...</td>\n",
       "      <td>1053632</td>\n",
       "      <td>25561</td>\n",
       "      <td>2294</td>\n",
       "      <td>2757</td>\n",
       "      <td>https://i.ytimg.com/vi/3s1rvMFUweQ/default.jpg</td>\n",
       "      <td>False</td>\n",
       "      <td>False</td>\n",
       "      <td>False</td>\n",
       "      <td>Musical guest Taylor Swift performs …Ready for...</td>\n",
       "      <td>Manchester</td>\n",
       "      <td>53.500415</td>\n",
       "      <td>-2.247987</td>\n",
       "      <td>POINT (-2.247987103 53.50041526)</td>\n",
       "    </tr>\n",
       "    <tr>\n",
       "      <th>2</th>\n",
       "      <td>n1WpP7iowLc</td>\n",
       "      <td>17.14.11</td>\n",
       "      <td>Eminem - Walk On Water (Audio) ft. Beyoncé</td>\n",
       "      <td>EminemVEVO</td>\n",
       "      <td>10</td>\n",
       "      <td>2017-11-10T17:00:03.000Z</td>\n",
       "      <td>Eminem|\"Walk\"|\"On\"|\"Water\"|\"Aftermath/Shady/In...</td>\n",
       "      <td>17158579</td>\n",
       "      <td>787420</td>\n",
       "      <td>43420</td>\n",
       "      <td>125882</td>\n",
       "      <td>https://i.ytimg.com/vi/n1WpP7iowLc/default.jpg</td>\n",
       "      <td>False</td>\n",
       "      <td>False</td>\n",
       "      <td>False</td>\n",
       "      <td>Eminem's new track Walk on Water ft. Beyoncé i...</td>\n",
       "      <td>Bath And North East Somerset</td>\n",
       "      <td>51.383749</td>\n",
       "      <td>-2.350022</td>\n",
       "      <td>POINT (-2.350022218 51.3837486)</td>\n",
       "    </tr>\n",
       "    <tr>\n",
       "      <th>3</th>\n",
       "      <td>PUTEiSjKwJU</td>\n",
       "      <td>17.14.11</td>\n",
       "      <td>Goals from Salford City vs Class of 92 and Fri...</td>\n",
       "      <td>Salford City Football Club</td>\n",
       "      <td>17</td>\n",
       "      <td>2017-11-13T02:30:38.000Z</td>\n",
       "      <td>Salford City FC|\"Salford City\"|\"Salford\"|\"Clas...</td>\n",
       "      <td>27833</td>\n",
       "      <td>193</td>\n",
       "      <td>12</td>\n",
       "      <td>37</td>\n",
       "      <td>https://i.ytimg.com/vi/PUTEiSjKwJU/default.jpg</td>\n",
       "      <td>False</td>\n",
       "      <td>False</td>\n",
       "      <td>False</td>\n",
       "      <td>Salford drew 4-4 against the Class of 92 and F...</td>\n",
       "      <td>Aberdeen</td>\n",
       "      <td>57.170398</td>\n",
       "      <td>-2.079987</td>\n",
       "      <td>POINT (-2.079987021 57.17039797)</td>\n",
       "    </tr>\n",
       "    <tr>\n",
       "      <th>4</th>\n",
       "      <td>rHwDegptbI4</td>\n",
       "      <td>17.14.11</td>\n",
       "      <td>Dashcam captures truck's near miss with child ...</td>\n",
       "      <td>Cute Girl Videos</td>\n",
       "      <td>25</td>\n",
       "      <td>2017-11-13T01:45:13.000Z</td>\n",
       "      <td>[none]</td>\n",
       "      <td>9815</td>\n",
       "      <td>30</td>\n",
       "      <td>2</td>\n",
       "      <td>30</td>\n",
       "      <td>https://i.ytimg.com/vi/rHwDegptbI4/default.jpg</td>\n",
       "      <td>False</td>\n",
       "      <td>False</td>\n",
       "      <td>False</td>\n",
       "      <td>Dashcam captures truck's near miss with child ...</td>\n",
       "      <td>Southampton</td>\n",
       "      <td>50.900031</td>\n",
       "      <td>-1.399977</td>\n",
       "      <td>POINT (-1.399976849 50.90003135)</td>\n",
       "    </tr>\n",
       "  </tbody>\n",
       "</table>\n",
       "</div>"
      ],
      "text/plain": [
       "      video_id trending_date  \\\n",
       "0  Jw1Y-zhQURU      17.14.11   \n",
       "1  3s1rvMFUweQ      17.14.11   \n",
       "2  n1WpP7iowLc      17.14.11   \n",
       "3  PUTEiSjKwJU      17.14.11   \n",
       "4  rHwDegptbI4      17.14.11   \n",
       "\n",
       "                                               title  \\\n",
       "0      John Lewis Christmas Ad 2017 - #MozTheMonster   \n",
       "1          Taylor Swift: …Ready for It? (Live) - SNL   \n",
       "2         Eminem - Walk On Water (Audio) ft. Beyoncé   \n",
       "3  Goals from Salford City vs Class of 92 and Fri...   \n",
       "4  Dashcam captures truck's near miss with child ...   \n",
       "\n",
       "                channel_title  category_id              publish_time  \\\n",
       "0                  John Lewis           26  2017-11-10T07:38:29.000Z   \n",
       "1         Saturday Night Live           24  2017-11-12T06:24:44.000Z   \n",
       "2                  EminemVEVO           10  2017-11-10T17:00:03.000Z   \n",
       "3  Salford City Football Club           17  2017-11-13T02:30:38.000Z   \n",
       "4            Cute Girl Videos           25  2017-11-13T01:45:13.000Z   \n",
       "\n",
       "                                                tags     views   likes  \\\n",
       "0  christmas|\"john lewis christmas\"|\"john lewis\"|...   7224515   55681   \n",
       "1  SNL|\"Saturday Night Live\"|\"SNL Season 43\"|\"Epi...   1053632   25561   \n",
       "2  Eminem|\"Walk\"|\"On\"|\"Water\"|\"Aftermath/Shady/In...  17158579  787420   \n",
       "3  Salford City FC|\"Salford City\"|\"Salford\"|\"Clas...     27833     193   \n",
       "4                                             [none]      9815      30   \n",
       "\n",
       "   dislikes  comment_count                                  thumbnail_link  \\\n",
       "0     10247           9479  https://i.ytimg.com/vi/Jw1Y-zhQURU/default.jpg   \n",
       "1      2294           2757  https://i.ytimg.com/vi/3s1rvMFUweQ/default.jpg   \n",
       "2     43420         125882  https://i.ytimg.com/vi/n1WpP7iowLc/default.jpg   \n",
       "3        12             37  https://i.ytimg.com/vi/PUTEiSjKwJU/default.jpg   \n",
       "4         2             30  https://i.ytimg.com/vi/rHwDegptbI4/default.jpg   \n",
       "\n",
       "   comments_disabled  ratings_disabled  video_error_or_removed  \\\n",
       "0              False             False                   False   \n",
       "1              False             False                   False   \n",
       "2              False             False                   False   \n",
       "3              False             False                   False   \n",
       "4              False             False                   False   \n",
       "\n",
       "                                         description  \\\n",
       "0  Click here to continue the story and make your...   \n",
       "1  Musical guest Taylor Swift performs …Ready for...   \n",
       "2  Eminem's new track Walk on Water ft. Beyoncé i...   \n",
       "3  Salford drew 4-4 against the Class of 92 and F...   \n",
       "4  Dashcam captures truck's near miss with child ...   \n",
       "\n",
       "                          state        lat       lon  \\\n",
       "0                         Devon  50.700405 -3.529950   \n",
       "1                    Manchester  53.500415 -2.247987   \n",
       "2  Bath And North East Somerset  51.383749 -2.350022   \n",
       "3                      Aberdeen  57.170398 -2.079987   \n",
       "4                   Southampton  50.900031 -1.399977   \n",
       "\n",
       "                           geometry  \n",
       "0  POINT (-3.529950197 50.70040529)  \n",
       "1  POINT (-2.247987103 53.50041526)  \n",
       "2   POINT (-2.350022218 51.3837486)  \n",
       "3  POINT (-2.079987021 57.17039797)  \n",
       "4  POINT (-1.399976849 50.90003135)  "
      ]
     },
     "execution_count": 13,
     "metadata": {},
     "output_type": "execute_result"
    }
   ],
   "source": [
    "# Ver las primeras columnas de datos\n",
    "df.head()"
   ]
  },
  {
   "cell_type": "code",
   "execution_count": 14,
   "metadata": {},
   "outputs": [
    {
     "name": "stdout",
     "output_type": "stream",
     "text": [
      "<class 'pandas.core.frame.DataFrame'>\n",
      "RangeIndex: 38916 entries, 0 to 38915\n",
      "Data columns (total 20 columns):\n",
      " #   Column                  Non-Null Count  Dtype  \n",
      "---  ------                  --------------  -----  \n",
      " 0   video_id                38916 non-null  object \n",
      " 1   trending_date           38916 non-null  object \n",
      " 2   title                   38916 non-null  object \n",
      " 3   channel_title           38916 non-null  object \n",
      " 4   category_id             38916 non-null  int64  \n",
      " 5   publish_time            38916 non-null  object \n",
      " 6   tags                    38916 non-null  object \n",
      " 7   views                   38916 non-null  int64  \n",
      " 8   likes                   38916 non-null  int64  \n",
      " 9   dislikes                38916 non-null  int64  \n",
      " 10  comment_count           38916 non-null  int64  \n",
      " 11  thumbnail_link          38916 non-null  object \n",
      " 12  comments_disabled       38916 non-null  bool   \n",
      " 13  ratings_disabled        38916 non-null  bool   \n",
      " 14  video_error_or_removed  38916 non-null  bool   \n",
      " 15  description             38304 non-null  object \n",
      " 16  state                   38916 non-null  object \n",
      " 17  lat                     38916 non-null  float64\n",
      " 18  lon                     38916 non-null  float64\n",
      " 19  geometry                38916 non-null  object \n",
      "dtypes: bool(3), float64(2), int64(5), object(10)\n",
      "memory usage: 5.2+ MB\n"
     ]
    }
   ],
   "source": [
    "# Informacion del dataframe\n",
    "df.info()"
   ]
  },
  {
   "cell_type": "markdown",
   "metadata": {},
   "source": [
    "Podemos ver que el dataset tiene `38.916` elementos. Y tambien se evidencia que todas las columnas estan completas a excepcion de la `description` pues muestra `38.304` valores. "
   ]
  },
  {
   "cell_type": "code",
   "execution_count": 23,
   "metadata": {},
   "outputs": [
    {
     "data": {
      "text/html": [
       "<div>\n",
       "<style scoped>\n",
       "    .dataframe tbody tr th:only-of-type {\n",
       "        vertical-align: middle;\n",
       "    }\n",
       "\n",
       "    .dataframe tbody tr th {\n",
       "        vertical-align: top;\n",
       "    }\n",
       "\n",
       "    .dataframe thead th {\n",
       "        text-align: right;\n",
       "    }\n",
       "</style>\n",
       "<table border=\"1\" class=\"dataframe\">\n",
       "  <thead>\n",
       "    <tr style=\"text-align: right;\">\n",
       "      <th></th>\n",
       "      <th>category_id</th>\n",
       "      <th>views</th>\n",
       "      <th>likes</th>\n",
       "      <th>dislikes</th>\n",
       "      <th>comment_count</th>\n",
       "      <th>lat</th>\n",
       "      <th>lon</th>\n",
       "    </tr>\n",
       "  </thead>\n",
       "  <tbody>\n",
       "    <tr>\n",
       "      <th>count</th>\n",
       "      <td>38916.00</td>\n",
       "      <td>38916.00</td>\n",
       "      <td>38916.00</td>\n",
       "      <td>38916.00</td>\n",
       "      <td>38916.00</td>\n",
       "      <td>38916.00</td>\n",
       "      <td>38916.00</td>\n",
       "    </tr>\n",
       "    <tr>\n",
       "      <th>mean</th>\n",
       "      <td>16.83</td>\n",
       "      <td>5911943.63</td>\n",
       "      <td>134519.55</td>\n",
       "      <td>7612.56</td>\n",
       "      <td>13088.35</td>\n",
       "      <td>53.38</td>\n",
       "      <td>-2.38</td>\n",
       "    </tr>\n",
       "    <tr>\n",
       "      <th>std</th>\n",
       "      <td>7.75</td>\n",
       "      <td>19001209.95</td>\n",
       "      <td>349989.31</td>\n",
       "      <td>50956.83</td>\n",
       "      <td>50667.40</td>\n",
       "      <td>2.04</td>\n",
       "      <td>2.10</td>\n",
       "    </tr>\n",
       "    <tr>\n",
       "      <th>min</th>\n",
       "      <td>1.00</td>\n",
       "      <td>851.00</td>\n",
       "      <td>0.00</td>\n",
       "      <td>0.00</td>\n",
       "      <td>0.00</td>\n",
       "      <td>50.13</td>\n",
       "      <td>-7.33</td>\n",
       "    </tr>\n",
       "    <tr>\n",
       "      <th>25%</th>\n",
       "      <td>10.00</td>\n",
       "      <td>251527.25</td>\n",
       "      <td>5897.00</td>\n",
       "      <td>200.00</td>\n",
       "      <td>679.00</td>\n",
       "      <td>51.50</td>\n",
       "      <td>-3.53</td>\n",
       "    </tr>\n",
       "    <tr>\n",
       "      <th>50%</th>\n",
       "      <td>20.00</td>\n",
       "      <td>981889.00</td>\n",
       "      <td>25182.50</td>\n",
       "      <td>821.00</td>\n",
       "      <td>2478.00</td>\n",
       "      <td>53.20</td>\n",
       "      <td>-2.18</td>\n",
       "    </tr>\n",
       "    <tr>\n",
       "      <th>75%</th>\n",
       "      <td>24.00</td>\n",
       "      <td>3683628.50</td>\n",
       "      <td>114089.25</td>\n",
       "      <td>3357.50</td>\n",
       "      <td>9241.50</td>\n",
       "      <td>54.88</td>\n",
       "      <td>-1.08</td>\n",
       "    </tr>\n",
       "    <tr>\n",
       "      <th>max</th>\n",
       "      <td>43.00</td>\n",
       "      <td>424538912.00</td>\n",
       "      <td>5613827.00</td>\n",
       "      <td>1944971.00</td>\n",
       "      <td>1626501.00</td>\n",
       "      <td>58.97</td>\n",
       "      <td>1.30</td>\n",
       "    </tr>\n",
       "  </tbody>\n",
       "</table>\n",
       "</div>"
      ],
      "text/plain": [
       "       category_id        views      likes   dislikes  comment_count      lat  \\\n",
       "count     38916.00     38916.00   38916.00   38916.00       38916.00 38916.00   \n",
       "mean         16.83   5911943.63  134519.55    7612.56       13088.35    53.38   \n",
       "std           7.75  19001209.95  349989.31   50956.83       50667.40     2.04   \n",
       "min           1.00       851.00       0.00       0.00           0.00    50.13   \n",
       "25%          10.00    251527.25    5897.00     200.00         679.00    51.50   \n",
       "50%          20.00    981889.00   25182.50     821.00        2478.00    53.20   \n",
       "75%          24.00   3683628.50  114089.25    3357.50        9241.50    54.88   \n",
       "max          43.00 424538912.00 5613827.00 1944971.00     1626501.00    58.97   \n",
       "\n",
       "           lon  \n",
       "count 38916.00  \n",
       "mean     -2.38  \n",
       "std       2.10  \n",
       "min      -7.33  \n",
       "25%      -3.53  \n",
       "50%      -2.18  \n",
       "75%      -1.08  \n",
       "max       1.30  "
      ]
     },
     "execution_count": 23,
     "metadata": {},
     "output_type": "execute_result"
    }
   ],
   "source": [
    "# Visualizar la informacion estadistica del dataframe\n",
    "df.describe()"
   ]
  },
  {
   "cell_type": "markdown",
   "metadata": {},
   "source": [
    "Podemos analizar en esta tabla:\n",
    "* En promedio un video en trending tiene `5.911.943` vistas. La media para la vistas es `981.889` es decir, el 50% de los videos tienen mas de este valor y el otro tiene menos. \n",
    "* El promedio de comentarios en estos video son `13.088` y la media es `2.478` \n",
    "* En promedio videos en tendencias tienen en promedio `134.519` me gustas y `7.612` no me gusta."
   ]
  },
  {
   "cell_type": "markdown",
   "metadata": {},
   "source": [
    "## Pre-procesar los datos\n",
    "\n",
    "### Modificar valores vacios\n",
    "\n",
    "Como mostramos previamente, la columna `description` contiene algunos valores nulos. Por ello debemos verificar y limpiar estas columnas antes de analizar el dataset. "
   ]
  },
  {
   "cell_type": "code",
   "execution_count": 19,
   "metadata": {},
   "outputs": [
    {
     "data": {
      "text/html": [
       "<div>\n",
       "<style scoped>\n",
       "    .dataframe tbody tr th:only-of-type {\n",
       "        vertical-align: middle;\n",
       "    }\n",
       "\n",
       "    .dataframe tbody tr th {\n",
       "        vertical-align: top;\n",
       "    }\n",
       "\n",
       "    .dataframe thead th {\n",
       "        text-align: right;\n",
       "    }\n",
       "</style>\n",
       "<table border=\"1\" class=\"dataframe\">\n",
       "  <thead>\n",
       "    <tr style=\"text-align: right;\">\n",
       "      <th></th>\n",
       "      <th>video_id</th>\n",
       "      <th>trending_date</th>\n",
       "      <th>title</th>\n",
       "      <th>channel_title</th>\n",
       "      <th>category_id</th>\n",
       "      <th>publish_time</th>\n",
       "      <th>tags</th>\n",
       "      <th>views</th>\n",
       "      <th>likes</th>\n",
       "      <th>dislikes</th>\n",
       "      <th>comment_count</th>\n",
       "      <th>thumbnail_link</th>\n",
       "      <th>comments_disabled</th>\n",
       "      <th>ratings_disabled</th>\n",
       "      <th>video_error_or_removed</th>\n",
       "      <th>description</th>\n",
       "      <th>state</th>\n",
       "      <th>lat</th>\n",
       "      <th>lon</th>\n",
       "      <th>geometry</th>\n",
       "    </tr>\n",
       "  </thead>\n",
       "  <tbody>\n",
       "    <tr>\n",
       "      <th>91</th>\n",
       "      <td>_wM_jY_rass</td>\n",
       "      <td>17.14.11</td>\n",
       "      <td>Bone on Labour HQ</td>\n",
       "      <td>Ross Kempsell</td>\n",
       "      <td>25</td>\n",
       "      <td>2017-11-06T16:12:58.000Z</td>\n",
       "      <td>[none]</td>\n",
       "      <td>159065</td>\n",
       "      <td>1160</td>\n",
       "      <td>1164</td>\n",
       "      <td>0</td>\n",
       "      <td>https://i.ytimg.com/vi/_wM_jY_rass/default.jpg</td>\n",
       "      <td>True</td>\n",
       "      <td>False</td>\n",
       "      <td>False</td>\n",
       "      <td>NaN</td>\n",
       "      <td>Bristol</td>\n",
       "      <td>51.449998</td>\n",
       "      <td>-2.583315</td>\n",
       "      <td>POINT (-2.583315472 51.44999778)</td>\n",
       "    </tr>\n",
       "    <tr>\n",
       "      <th>118</th>\n",
       "      <td>8HON4AswPVk</td>\n",
       "      <td>17.14.11</td>\n",
       "      <td>Arvo Pärt - Tabula Rasa</td>\n",
       "      <td>JSaxofone</td>\n",
       "      <td>10</td>\n",
       "      <td>2012-09-13T12:35:46.000Z</td>\n",
       "      <td>Arvo|\"Pärt\"|\"Tabula\"|\"Rasa\"|\"part\"|\"violin\"|\"c...</td>\n",
       "      <td>728177</td>\n",
       "      <td>4007</td>\n",
       "      <td>71</td>\n",
       "      <td>240</td>\n",
       "      <td>https://i.ytimg.com/vi/8HON4AswPVk/default.jpg</td>\n",
       "      <td>False</td>\n",
       "      <td>False</td>\n",
       "      <td>False</td>\n",
       "      <td>NaN</td>\n",
       "      <td>Dungannon</td>\n",
       "      <td>54.520379</td>\n",
       "      <td>-6.670017</td>\n",
       "      <td>POINT (-6.670016929 54.52037884)</td>\n",
       "    </tr>\n",
       "  </tbody>\n",
       "</table>\n",
       "</div>"
      ],
      "text/plain": [
       "        video_id trending_date                    title  channel_title  \\\n",
       "91   _wM_jY_rass      17.14.11        Bone on Labour HQ  Ross Kempsell   \n",
       "118  8HON4AswPVk      17.14.11  Arvo Pärt - Tabula Rasa      JSaxofone   \n",
       "\n",
       "     category_id              publish_time  \\\n",
       "91            25  2017-11-06T16:12:58.000Z   \n",
       "118           10  2012-09-13T12:35:46.000Z   \n",
       "\n",
       "                                                  tags   views  likes  \\\n",
       "91                                              [none]  159065   1160   \n",
       "118  Arvo|\"Pärt\"|\"Tabula\"|\"Rasa\"|\"part\"|\"violin\"|\"c...  728177   4007   \n",
       "\n",
       "     dislikes  comment_count                                  thumbnail_link  \\\n",
       "91       1164              0  https://i.ytimg.com/vi/_wM_jY_rass/default.jpg   \n",
       "118        71            240  https://i.ytimg.com/vi/8HON4AswPVk/default.jpg   \n",
       "\n",
       "     comments_disabled  ratings_disabled  video_error_or_removed description  \\\n",
       "91                True             False                   False         NaN   \n",
       "118              False             False                   False         NaN   \n",
       "\n",
       "         state        lat       lon                          geometry  \n",
       "91     Bristol  51.449998 -2.583315  POINT (-2.583315472 51.44999778)  \n",
       "118  Dungannon  54.520379 -6.670017  POINT (-6.670016929 54.52037884)  "
      ]
     },
     "execution_count": 19,
     "metadata": {},
     "output_type": "execute_result"
    }
   ],
   "source": [
    "df[df[\"description\"].apply(lambda x: pd.isna(x))].head(2)"
   ]
  },
  {
   "cell_type": "markdown",
   "metadata": {},
   "source": [
    "Para no dejar estos valores como `NA`, es mejor cambiar estoys valores a cadenas vacias."
   ]
  },
  {
   "cell_type": "code",
   "execution_count": 21,
   "metadata": {},
   "outputs": [],
   "source": [
    "df[\"description\"] = df[\"description\"].fillna(value=\"\") # Fillna con vacio"
   ]
  },
  {
   "cell_type": "markdown",
   "metadata": {},
   "source": [
    "### Completar informacion de categorias"
   ]
  },
  {
   "cell_type": "markdown",
   "metadata": {},
   "source": [
    "Antes de analizar los datos y para facilitar la visualizacion de datos, uniremos los valores de `category_id` con su representacion en el archivo `GB_category_id.json`. De esta forma no podremos colocar numbero en lugar"
   ]
  },
  {
   "cell_type": "code",
   "execution_count": 57,
   "metadata": {},
   "outputs": [
    {
     "data": {
      "text/plain": [
       "0    26\n",
       "1    24\n",
       "Name: category_id, dtype: int64"
      ]
     },
     "execution_count": 57,
     "metadata": {},
     "output_type": "execute_result"
    }
   ],
   "source": [
    "df['category_id'].head(2)"
   ]
  },
  {
   "cell_type": "code",
   "execution_count": 58,
   "metadata": {},
   "outputs": [],
   "source": [
    "with open(\"data/GB_category_id.json\") as f:\n",
    "    categories = json.load(f)[\"items\"]\n",
    "    \n",
    "cat_dict = {}\n",
    "for cat in categories:\n",
    "    cat_id = int(cat[\"id\"])\n",
    "    cat_dict[cat_id] = cat[\"snippet\"][\"title\"]\n",
    "    \n",
    "df['category_name'] = df['category_id'].map(cat_dict)"
   ]
  },
  {
   "cell_type": "markdown",
   "metadata": {},
   "source": [
    "### Modificar tipos\n",
    "Modificar los tipos de las fechas a "
   ]
  },
  {
   "cell_type": "code",
   "execution_count": 52,
   "metadata": {},
   "outputs": [],
   "source": [
    "df['publish_hour'] = pd.to_datetime(df[\"publish_time\"]).dt.time\n",
    "df['publish_time'] = pd.to_datetime(df[\"publish_time\"]).dt.date\n",
    "df['trending_date'] = pd.to_datetime(df['trending_date'], format='%y.%d.%M').dt.date\n"
   ]
  },
  {
   "cell_type": "markdown",
   "metadata": {},
   "source": [
    "## Visualizar los datos\n",
    "### Categorias de Videos\n",
    "#### ¿Qué categorías de videos son las de mayor tendencia?"
   ]
  },
  {
   "cell_type": "code",
   "execution_count": 81,
   "metadata": {},
   "outputs": [
    {
     "ename": "NameError",
     "evalue": "name 'color' is not defined",
     "output_type": "error",
     "traceback": [
      "\u001b[1;31m---------------------------------------------------------------------------\u001b[0m",
      "\u001b[1;31mNameError\u001b[0m                                 Traceback (most recent call last)",
      "\u001b[1;32mx:\\Users\\Maria\\Documents\\Code\\UPC\\Admin Info\\eb-2022-1-cc51\\main.ipynb Cell 24'\u001b[0m in \u001b[0;36m<cell line: 5>\u001b[1;34m()\u001b[0m\n\u001b[0;32m      <a href='vscode-notebook-cell:/x%3A/Users/Maria/Documents/Code/UPC/Admin%20Info/eb-2022-1-cc51/main.ipynb#ch0000032?line=1'>2</a>\u001b[0m cdf\u001b[39m.\u001b[39mrename(columns\u001b[39m=\u001b[39m{\u001b[39m\"\u001b[39m\u001b[39mindex\u001b[39m\u001b[39m\"\u001b[39m: \u001b[39m\"\u001b[39m\u001b[39mcategory_name\u001b[39m\u001b[39m\"\u001b[39m, \u001b[39m\"\u001b[39m\u001b[39mcategory_name\u001b[39m\u001b[39m\"\u001b[39m: \u001b[39m\"\u001b[39m\u001b[39mNo_of_videos\u001b[39m\u001b[39m\"\u001b[39m}, inplace\u001b[39m=\u001b[39m\u001b[39mTrue\u001b[39;00m)\n\u001b[0;32m      <a href='vscode-notebook-cell:/x%3A/Users/Maria/Documents/Code/UPC/Admin%20Info/eb-2022-1-cc51/main.ipynb#ch0000032?line=3'>4</a>\u001b[0m fig, ax \u001b[39m=\u001b[39m plt\u001b[39m.\u001b[39msubplots()\n\u001b[0;32m      <a href='vscode-notebook-cell:/x%3A/Users/Maria/Documents/Code/UPC/Admin%20Info/eb-2022-1-cc51/main.ipynb#ch0000032?line=4'>5</a>\u001b[0m _ \u001b[39m=\u001b[39m sns\u001b[39m.\u001b[39mbarplot(x\u001b[39m=\u001b[39m\u001b[39m\"\u001b[39m\u001b[39mcategory_name\u001b[39m\u001b[39m\"\u001b[39m, y\u001b[39m=\u001b[39m\u001b[39m\"\u001b[39m\u001b[39mNo_of_videos\u001b[39m\u001b[39m\"\u001b[39m, data\u001b[39m=\u001b[39mcdf, \n\u001b[1;32m----> <a href='vscode-notebook-cell:/x%3A/Users/Maria/Documents/Code/UPC/Admin%20Info/eb-2022-1-cc51/main.ipynb#ch0000032?line=5'>6</a>\u001b[0m                 palette\u001b[39m=\u001b[39msns\u001b[39m.\u001b[39mcubehelix_palette(n_colors\u001b[39m=\u001b[39mcolor, reverse\u001b[39m=\u001b[39m\u001b[39mTrue\u001b[39;00m), ax\u001b[39m=\u001b[39max)\n\u001b[0;32m      <a href='vscode-notebook-cell:/x%3A/Users/Maria/Documents/Code/UPC/Admin%20Info/eb-2022-1-cc51/main.ipynb#ch0000032?line=6'>7</a>\u001b[0m _ \u001b[39m=\u001b[39m ax\u001b[39m.\u001b[39mset_xticklabels(ax\u001b[39m.\u001b[39mget_xticklabels(), rotation\u001b[39m=\u001b[39m\u001b[39m80\u001b[39m)\n\u001b[0;32m      <a href='vscode-notebook-cell:/x%3A/Users/Maria/Documents/Code/UPC/Admin%20Info/eb-2022-1-cc51/main.ipynb#ch0000032?line=7'>8</a>\u001b[0m _ \u001b[39m=\u001b[39m ax\u001b[39m.\u001b[39mset(xlabel\u001b[39m=\u001b[39m\u001b[39m\"\u001b[39m\u001b[39mCategoria\u001b[39m\u001b[39m\"\u001b[39m, ylabel\u001b[39m=\u001b[39m\u001b[39m\"\u001b[39m\u001b[39mNo. de videos\u001b[39m\u001b[39m\"\u001b[39m)\n",
      "\u001b[1;31mNameError\u001b[0m: name 'color' is not defined"
     ]
    },
    {
     "data": {
      "image/png": "[encoded data removed]",
      "text/plain": [
       "<Figure size 432x288 with 1 Axes>"
      ]
     },
     "metadata": {},
     "output_type": "display_data"
    }
   ],
   "source": [
    "cdf = df[\"category_name\"].value_counts().to_frame().reset_index()\n",
    "cdf.rename(columns={\"index\": \"category_name\", \"category_name\": \"No_of_videos\"}, inplace=True)\n",
    "\n",
    "fig, ax = plt.subplots()\n",
    "_ = sns.barplot(x=\"category_name\", y=\"No_of_videos\", data=cdf, \n",
    "                palette=sns.cubehelix_palette(n_colors=colors, reverse=True), ax=ax)\n",
    "_ = ax.set_xticklabels(ax.get_xticklabels(), rotation=80)\n",
    "_ = ax.set(xlabel=\"Categoria\", ylabel=\"No. de videos\")"
   ]
  },
  {
   "cell_type": "markdown",
   "metadata": {},
   "source": [
    "Es claro que la categoria de Musica es la que continue la mayo"
   ]
  }
 ],
 "metadata": {
  "kernelspec": {
   "display_name": "Python 3.9.6 64-bit",
   "language": "python",
   "name": "python3"
  },
  "language_info": {
   "codemirror_mode": {
    "name": "ipython",
    "version": 3
   },
   "file_extension": ".py",
   "mimetype": "text/x-python",
   "name": "python",
   "nbconvert_exporter": "python",
   "pygments_lexer": "ipython3",
   "version": "3.9.6"
  },
  "orig_nbformat": 4,
  "vscode": {
   "interpreter": {
    "hash": "81794d4967e6c3204c66dcd87b604927b115b27c00565d3d43f05ba2f3a2cb0d"
   }
  }
 },
 "nbformat": 4,
 "nbformat_minor": 2
}
