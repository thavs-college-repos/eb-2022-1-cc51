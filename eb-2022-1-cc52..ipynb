{
  "cells": [
    {
      "cell_type": "markdown",
      "metadata": {
        "id": "zD8TS7hB7PcD"
      },
      "source": [
        "# Youtube data analysis\n",
        "Analisaremos la informacion de youtube en Gran Breta;a analysis\n",
        "\n",
        "## Set Up\n",
        "### Importar Librerias"
      ]
    },
    {
      "cell_type": "code",
      "source": [
        "!apt install gdal-bin python-gdal python3-gdal \n",
        "# Install rtree - Geopandas requirment\n",
        "!apt install python3-rtree \n",
        "# Install Geopandas\n",
        "!pip install --upgrade geopandas\n",
        "# Install descartes - Geopandas requirment\n",
        "!pip install descartes "
      ],
      "metadata": {
        "colab": {
          "base_uri": "https://localhost:8080/"
        },
        "id": "aA82XBYzFEfO",
        "outputId": "ec7ac36f-cb38-42d8-bc86-4cbbf97df98f"
      },
      "execution_count": 1,
      "outputs": [
        {
          "output_type": "stream",
          "name": "stdout",
          "text": [
            "Reading package lists... Done\n",
            "Building dependency tree       \n",
            "Reading state information... Done\n",
            "gdal-bin is already the newest version (2.2.3+dfsg-2).\n",
            "python-gdal is already the newest version (2.2.3+dfsg-2).\n",
            "The following package was automatically installed and is no longer required:\n",
            "  libnvidia-common-460\n",
            "Use 'apt autoremove' to remove it.\n",
            "The following additional packages will be installed:\n",
            "  python3-numpy\n",
            "Suggested packages:\n",
            "  python-numpy-doc python3-nose python3-numpy-dbg\n",
            "The following NEW packages will be installed:\n",
            "  python3-gdal python3-numpy\n",
            "0 upgraded, 2 newly installed, 0 to remove and 49 not upgraded.\n",
            "Need to get 2,288 kB of archives.\n",
            "After this operation, 13.2 MB of additional disk space will be used.\n",
            "Get:1 http://archive.ubuntu.com/ubuntu bionic/main amd64 python3-numpy amd64 1:1.13.3-2ubuntu1 [1,943 kB]\n",
            "Get:2 http://archive.ubuntu.com/ubuntu bionic/universe amd64 python3-gdal amd64 2.2.3+dfsg-2 [346 kB]\n",
            "Fetched 2,288 kB in 1s (1,574 kB/s)\n",
            "Selecting previously unselected package python3-numpy.\n",
            "(Reading database ... 155639 files and directories currently installed.)\n",
            "Preparing to unpack .../python3-numpy_1%3a1.13.3-2ubuntu1_amd64.deb ...\n",
            "Unpacking python3-numpy (1:1.13.3-2ubuntu1) ...\n",
            "Selecting previously unselected package python3-gdal.\n",
            "Preparing to unpack .../python3-gdal_2.2.3+dfsg-2_amd64.deb ...\n",
            "Unpacking python3-gdal (2.2.3+dfsg-2) ...\n",
            "Setting up python3-numpy (1:1.13.3-2ubuntu1) ...\n",
            "Setting up python3-gdal (2.2.3+dfsg-2) ...\n",
            "Processing triggers for man-db (2.8.3-2ubuntu0.1) ...\n",
            "Reading package lists... Done\n",
            "Building dependency tree       \n",
            "Reading state information... Done\n",
            "The following package was automatically installed and is no longer required:\n",
            "  libnvidia-common-460\n",
            "Use 'apt autoremove' to remove it.\n",
            "The following additional packages will be installed:\n",
            "  libspatialindex-c4v5 libspatialindex-dev libspatialindex4v5\n",
            "  python3-pkg-resources\n",
            "Suggested packages:\n",
            "  python3-setuptools\n",
            "The following NEW packages will be installed:\n",
            "  libspatialindex-c4v5 libspatialindex-dev libspatialindex4v5\n",
            "  python3-pkg-resources python3-rtree\n",
            "0 upgraded, 5 newly installed, 0 to remove and 49 not upgraded.\n",
            "Need to get 671 kB of archives.\n",
            "After this operation, 3,948 kB of additional disk space will be used.\n",
            "Get:1 http://archive.ubuntu.com/ubuntu bionic/universe amd64 libspatialindex4v5 amd64 1.8.5-5 [219 kB]\n",
            "Get:2 http://archive.ubuntu.com/ubuntu bionic/universe amd64 libspatialindex-c4v5 amd64 1.8.5-5 [51.7 kB]\n",
            "Get:3 http://archive.ubuntu.com/ubuntu bionic/main amd64 python3-pkg-resources all 39.0.1-2 [98.8 kB]\n",
            "Get:4 http://archive.ubuntu.com/ubuntu bionic/universe amd64 libspatialindex-dev amd64 1.8.5-5 [285 kB]\n",
            "Get:5 http://archive.ubuntu.com/ubuntu bionic/universe amd64 python3-rtree all 0.8.3+ds-1 [16.9 kB]\n",
            "Fetched 671 kB in 1s (495 kB/s)\n",
            "Selecting previously unselected package libspatialindex4v5:amd64.\n",
            "(Reading database ... 156049 files and directories currently installed.)\n",
            "Preparing to unpack .../libspatialindex4v5_1.8.5-5_amd64.deb ...\n",
            "Unpacking libspatialindex4v5:amd64 (1.8.5-5) ...\n",
            "Selecting previously unselected package libspatialindex-c4v5:amd64.\n",
            "Preparing to unpack .../libspatialindex-c4v5_1.8.5-5_amd64.deb ...\n",
            "Unpacking libspatialindex-c4v5:amd64 (1.8.5-5) ...\n",
            "Selecting previously unselected package python3-pkg-resources.\n",
            "Preparing to unpack .../python3-pkg-resources_39.0.1-2_all.deb ...\n",
            "Unpacking python3-pkg-resources (39.0.1-2) ...\n",
            "Selecting previously unselected package libspatialindex-dev:amd64.\n",
            "Preparing to unpack .../libspatialindex-dev_1.8.5-5_amd64.deb ...\n",
            "Unpacking libspatialindex-dev:amd64 (1.8.5-5) ...\n",
            "Selecting previously unselected package python3-rtree.\n",
            "Preparing to unpack .../python3-rtree_0.8.3+ds-1_all.deb ...\n",
            "Unpacking python3-rtree (0.8.3+ds-1) ...\n",
            "Setting up libspatialindex4v5:amd64 (1.8.5-5) ...\n",
            "Setting up python3-pkg-resources (39.0.1-2) ...\n",
            "Setting up libspatialindex-c4v5:amd64 (1.8.5-5) ...\n",
            "Setting up libspatialindex-dev:amd64 (1.8.5-5) ...\n",
            "Setting up python3-rtree (0.8.3+ds-1) ...\n",
            "Processing triggers for libc-bin (2.27-3ubuntu1.3) ...\n",
            "/sbin/ldconfig.real: /usr/local/lib/python3.7/dist-packages/ideep4py/lib/libmkldnn.so.0 is not a symbolic link\n",
            "\n",
            "Looking in indexes: https://pypi.org/simple, https://us-python.pkg.dev/colab-wheels/public/simple/\n",
            "Collecting geopandas\n",
            "  Downloading geopandas-0.10.2-py2.py3-none-any.whl (1.0 MB)\n",
            "\u001b[K     |████████████████████████████████| 1.0 MB 6.8 MB/s \n",
            "\u001b[?25hCollecting fiona>=1.8\n",
            "  Downloading Fiona-1.8.21-cp37-cp37m-manylinux2014_x86_64.whl (16.7 MB)\n",
            "\u001b[K     |████████████████████████████████| 16.7 MB 34.8 MB/s \n",
            "\u001b[?25hRequirement already satisfied: pandas>=0.25.0 in /usr/local/lib/python3.7/dist-packages (from geopandas) (1.3.5)\n",
            "Collecting pyproj>=2.2.0\n",
            "  Downloading pyproj-3.2.1-cp37-cp37m-manylinux2010_x86_64.whl (6.3 MB)\n",
            "\u001b[K     |████████████████████████████████| 6.3 MB 28.1 MB/s \n",
            "\u001b[?25hRequirement already satisfied: shapely>=1.6 in /usr/local/lib/python3.7/dist-packages (from geopandas) (1.8.2)\n",
            "Requirement already satisfied: certifi in /usr/local/lib/python3.7/dist-packages (from fiona>=1.8->geopandas) (2022.6.15)\n",
            "Requirement already satisfied: six>=1.7 in /usr/local/lib/python3.7/dist-packages (from fiona>=1.8->geopandas) (1.15.0)\n",
            "Requirement already satisfied: attrs>=17 in /usr/local/lib/python3.7/dist-packages (from fiona>=1.8->geopandas) (21.4.0)\n",
            "Collecting click-plugins>=1.0\n",
            "  Downloading click_plugins-1.1.1-py2.py3-none-any.whl (7.5 kB)\n",
            "Requirement already satisfied: setuptools in /usr/local/lib/python3.7/dist-packages (from fiona>=1.8->geopandas) (57.4.0)\n",
            "Collecting munch\n",
            "  Downloading munch-2.5.0-py2.py3-none-any.whl (10 kB)\n",
            "Requirement already satisfied: click>=4.0 in /usr/local/lib/python3.7/dist-packages (from fiona>=1.8->geopandas) (7.1.2)\n",
            "Collecting cligj>=0.5\n",
            "  Downloading cligj-0.7.2-py3-none-any.whl (7.1 kB)\n",
            "Requirement already satisfied: numpy>=1.17.3 in /usr/local/lib/python3.7/dist-packages (from pandas>=0.25.0->geopandas) (1.21.6)\n",
            "Requirement already satisfied: pytz>=2017.3 in /usr/local/lib/python3.7/dist-packages (from pandas>=0.25.0->geopandas) (2022.1)\n",
            "Requirement already satisfied: python-dateutil>=2.7.3 in /usr/local/lib/python3.7/dist-packages (from pandas>=0.25.0->geopandas) (2.8.2)\n",
            "Installing collected packages: munch, cligj, click-plugins, pyproj, fiona, geopandas\n",
            "Successfully installed click-plugins-1.1.1 cligj-0.7.2 fiona-1.8.21 geopandas-0.10.2 munch-2.5.0 pyproj-3.2.1\n",
            "Looking in indexes: https://pypi.org/simple, https://us-python.pkg.dev/colab-wheels/public/simple/\n",
            "Requirement already satisfied: descartes in /usr/local/lib/python3.7/dist-packages (1.1.0)\n",
            "Requirement already satisfied: matplotlib in /usr/local/lib/python3.7/dist-packages (from descartes) (3.2.2)\n",
            "Requirement already satisfied: numpy>=1.11 in /usr/local/lib/python3.7/dist-packages (from matplotlib->descartes) (1.21.6)\n",
            "Requirement already satisfied: pyparsing!=2.0.4,!=2.1.2,!=2.1.6,>=2.0.1 in /usr/local/lib/python3.7/dist-packages (from matplotlib->descartes) (3.0.9)\n",
            "Requirement already satisfied: cycler>=0.10 in /usr/local/lib/python3.7/dist-packages (from matplotlib->descartes) (0.11.0)\n",
            "Requirement already satisfied: python-dateutil>=2.1 in /usr/local/lib/python3.7/dist-packages (from matplotlib->descartes) (2.8.2)\n",
            "Requirement already satisfied: kiwisolver>=1.0.1 in /usr/local/lib/python3.7/dist-packages (from matplotlib->descartes) (1.4.3)\n",
            "Requirement already satisfied: typing-extensions in /usr/local/lib/python3.7/dist-packages (from kiwisolver>=1.0.1->matplotlib->descartes) (4.1.1)\n",
            "Requirement already satisfied: six>=1.5 in /usr/local/lib/python3.7/dist-packages (from python-dateutil>=2.1->matplotlib->descartes) (1.15.0)\n"
          ]
        }
      ]
    },
    {
      "cell_type": "code",
      "execution_count": 42,
      "metadata": {
        "id": "hph4rAuN7PcE"
      },
      "outputs": [],
      "source": [
        "import os\n",
        "import csv\n",
        "import json\n",
        "\n",
        "import numpy as np\n",
        "import pandas as pd\n",
        "import geopandas as gpd\n",
        "%matplotlib inline\n",
        "\n",
        "import seaborn as sns\n",
        "import scipy.stats as stats\n",
        "import plotly.express as px\n",
        "from matplotlib import pyplot as plt\n",
        "from sklearn.model_selection import train_test_split\n",
        "from sklearn.ensemble import  GradientBoostingClassifier\n",
        "from sklearn.metrics import classification_report, confusion_matrix\n",
        "from sklearn.metrics import plot_confusion_matrix\n",
        "from sklearn.metrics import roc_curve, auc, roc_auc_score\n",
        "from sklearn.preprocessing import StandardScaler\n",
        "from sklearn.preprocessing import LabelEncoder\n",
        "from sklearn.model_selection import cross_val_score\n",
        "from sklearn.model_selection import GridSearchCV"
      ]
    },
    {
      "cell_type": "code",
      "source": [
        "_mapbox_token = 'pk.eyJ1IjoidTIwMTcyNDQyMyIsImEiOiJjbDN2eHZpaDgwMHdrM2txcHd5YzlwempxIn0.iDkPaJgRqFMJjiBW8_gVEQ'\n",
        "\n",
        "px.set_mapbox_access_token(_mapbox_token)"
      ],
      "metadata": {
        "id": "d9Vr6twI3ipp"
      },
      "execution_count": 3,
      "outputs": []
    },
    {
      "cell_type": "markdown",
      "metadata": {
        "id": "5d-p9ukg7PcF"
      },
      "source": [
        "### Hoja de estilos"
      ]
    },
    {
      "cell_type": "code",
      "execution_count": 4,
      "metadata": {
        "id": "YGCGENfJ7PcF"
      },
      "outputs": [],
      "source": [
        "pd.options.display.float_format = '{:.2f}'.format # format floats to 2 decimal places in output\n",
        "\n",
        "sns.set(style=\"ticks\")\n",
        "plt.style.use('https://github.com/dhaitz/matplotlib-stylesheets/raw/master/pitayasmoothie-dark.mplstyle')\n"
      ]
    },
    {
      "cell_type": "markdown",
      "metadata": {
        "id": "SRd49xPi7PcG"
      },
      "source": [
        "### Cargar datos"
      ]
    },
    {
      "cell_type": "code",
      "execution_count": 5,
      "metadata": {
        "id": "fVPYVd1r7PcG"
      },
      "outputs": [],
      "source": [
        "df = pd.read_csv('https://raw.githubusercontent.com/thavs-college-repos/eb-2022-1-cc51/main/data/GBvideos_cc50.csv', quotechar='\"')"
      ]
    },
    {
      "cell_type": "markdown",
      "metadata": {
        "id": "HmNXfv4z7PcG"
      },
      "source": [
        "### Inspeccionar los datos"
      ]
    },
    {
      "cell_type": "code",
      "execution_count": 6,
      "metadata": {
        "colab": {
          "base_uri": "https://localhost:8080/",
          "height": 600
        },
        "id": "F8laP1ty7PcH",
        "outputId": "666d021f-3915-4018-ec06-29f716438844"
      },
      "outputs": [
        {
          "output_type": "execute_result",
          "data": {
            "text/plain": [
              "      video_id trending_date  \\\n",
              "0  Jw1Y-zhQURU      17.14.11   \n",
              "1  3s1rvMFUweQ      17.14.11   \n",
              "2  n1WpP7iowLc      17.14.11   \n",
              "3  PUTEiSjKwJU      17.14.11   \n",
              "4  rHwDegptbI4      17.14.11   \n",
              "\n",
              "                                               title  \\\n",
              "0      John Lewis Christmas Ad 2017 - #MozTheMonster   \n",
              "1          Taylor Swift: …Ready for It? (Live) - SNL   \n",
              "2         Eminem - Walk On Water (Audio) ft. Beyoncé   \n",
              "3  Goals from Salford City vs Class of 92 and Fri...   \n",
              "4  Dashcam captures truck's near miss with child ...   \n",
              "\n",
              "                channel_title  category_id              publish_time  \\\n",
              "0                  John Lewis           26  2017-11-10T07:38:29.000Z   \n",
              "1         Saturday Night Live           24  2017-11-12T06:24:44.000Z   \n",
              "2                  EminemVEVO           10  2017-11-10T17:00:03.000Z   \n",
              "3  Salford City Football Club           17  2017-11-13T02:30:38.000Z   \n",
              "4            Cute Girl Videos           25  2017-11-13T01:45:13.000Z   \n",
              "\n",
              "                                                tags     views   likes  \\\n",
              "0  christmas|\"john lewis christmas\"|\"john lewis\"|...   7224515   55681   \n",
              "1  SNL|\"Saturday Night Live\"|\"SNL Season 43\"|\"Epi...   1053632   25561   \n",
              "2  Eminem|\"Walk\"|\"On\"|\"Water\"|\"Aftermath/Shady/In...  17158579  787420   \n",
              "3  Salford City FC|\"Salford City\"|\"Salford\"|\"Clas...     27833     193   \n",
              "4                                             [none]      9815      30   \n",
              "\n",
              "   dislikes  comment_count                                  thumbnail_link  \\\n",
              "0     10247           9479  https://i.ytimg.com/vi/Jw1Y-zhQURU/default.jpg   \n",
              "1      2294           2757  https://i.ytimg.com/vi/3s1rvMFUweQ/default.jpg   \n",
              "2     43420         125882  https://i.ytimg.com/vi/n1WpP7iowLc/default.jpg   \n",
              "3        12             37  https://i.ytimg.com/vi/PUTEiSjKwJU/default.jpg   \n",
              "4         2             30  https://i.ytimg.com/vi/rHwDegptbI4/default.jpg   \n",
              "\n",
              "   comments_disabled  ratings_disabled  video_error_or_removed  \\\n",
              "0              False             False                   False   \n",
              "1              False             False                   False   \n",
              "2              False             False                   False   \n",
              "3              False             False                   False   \n",
              "4              False             False                   False   \n",
              "\n",
              "                                         description  \\\n",
              "0  Click here to continue the story and make your...   \n",
              "1  Musical guest Taylor Swift performs …Ready for...   \n",
              "2  Eminem's new track Walk on Water ft. Beyoncé i...   \n",
              "3  Salford drew 4-4 against the Class of 92 and F...   \n",
              "4  Dashcam captures truck's near miss with child ...   \n",
              "\n",
              "                          state   lat   lon                          geometry  \n",
              "0                         Devon 50.70 -3.53  POINT (-3.529950197 50.70040529)  \n",
              "1                    Manchester 53.50 -2.25  POINT (-2.247987103 53.50041526)  \n",
              "2  Bath And North East Somerset 51.38 -2.35   POINT (-2.350022218 51.3837486)  \n",
              "3                      Aberdeen 57.17 -2.08  POINT (-2.079987021 57.17039797)  \n",
              "4                   Southampton 50.90 -1.40  POINT (-1.399976849 50.90003135)  "
            ],
            "text/html": [
              "\n",
              "  <div id=\"df-dc043468-89fe-4d38-ae00-5cb3401842e8\">\n",
              "    <div class=\"colab-df-container\">\n",
              "      <div>\n",
              "<style scoped>\n",
              "    .dataframe tbody tr th:only-of-type {\n",
              "        vertical-align: middle;\n",
              "    }\n",
              "\n",
              "    .dataframe tbody tr th {\n",
              "        vertical-align: top;\n",
              "    }\n",
              "\n",
              "    .dataframe thead th {\n",
              "        text-align: right;\n",
              "    }\n",
              "</style>\n",
              "<table border=\"1\" class=\"dataframe\">\n",
              "  <thead>\n",
              "    <tr style=\"text-align: right;\">\n",
              "      <th></th>\n",
              "      <th>video_id</th>\n",
              "      <th>trending_date</th>\n",
              "      <th>title</th>\n",
              "      <th>channel_title</th>\n",
              "      <th>category_id</th>\n",
              "      <th>publish_time</th>\n",
              "      <th>tags</th>\n",
              "      <th>views</th>\n",
              "      <th>likes</th>\n",
              "      <th>dislikes</th>\n",
              "      <th>comment_count</th>\n",
              "      <th>thumbnail_link</th>\n",
              "      <th>comments_disabled</th>\n",
              "      <th>ratings_disabled</th>\n",
              "      <th>video_error_or_removed</th>\n",
              "      <th>description</th>\n",
              "      <th>state</th>\n",
              "      <th>lat</th>\n",
              "      <th>lon</th>\n",
              "      <th>geometry</th>\n",
              "    </tr>\n",
              "  </thead>\n",
              "  <tbody>\n",
              "    <tr>\n",
              "      <th>0</th>\n",
              "      <td>Jw1Y-zhQURU</td>\n",
              "      <td>17.14.11</td>\n",
              "      <td>John Lewis Christmas Ad 2017 - #MozTheMonster</td>\n",
              "      <td>John Lewis</td>\n",
              "      <td>26</td>\n",
              "      <td>2017-11-10T07:38:29.000Z</td>\n",
              "      <td>christmas|\"john lewis christmas\"|\"john lewis\"|...</td>\n",
              "      <td>7224515</td>\n",
              "      <td>55681</td>\n",
              "      <td>10247</td>\n",
              "      <td>9479</td>\n",
              "      <td>https://i.ytimg.com/vi/Jw1Y-zhQURU/default.jpg</td>\n",
              "      <td>False</td>\n",
              "      <td>False</td>\n",
              "      <td>False</td>\n",
              "      <td>Click here to continue the story and make your...</td>\n",
              "      <td>Devon</td>\n",
              "      <td>50.70</td>\n",
              "      <td>-3.53</td>\n",
              "      <td>POINT (-3.529950197 50.70040529)</td>\n",
              "    </tr>\n",
              "    <tr>\n",
              "      <th>1</th>\n",
              "      <td>3s1rvMFUweQ</td>\n",
              "      <td>17.14.11</td>\n",
              "      <td>Taylor Swift: …Ready for It? (Live) - SNL</td>\n",
              "      <td>Saturday Night Live</td>\n",
              "      <td>24</td>\n",
              "      <td>2017-11-12T06:24:44.000Z</td>\n",
              "      <td>SNL|\"Saturday Night Live\"|\"SNL Season 43\"|\"Epi...</td>\n",
              "      <td>1053632</td>\n",
              "      <td>25561</td>\n",
              "      <td>2294</td>\n",
              "      <td>2757</td>\n",
              "      <td>https://i.ytimg.com/vi/3s1rvMFUweQ/default.jpg</td>\n",
              "      <td>False</td>\n",
              "      <td>False</td>\n",
              "      <td>False</td>\n",
              "      <td>Musical guest Taylor Swift performs …Ready for...</td>\n",
              "      <td>Manchester</td>\n",
              "      <td>53.50</td>\n",
              "      <td>-2.25</td>\n",
              "      <td>POINT (-2.247987103 53.50041526)</td>\n",
              "    </tr>\n",
              "    <tr>\n",
              "      <th>2</th>\n",
              "      <td>n1WpP7iowLc</td>\n",
              "      <td>17.14.11</td>\n",
              "      <td>Eminem - Walk On Water (Audio) ft. Beyoncé</td>\n",
              "      <td>EminemVEVO</td>\n",
              "      <td>10</td>\n",
              "      <td>2017-11-10T17:00:03.000Z</td>\n",
              "      <td>Eminem|\"Walk\"|\"On\"|\"Water\"|\"Aftermath/Shady/In...</td>\n",
              "      <td>17158579</td>\n",
              "      <td>787420</td>\n",
              "      <td>43420</td>\n",
              "      <td>125882</td>\n",
              "      <td>https://i.ytimg.com/vi/n1WpP7iowLc/default.jpg</td>\n",
              "      <td>False</td>\n",
              "      <td>False</td>\n",
              "      <td>False</td>\n",
              "      <td>Eminem's new track Walk on Water ft. Beyoncé i...</td>\n",
              "      <td>Bath And North East Somerset</td>\n",
              "      <td>51.38</td>\n",
              "      <td>-2.35</td>\n",
              "      <td>POINT (-2.350022218 51.3837486)</td>\n",
              "    </tr>\n",
              "    <tr>\n",
              "      <th>3</th>\n",
              "      <td>PUTEiSjKwJU</td>\n",
              "      <td>17.14.11</td>\n",
              "      <td>Goals from Salford City vs Class of 92 and Fri...</td>\n",
              "      <td>Salford City Football Club</td>\n",
              "      <td>17</td>\n",
              "      <td>2017-11-13T02:30:38.000Z</td>\n",
              "      <td>Salford City FC|\"Salford City\"|\"Salford\"|\"Clas...</td>\n",
              "      <td>27833</td>\n",
              "      <td>193</td>\n",
              "      <td>12</td>\n",
              "      <td>37</td>\n",
              "      <td>https://i.ytimg.com/vi/PUTEiSjKwJU/default.jpg</td>\n",
              "      <td>False</td>\n",
              "      <td>False</td>\n",
              "      <td>False</td>\n",
              "      <td>Salford drew 4-4 against the Class of 92 and F...</td>\n",
              "      <td>Aberdeen</td>\n",
              "      <td>57.17</td>\n",
              "      <td>-2.08</td>\n",
              "      <td>POINT (-2.079987021 57.17039797)</td>\n",
              "    </tr>\n",
              "    <tr>\n",
              "      <th>4</th>\n",
              "      <td>rHwDegptbI4</td>\n",
              "      <td>17.14.11</td>\n",
              "      <td>Dashcam captures truck's near miss with child ...</td>\n",
              "      <td>Cute Girl Videos</td>\n",
              "      <td>25</td>\n",
              "      <td>2017-11-13T01:45:13.000Z</td>\n",
              "      <td>[none]</td>\n",
              "      <td>9815</td>\n",
              "      <td>30</td>\n",
              "      <td>2</td>\n",
              "      <td>30</td>\n",
              "      <td>https://i.ytimg.com/vi/rHwDegptbI4/default.jpg</td>\n",
              "      <td>False</td>\n",
              "      <td>False</td>\n",
              "      <td>False</td>\n",
              "      <td>Dashcam captures truck's near miss with child ...</td>\n",
              "      <td>Southampton</td>\n",
              "      <td>50.90</td>\n",
              "      <td>-1.40</td>\n",
              "      <td>POINT (-1.399976849 50.90003135)</td>\n",
              "    </tr>\n",
              "  </tbody>\n",
              "</table>\n",
              "</div>\n",
              "      <button class=\"colab-df-convert\" onclick=\"convertToInteractive('df-dc043468-89fe-4d38-ae00-5cb3401842e8')\"\n",
              "              title=\"Convert this dataframe to an interactive table.\"\n",
              "              style=\"display:none;\">\n",
              "        \n",
              "  <svg xmlns=\"http://www.w3.org/2000/svg\" height=\"24px\"viewBox=\"0 0 24 24\"\n",
              "       width=\"24px\">\n",
              "    <path d=\"M0 0h24v24H0V0z\" fill=\"none\"/>\n",
              "    <path d=\"M18.56 5.44l.94 2.06.94-2.06 2.06-.94-2.06-.94-.94-2.06-.94 2.06-2.06.94zm-11 1L8.5 8.5l.94-2.06 2.06-.94-2.06-.94L8.5 2.5l-.94 2.06-2.06.94zm10 10l.94 2.06.94-2.06 2.06-.94-2.06-.94-.94-2.06-.94 2.06-2.06.94z\"/><path d=\"M17.41 7.96l-1.37-1.37c-.4-.4-.92-.59-1.43-.59-.52 0-1.04.2-1.43.59L10.3 9.45l-7.72 7.72c-.78.78-.78 2.05 0 2.83L4 21.41c.39.39.9.59 1.41.59.51 0 1.02-.2 1.41-.59l7.78-7.78 2.81-2.81c.8-.78.8-2.07 0-2.86zM5.41 20L4 18.59l7.72-7.72 1.47 1.35L5.41 20z\"/>\n",
              "  </svg>\n",
              "      </button>\n",
              "      \n",
              "  <style>\n",
              "    .colab-df-container {\n",
              "      display:flex;\n",
              "      flex-wrap:wrap;\n",
              "      gap: 12px;\n",
              "    }\n",
              "\n",
              "    .colab-df-convert {\n",
              "      background-color: #E8F0FE;\n",
              "      border: none;\n",
              "      border-radius: 50%;\n",
              "      cursor: pointer;\n",
              "      display: none;\n",
              "      fill: #1967D2;\n",
              "      height: 32px;\n",
              "      padding: 0 0 0 0;\n",
              "      width: 32px;\n",
              "    }\n",
              "\n",
              "    .colab-df-convert:hover {\n",
              "      background-color: #E2EBFA;\n",
              "      box-shadow: 0px 1px 2px rgba(60, 64, 67, 0.3), 0px 1px 3px 1px rgba(60, 64, 67, 0.15);\n",
              "      fill: #174EA6;\n",
              "    }\n",
              "\n",
              "    [theme=dark] .colab-df-convert {\n",
              "      background-color: #3B4455;\n",
              "      fill: #D2E3FC;\n",
              "    }\n",
              "\n",
              "    [theme=dark] .colab-df-convert:hover {\n",
              "      background-color: #434B5C;\n",
              "      box-shadow: 0px 1px 3px 1px rgba(0, 0, 0, 0.15);\n",
              "      filter: drop-shadow(0px 1px 2px rgba(0, 0, 0, 0.3));\n",
              "      fill: #FFFFFF;\n",
              "    }\n",
              "  </style>\n",
              "\n",
              "      <script>\n",
              "        const buttonEl =\n",
              "          document.querySelector('#df-dc043468-89fe-4d38-ae00-5cb3401842e8 button.colab-df-convert');\n",
              "        buttonEl.style.display =\n",
              "          google.colab.kernel.accessAllowed ? 'block' : 'none';\n",
              "\n",
              "        async function convertToInteractive(key) {\n",
              "          const element = document.querySelector('#df-dc043468-89fe-4d38-ae00-5cb3401842e8');\n",
              "          const dataTable =\n",
              "            await google.colab.kernel.invokeFunction('convertToInteractive',\n",
              "                                                     [key], {});\n",
              "          if (!dataTable) return;\n",
              "\n",
              "          const docLinkHtml = 'Like what you see? Visit the ' +\n",
              "            '<a target=\"_blank\" href=https://colab.research.google.com/notebooks/data_table.ipynb>data table notebook</a>'\n",
              "            + ' to learn more about interactive tables.';\n",
              "          element.innerHTML = '';\n",
              "          dataTable['output_type'] = 'display_data';\n",
              "          await google.colab.output.renderOutput(dataTable, element);\n",
              "          const docLink = document.createElement('div');\n",
              "          docLink.innerHTML = docLinkHtml;\n",
              "          element.appendChild(docLink);\n",
              "        }\n",
              "      </script>\n",
              "    </div>\n",
              "  </div>\n",
              "  "
            ]
          },
          "metadata": {},
          "execution_count": 6
        }
      ],
      "source": [
        "# Ver las primeras columnas de datos\n",
        "df.head()"
      ]
    },
    {
      "cell_type": "code",
      "execution_count": 7,
      "metadata": {
        "colab": {
          "base_uri": "https://localhost:8080/"
        },
        "id": "SYhZWnPg7PcI",
        "outputId": "18bbe897-d359-4bfd-fe76-44b8ec169fbd"
      },
      "outputs": [
        {
          "output_type": "stream",
          "name": "stdout",
          "text": [
            "<class 'pandas.core.frame.DataFrame'>\n",
            "RangeIndex: 38916 entries, 0 to 38915\n",
            "Data columns (total 20 columns):\n",
            " #   Column                  Non-Null Count  Dtype  \n",
            "---  ------                  --------------  -----  \n",
            " 0   video_id                38916 non-null  object \n",
            " 1   trending_date           38916 non-null  object \n",
            " 2   title                   38916 non-null  object \n",
            " 3   channel_title           38916 non-null  object \n",
            " 4   category_id             38916 non-null  int64  \n",
            " 5   publish_time            38916 non-null  object \n",
            " 6   tags                    38916 non-null  object \n",
            " 7   views                   38916 non-null  int64  \n",
            " 8   likes                   38916 non-null  int64  \n",
            " 9   dislikes                38916 non-null  int64  \n",
            " 10  comment_count           38916 non-null  int64  \n",
            " 11  thumbnail_link          38916 non-null  object \n",
            " 12  comments_disabled       38916 non-null  bool   \n",
            " 13  ratings_disabled        38916 non-null  bool   \n",
            " 14  video_error_or_removed  38916 non-null  bool   \n",
            " 15  description             38304 non-null  object \n",
            " 16  state                   38916 non-null  object \n",
            " 17  lat                     38916 non-null  float64\n",
            " 18  lon                     38916 non-null  float64\n",
            " 19  geometry                38916 non-null  object \n",
            "dtypes: bool(3), float64(2), int64(5), object(10)\n",
            "memory usage: 5.2+ MB\n"
          ]
        }
      ],
      "source": [
        "# Informacion del dataframe\n",
        "df.info()"
      ]
    },
    {
      "cell_type": "markdown",
      "metadata": {
        "id": "8wVsI8fo7PcI"
      },
      "source": [
        "Podemos ver que el dataset tiene `38.916` elementos. Y tambien se evidencia que todas las columnas estan completas a excepcion de la `description` pues muestra `38.304` valores. "
      ]
    },
    {
      "cell_type": "code",
      "execution_count": 8,
      "metadata": {
        "colab": {
          "base_uri": "https://localhost:8080/",
          "height": 300
        },
        "id": "nzPkp9TE7PcJ",
        "outputId": "7ac8e7ed-53d2-4428-921b-7546c8613818"
      },
      "outputs": [
        {
          "output_type": "execute_result",
          "data": {
            "text/plain": [
              "       category_id        views      likes   dislikes  comment_count      lat  \\\n",
              "count     38916.00     38916.00   38916.00   38916.00       38916.00 38916.00   \n",
              "mean         16.83   5911943.63  134519.55    7612.56       13088.35    53.38   \n",
              "std           7.75  19001209.95  349989.31   50956.83       50667.40     2.04   \n",
              "min           1.00       851.00       0.00       0.00           0.00    50.13   \n",
              "25%          10.00    251527.25    5897.00     200.00         679.00    51.50   \n",
              "50%          20.00    981889.00   25182.50     821.00        2478.00    53.20   \n",
              "75%          24.00   3683628.50  114089.25    3357.50        9241.50    54.88   \n",
              "max          43.00 424538912.00 5613827.00 1944971.00     1626501.00    58.97   \n",
              "\n",
              "           lon  \n",
              "count 38916.00  \n",
              "mean     -2.38  \n",
              "std       2.10  \n",
              "min      -7.33  \n",
              "25%      -3.53  \n",
              "50%      -2.18  \n",
              "75%      -1.08  \n",
              "max       1.30  "
            ],
            "text/html": [
              "\n",
              "  <div id=\"df-36dca0dd-c720-432d-9a81-d5b7ccb3ca00\">\n",
              "    <div class=\"colab-df-container\">\n",
              "      <div>\n",
              "<style scoped>\n",
              "    .dataframe tbody tr th:only-of-type {\n",
              "        vertical-align: middle;\n",
              "    }\n",
              "\n",
              "    .dataframe tbody tr th {\n",
              "        vertical-align: top;\n",
              "    }\n",
              "\n",
              "    .dataframe thead th {\n",
              "        text-align: right;\n",
              "    }\n",
              "</style>\n",
              "<table border=\"1\" class=\"dataframe\">\n",
              "  <thead>\n",
              "    <tr style=\"text-align: right;\">\n",
              "      <th></th>\n",
              "      <th>category_id</th>\n",
              "      <th>views</th>\n",
              "      <th>likes</th>\n",
              "      <th>dislikes</th>\n",
              "      <th>comment_count</th>\n",
              "      <th>lat</th>\n",
              "      <th>lon</th>\n",
              "    </tr>\n",
              "  </thead>\n",
              "  <tbody>\n",
              "    <tr>\n",
              "      <th>count</th>\n",
              "      <td>38916.00</td>\n",
              "      <td>38916.00</td>\n",
              "      <td>38916.00</td>\n",
              "      <td>38916.00</td>\n",
              "      <td>38916.00</td>\n",
              "      <td>38916.00</td>\n",
              "      <td>38916.00</td>\n",
              "    </tr>\n",
              "    <tr>\n",
              "      <th>mean</th>\n",
              "      <td>16.83</td>\n",
              "      <td>5911943.63</td>\n",
              "      <td>134519.55</td>\n",
              "      <td>7612.56</td>\n",
              "      <td>13088.35</td>\n",
              "      <td>53.38</td>\n",
              "      <td>-2.38</td>\n",
              "    </tr>\n",
              "    <tr>\n",
              "      <th>std</th>\n",
              "      <td>7.75</td>\n",
              "      <td>19001209.95</td>\n",
              "      <td>349989.31</td>\n",
              "      <td>50956.83</td>\n",
              "      <td>50667.40</td>\n",
              "      <td>2.04</td>\n",
              "      <td>2.10</td>\n",
              "    </tr>\n",
              "    <tr>\n",
              "      <th>min</th>\n",
              "      <td>1.00</td>\n",
              "      <td>851.00</td>\n",
              "      <td>0.00</td>\n",
              "      <td>0.00</td>\n",
              "      <td>0.00</td>\n",
              "      <td>50.13</td>\n",
              "      <td>-7.33</td>\n",
              "    </tr>\n",
              "    <tr>\n",
              "      <th>25%</th>\n",
              "      <td>10.00</td>\n",
              "      <td>251527.25</td>\n",
              "      <td>5897.00</td>\n",
              "      <td>200.00</td>\n",
              "      <td>679.00</td>\n",
              "      <td>51.50</td>\n",
              "      <td>-3.53</td>\n",
              "    </tr>\n",
              "    <tr>\n",
              "      <th>50%</th>\n",
              "      <td>20.00</td>\n",
              "      <td>981889.00</td>\n",
              "      <td>25182.50</td>\n",
              "      <td>821.00</td>\n",
              "      <td>2478.00</td>\n",
              "      <td>53.20</td>\n",
              "      <td>-2.18</td>\n",
              "    </tr>\n",
              "    <tr>\n",
              "      <th>75%</th>\n",
              "      <td>24.00</td>\n",
              "      <td>3683628.50</td>\n",
              "      <td>114089.25</td>\n",
              "      <td>3357.50</td>\n",
              "      <td>9241.50</td>\n",
              "      <td>54.88</td>\n",
              "      <td>-1.08</td>\n",
              "    </tr>\n",
              "    <tr>\n",
              "      <th>max</th>\n",
              "      <td>43.00</td>\n",
              "      <td>424538912.00</td>\n",
              "      <td>5613827.00</td>\n",
              "      <td>1944971.00</td>\n",
              "      <td>1626501.00</td>\n",
              "      <td>58.97</td>\n",
              "      <td>1.30</td>\n",
              "    </tr>\n",
              "  </tbody>\n",
              "</table>\n",
              "</div>\n",
              "      <button class=\"colab-df-convert\" onclick=\"convertToInteractive('df-36dca0dd-c720-432d-9a81-d5b7ccb3ca00')\"\n",
              "              title=\"Convert this dataframe to an interactive table.\"\n",
              "              style=\"display:none;\">\n",
              "        \n",
              "  <svg xmlns=\"http://www.w3.org/2000/svg\" height=\"24px\"viewBox=\"0 0 24 24\"\n",
              "       width=\"24px\">\n",
              "    <path d=\"M0 0h24v24H0V0z\" fill=\"none\"/>\n",
              "    <path d=\"M18.56 5.44l.94 2.06.94-2.06 2.06-.94-2.06-.94-.94-2.06-.94 2.06-2.06.94zm-11 1L8.5 8.5l.94-2.06 2.06-.94-2.06-.94L8.5 2.5l-.94 2.06-2.06.94zm10 10l.94 2.06.94-2.06 2.06-.94-2.06-.94-.94-2.06-.94 2.06-2.06.94z\"/><path d=\"M17.41 7.96l-1.37-1.37c-.4-.4-.92-.59-1.43-.59-.52 0-1.04.2-1.43.59L10.3 9.45l-7.72 7.72c-.78.78-.78 2.05 0 2.83L4 21.41c.39.39.9.59 1.41.59.51 0 1.02-.2 1.41-.59l7.78-7.78 2.81-2.81c.8-.78.8-2.07 0-2.86zM5.41 20L4 18.59l7.72-7.72 1.47 1.35L5.41 20z\"/>\n",
              "  </svg>\n",
              "      </button>\n",
              "      \n",
              "  <style>\n",
              "    .colab-df-container {\n",
              "      display:flex;\n",
              "      flex-wrap:wrap;\n",
              "      gap: 12px;\n",
              "    }\n",
              "\n",
              "    .colab-df-convert {\n",
              "      background-color: #E8F0FE;\n",
              "      border: none;\n",
              "      border-radius: 50%;\n",
              "      cursor: pointer;\n",
              "      display: none;\n",
              "      fill: #1967D2;\n",
              "      height: 32px;\n",
              "      padding: 0 0 0 0;\n",
              "      width: 32px;\n",
              "    }\n",
              "\n",
              "    .colab-df-convert:hover {\n",
              "      background-color: #E2EBFA;\n",
              "      box-shadow: 0px 1px 2px rgba(60, 64, 67, 0.3), 0px 1px 3px 1px rgba(60, 64, 67, 0.15);\n",
              "      fill: #174EA6;\n",
              "    }\n",
              "\n",
              "    [theme=dark] .colab-df-convert {\n",
              "      background-color: #3B4455;\n",
              "      fill: #D2E3FC;\n",
              "    }\n",
              "\n",
              "    [theme=dark] .colab-df-convert:hover {\n",
              "      background-color: #434B5C;\n",
              "      box-shadow: 0px 1px 3px 1px rgba(0, 0, 0, 0.15);\n",
              "      filter: drop-shadow(0px 1px 2px rgba(0, 0, 0, 0.3));\n",
              "      fill: #FFFFFF;\n",
              "    }\n",
              "  </style>\n",
              "\n",
              "      <script>\n",
              "        const buttonEl =\n",
              "          document.querySelector('#df-36dca0dd-c720-432d-9a81-d5b7ccb3ca00 button.colab-df-convert');\n",
              "        buttonEl.style.display =\n",
              "          google.colab.kernel.accessAllowed ? 'block' : 'none';\n",
              "\n",
              "        async function convertToInteractive(key) {\n",
              "          const element = document.querySelector('#df-36dca0dd-c720-432d-9a81-d5b7ccb3ca00');\n",
              "          const dataTable =\n",
              "            await google.colab.kernel.invokeFunction('convertToInteractive',\n",
              "                                                     [key], {});\n",
              "          if (!dataTable) return;\n",
              "\n",
              "          const docLinkHtml = 'Like what you see? Visit the ' +\n",
              "            '<a target=\"_blank\" href=https://colab.research.google.com/notebooks/data_table.ipynb>data table notebook</a>'\n",
              "            + ' to learn more about interactive tables.';\n",
              "          element.innerHTML = '';\n",
              "          dataTable['output_type'] = 'display_data';\n",
              "          await google.colab.output.renderOutput(dataTable, element);\n",
              "          const docLink = document.createElement('div');\n",
              "          docLink.innerHTML = docLinkHtml;\n",
              "          element.appendChild(docLink);\n",
              "        }\n",
              "      </script>\n",
              "    </div>\n",
              "  </div>\n",
              "  "
            ]
          },
          "metadata": {},
          "execution_count": 8
        }
      ],
      "source": [
        "# Visualizar la informacion estadistica del dataframe\n",
        "df.describe()"
      ]
    },
    {
      "cell_type": "markdown",
      "metadata": {
        "id": "4xBfcYfS7PcJ"
      },
      "source": [
        "Podemos analizar en esta tabla:\n",
        "* En promedio un video en trending tiene `5.911.943` vistas. La media para la vistas es `981.889` es decir, el 50% de los videos tienen mas de este valor y el otro tiene menos. \n",
        "* El promedio de comentarios en estos video son `13.088` y la media es `2.478` \n",
        "* En promedio videos en tendencias tienen en promedio `134.519` me gustas y `7.612` no me gusta."
      ]
    },
    {
      "cell_type": "markdown",
      "metadata": {
        "id": "1UTRvY2o7PcJ"
      },
      "source": [
        "## Pre-procesar los datos\n",
        "\n",
        "### Modificar valores vacios\n",
        "\n",
        "Como mostramos previamente, la columna `description` contiene algunos valores nulos. Por ello debemos verificar y limpiar estas columnas antes de analizar el dataset. "
      ]
    },
    {
      "cell_type": "code",
      "execution_count": 9,
      "metadata": {
        "colab": {
          "base_uri": "https://localhost:8080/",
          "height": 280
        },
        "id": "oeSSrIr07PcK",
        "outputId": "e3cd55c8-b0cf-41ca-ee3e-5e89e73378fd"
      },
      "outputs": [
        {
          "output_type": "execute_result",
          "data": {
            "text/plain": [
              "        video_id trending_date                    title  channel_title  \\\n",
              "91   _wM_jY_rass      17.14.11        Bone on Labour HQ  Ross Kempsell   \n",
              "118  8HON4AswPVk      17.14.11  Arvo Pärt - Tabula Rasa      JSaxofone   \n",
              "\n",
              "     category_id              publish_time  \\\n",
              "91            25  2017-11-06T16:12:58.000Z   \n",
              "118           10  2012-09-13T12:35:46.000Z   \n",
              "\n",
              "                                                  tags   views  likes  \\\n",
              "91                                              [none]  159065   1160   \n",
              "118  Arvo|\"Pärt\"|\"Tabula\"|\"Rasa\"|\"part\"|\"violin\"|\"c...  728177   4007   \n",
              "\n",
              "     dislikes  comment_count                                  thumbnail_link  \\\n",
              "91       1164              0  https://i.ytimg.com/vi/_wM_jY_rass/default.jpg   \n",
              "118        71            240  https://i.ytimg.com/vi/8HON4AswPVk/default.jpg   \n",
              "\n",
              "     comments_disabled  ratings_disabled  video_error_or_removed description  \\\n",
              "91                True             False                   False         NaN   \n",
              "118              False             False                   False         NaN   \n",
              "\n",
              "         state   lat   lon                          geometry  \n",
              "91     Bristol 51.45 -2.58  POINT (-2.583315472 51.44999778)  \n",
              "118  Dungannon 54.52 -6.67  POINT (-6.670016929 54.52037884)  "
            ],
            "text/html": [
              "\n",
              "  <div id=\"df-aeadf4b8-948f-4ffc-9703-753d32e36d6e\">\n",
              "    <div class=\"colab-df-container\">\n",
              "      <div>\n",
              "<style scoped>\n",
              "    .dataframe tbody tr th:only-of-type {\n",
              "        vertical-align: middle;\n",
              "    }\n",
              "\n",
              "    .dataframe tbody tr th {\n",
              "        vertical-align: top;\n",
              "    }\n",
              "\n",
              "    .dataframe thead th {\n",
              "        text-align: right;\n",
              "    }\n",
              "</style>\n",
              "<table border=\"1\" class=\"dataframe\">\n",
              "  <thead>\n",
              "    <tr style=\"text-align: right;\">\n",
              "      <th></th>\n",
              "      <th>video_id</th>\n",
              "      <th>trending_date</th>\n",
              "      <th>title</th>\n",
              "      <th>channel_title</th>\n",
              "      <th>category_id</th>\n",
              "      <th>publish_time</th>\n",
              "      <th>tags</th>\n",
              "      <th>views</th>\n",
              "      <th>likes</th>\n",
              "      <th>dislikes</th>\n",
              "      <th>comment_count</th>\n",
              "      <th>thumbnail_link</th>\n",
              "      <th>comments_disabled</th>\n",
              "      <th>ratings_disabled</th>\n",
              "      <th>video_error_or_removed</th>\n",
              "      <th>description</th>\n",
              "      <th>state</th>\n",
              "      <th>lat</th>\n",
              "      <th>lon</th>\n",
              "      <th>geometry</th>\n",
              "    </tr>\n",
              "  </thead>\n",
              "  <tbody>\n",
              "    <tr>\n",
              "      <th>91</th>\n",
              "      <td>_wM_jY_rass</td>\n",
              "      <td>17.14.11</td>\n",
              "      <td>Bone on Labour HQ</td>\n",
              "      <td>Ross Kempsell</td>\n",
              "      <td>25</td>\n",
              "      <td>2017-11-06T16:12:58.000Z</td>\n",
              "      <td>[none]</td>\n",
              "      <td>159065</td>\n",
              "      <td>1160</td>\n",
              "      <td>1164</td>\n",
              "      <td>0</td>\n",
              "      <td>https://i.ytimg.com/vi/_wM_jY_rass/default.jpg</td>\n",
              "      <td>True</td>\n",
              "      <td>False</td>\n",
              "      <td>False</td>\n",
              "      <td>NaN</td>\n",
              "      <td>Bristol</td>\n",
              "      <td>51.45</td>\n",
              "      <td>-2.58</td>\n",
              "      <td>POINT (-2.583315472 51.44999778)</td>\n",
              "    </tr>\n",
              "    <tr>\n",
              "      <th>118</th>\n",
              "      <td>8HON4AswPVk</td>\n",
              "      <td>17.14.11</td>\n",
              "      <td>Arvo Pärt - Tabula Rasa</td>\n",
              "      <td>JSaxofone</td>\n",
              "      <td>10</td>\n",
              "      <td>2012-09-13T12:35:46.000Z</td>\n",
              "      <td>Arvo|\"Pärt\"|\"Tabula\"|\"Rasa\"|\"part\"|\"violin\"|\"c...</td>\n",
              "      <td>728177</td>\n",
              "      <td>4007</td>\n",
              "      <td>71</td>\n",
              "      <td>240</td>\n",
              "      <td>https://i.ytimg.com/vi/8HON4AswPVk/default.jpg</td>\n",
              "      <td>False</td>\n",
              "      <td>False</td>\n",
              "      <td>False</td>\n",
              "      <td>NaN</td>\n",
              "      <td>Dungannon</td>\n",
              "      <td>54.52</td>\n",
              "      <td>-6.67</td>\n",
              "      <td>POINT (-6.670016929 54.52037884)</td>\n",
              "    </tr>\n",
              "  </tbody>\n",
              "</table>\n",
              "</div>\n",
              "      <button class=\"colab-df-convert\" onclick=\"convertToInteractive('df-aeadf4b8-948f-4ffc-9703-753d32e36d6e')\"\n",
              "              title=\"Convert this dataframe to an interactive table.\"\n",
              "              style=\"display:none;\">\n",
              "        \n",
              "  <svg xmlns=\"http://www.w3.org/2000/svg\" height=\"24px\"viewBox=\"0 0 24 24\"\n",
              "       width=\"24px\">\n",
              "    <path d=\"M0 0h24v24H0V0z\" fill=\"none\"/>\n",
              "    <path d=\"M18.56 5.44l.94 2.06.94-2.06 2.06-.94-2.06-.94-.94-2.06-.94 2.06-2.06.94zm-11 1L8.5 8.5l.94-2.06 2.06-.94-2.06-.94L8.5 2.5l-.94 2.06-2.06.94zm10 10l.94 2.06.94-2.06 2.06-.94-2.06-.94-.94-2.06-.94 2.06-2.06.94z\"/><path d=\"M17.41 7.96l-1.37-1.37c-.4-.4-.92-.59-1.43-.59-.52 0-1.04.2-1.43.59L10.3 9.45l-7.72 7.72c-.78.78-.78 2.05 0 2.83L4 21.41c.39.39.9.59 1.41.59.51 0 1.02-.2 1.41-.59l7.78-7.78 2.81-2.81c.8-.78.8-2.07 0-2.86zM5.41 20L4 18.59l7.72-7.72 1.47 1.35L5.41 20z\"/>\n",
              "  </svg>\n",
              "      </button>\n",
              "      \n",
              "  <style>\n",
              "    .colab-df-container {\n",
              "      display:flex;\n",
              "      flex-wrap:wrap;\n",
              "      gap: 12px;\n",
              "    }\n",
              "\n",
              "    .colab-df-convert {\n",
              "      background-color: #E8F0FE;\n",
              "      border: none;\n",
              "      border-radius: 50%;\n",
              "      cursor: pointer;\n",
              "      display: none;\n",
              "      fill: #1967D2;\n",
              "      height: 32px;\n",
              "      padding: 0 0 0 0;\n",
              "      width: 32px;\n",
              "    }\n",
              "\n",
              "    .colab-df-convert:hover {\n",
              "      background-color: #E2EBFA;\n",
              "      box-shadow: 0px 1px 2px rgba(60, 64, 67, 0.3), 0px 1px 3px 1px rgba(60, 64, 67, 0.15);\n",
              "      fill: #174EA6;\n",
              "    }\n",
              "\n",
              "    [theme=dark] .colab-df-convert {\n",
              "      background-color: #3B4455;\n",
              "      fill: #D2E3FC;\n",
              "    }\n",
              "\n",
              "    [theme=dark] .colab-df-convert:hover {\n",
              "      background-color: #434B5C;\n",
              "      box-shadow: 0px 1px 3px 1px rgba(0, 0, 0, 0.15);\n",
              "      filter: drop-shadow(0px 1px 2px rgba(0, 0, 0, 0.3));\n",
              "      fill: #FFFFFF;\n",
              "    }\n",
              "  </style>\n",
              "\n",
              "      <script>\n",
              "        const buttonEl =\n",
              "          document.querySelector('#df-aeadf4b8-948f-4ffc-9703-753d32e36d6e button.colab-df-convert');\n",
              "        buttonEl.style.display =\n",
              "          google.colab.kernel.accessAllowed ? 'block' : 'none';\n",
              "\n",
              "        async function convertToInteractive(key) {\n",
              "          const element = document.querySelector('#df-aeadf4b8-948f-4ffc-9703-753d32e36d6e');\n",
              "          const dataTable =\n",
              "            await google.colab.kernel.invokeFunction('convertToInteractive',\n",
              "                                                     [key], {});\n",
              "          if (!dataTable) return;\n",
              "\n",
              "          const docLinkHtml = 'Like what you see? Visit the ' +\n",
              "            '<a target=\"_blank\" href=https://colab.research.google.com/notebooks/data_table.ipynb>data table notebook</a>'\n",
              "            + ' to learn more about interactive tables.';\n",
              "          element.innerHTML = '';\n",
              "          dataTable['output_type'] = 'display_data';\n",
              "          await google.colab.output.renderOutput(dataTable, element);\n",
              "          const docLink = document.createElement('div');\n",
              "          docLink.innerHTML = docLinkHtml;\n",
              "          element.appendChild(docLink);\n",
              "        }\n",
              "      </script>\n",
              "    </div>\n",
              "  </div>\n",
              "  "
            ]
          },
          "metadata": {},
          "execution_count": 9
        }
      ],
      "source": [
        "df[df[\"description\"].apply(lambda x: pd.isna(x))].head(2)"
      ]
    },
    {
      "cell_type": "markdown",
      "metadata": {
        "id": "gZcJiQYf7PcK"
      },
      "source": [
        "Para no dejar estos valores como `NA`, es mejor cambiar estoys valores a cadenas vacias."
      ]
    },
    {
      "cell_type": "code",
      "execution_count": 10,
      "metadata": {
        "id": "Q35Bhoz-7PcK"
      },
      "outputs": [],
      "source": [
        "df[\"description\"] = df[\"description\"].fillna(value=\"\") # Fillna con vacio"
      ]
    },
    {
      "cell_type": "markdown",
      "metadata": {
        "id": "yukyF1CW7PcK"
      },
      "source": [
        "### Completar informacion de categorias"
      ]
    },
    {
      "cell_type": "markdown",
      "metadata": {
        "id": "YaDBgNf87PcL"
      },
      "source": [
        "Antes de analizar los datos y para facilitar la visualizacion de datos, uniremos los valores de `category_id` con su representacion en el archivo `GB_category_id.json`. De esta forma no podremos colocar numbero en lugar"
      ]
    },
    {
      "cell_type": "code",
      "execution_count": 11,
      "metadata": {
        "colab": {
          "base_uri": "https://localhost:8080/"
        },
        "id": "hQlNo-817PcL",
        "outputId": "456ed3b4-f4d1-43c7-b53d-be39c3de1f58"
      },
      "outputs": [
        {
          "output_type": "execute_result",
          "data": {
            "text/plain": [
              "0    26\n",
              "1    24\n",
              "Name: category_id, dtype: int64"
            ]
          },
          "metadata": {},
          "execution_count": 11
        }
      ],
      "source": [
        "df['category_id'].head(2)"
      ]
    },
    {
      "cell_type": "code",
      "execution_count": 12,
      "metadata": {
        "id": "Md4KQg6B7PcL"
      },
      "outputs": [],
      "source": [
        "with open(\"data/GB_category_id.json\") as f:\n",
        "    categories = json.load(f)[\"items\"]\n",
        "    \n",
        "cat_dict = {}\n",
        "for cat in categories:\n",
        "    cat_id = int(cat[\"id\"])\n",
        "    cat_dict[cat_id] = cat[\"snippet\"][\"title\"]\n",
        "    \n",
        "df['category_name'] = df['category_id'].map(cat_dict)"
      ]
    },
    {
      "cell_type": "markdown",
      "metadata": {
        "id": "Dgp0FFol7PcL"
      },
      "source": [
        "### Modificar tipos\n",
        "Modificar los tipos de las fechas a "
      ]
    },
    {
      "cell_type": "code",
      "execution_count": 13,
      "metadata": {
        "id": "3-49lQIZ7PcL"
      },
      "outputs": [],
      "source": [
        "df['publish_hour'] = pd.to_datetime(df[\"publish_time\"]).dt.time\n",
        "df['publish_time'] = pd.to_datetime(df[\"publish_time\"]).dt.date\n",
        "df['trending_date'] = pd.to_datetime(df['trending_date'], format='%y.%d.%M').dt.date\n"
      ]
    },
    {
      "cell_type": "markdown",
      "metadata": {
        "id": "Bp9hezQH7PcM"
      },
      "source": [
        "## Visualizar los datos\n"
      ]
    },
    {
      "cell_type": "markdown",
      "source": [
        "### **Por Categorias de Videos**\n",
        "#### 1) ¿Qué categorías de videos son las de mayor tendencia?"
      ],
      "metadata": {
        "id": "VJ_DbFndFGm0"
      }
    },
    {
      "cell_type": "code",
      "execution_count": 14,
      "metadata": {
        "colab": {
          "base_uri": "https://localhost:8080/",
          "height": 206
        },
        "id": "Z8UZ1lVZ7PcM",
        "outputId": "a398fcbc-7e8e-4f32-a147-84f05c707f5b"
      },
      "outputs": [
        {
          "output_type": "execute_result",
          "data": {
            "text/plain": [
              "      category_name  No_of_videos\n",
              "0             Music         13754\n",
              "1     Entertainment          9124\n",
              "2    People & Blogs          2926\n",
              "3  Film & Animation          2577\n",
              "4     Howto & Style          1928"
            ],
            "text/html": [
              "\n",
              "  <div id=\"df-eb6356a2-cd99-4277-bd2a-ed5aa3d6e13f\">\n",
              "    <div class=\"colab-df-container\">\n",
              "      <div>\n",
              "<style scoped>\n",
              "    .dataframe tbody tr th:only-of-type {\n",
              "        vertical-align: middle;\n",
              "    }\n",
              "\n",
              "    .dataframe tbody tr th {\n",
              "        vertical-align: top;\n",
              "    }\n",
              "\n",
              "    .dataframe thead th {\n",
              "        text-align: right;\n",
              "    }\n",
              "</style>\n",
              "<table border=\"1\" class=\"dataframe\">\n",
              "  <thead>\n",
              "    <tr style=\"text-align: right;\">\n",
              "      <th></th>\n",
              "      <th>category_name</th>\n",
              "      <th>No_of_videos</th>\n",
              "    </tr>\n",
              "  </thead>\n",
              "  <tbody>\n",
              "    <tr>\n",
              "      <th>0</th>\n",
              "      <td>Music</td>\n",
              "      <td>13754</td>\n",
              "    </tr>\n",
              "    <tr>\n",
              "      <th>1</th>\n",
              "      <td>Entertainment</td>\n",
              "      <td>9124</td>\n",
              "    </tr>\n",
              "    <tr>\n",
              "      <th>2</th>\n",
              "      <td>People &amp; Blogs</td>\n",
              "      <td>2926</td>\n",
              "    </tr>\n",
              "    <tr>\n",
              "      <th>3</th>\n",
              "      <td>Film &amp; Animation</td>\n",
              "      <td>2577</td>\n",
              "    </tr>\n",
              "    <tr>\n",
              "      <th>4</th>\n",
              "      <td>Howto &amp; Style</td>\n",
              "      <td>1928</td>\n",
              "    </tr>\n",
              "  </tbody>\n",
              "</table>\n",
              "</div>\n",
              "      <button class=\"colab-df-convert\" onclick=\"convertToInteractive('df-eb6356a2-cd99-4277-bd2a-ed5aa3d6e13f')\"\n",
              "              title=\"Convert this dataframe to an interactive table.\"\n",
              "              style=\"display:none;\">\n",
              "        \n",
              "  <svg xmlns=\"http://www.w3.org/2000/svg\" height=\"24px\"viewBox=\"0 0 24 24\"\n",
              "       width=\"24px\">\n",
              "    <path d=\"M0 0h24v24H0V0z\" fill=\"none\"/>\n",
              "    <path d=\"M18.56 5.44l.94 2.06.94-2.06 2.06-.94-2.06-.94-.94-2.06-.94 2.06-2.06.94zm-11 1L8.5 8.5l.94-2.06 2.06-.94-2.06-.94L8.5 2.5l-.94 2.06-2.06.94zm10 10l.94 2.06.94-2.06 2.06-.94-2.06-.94-.94-2.06-.94 2.06-2.06.94z\"/><path d=\"M17.41 7.96l-1.37-1.37c-.4-.4-.92-.59-1.43-.59-.52 0-1.04.2-1.43.59L10.3 9.45l-7.72 7.72c-.78.78-.78 2.05 0 2.83L4 21.41c.39.39.9.59 1.41.59.51 0 1.02-.2 1.41-.59l7.78-7.78 2.81-2.81c.8-.78.8-2.07 0-2.86zM5.41 20L4 18.59l7.72-7.72 1.47 1.35L5.41 20z\"/>\n",
              "  </svg>\n",
              "      </button>\n",
              "      \n",
              "  <style>\n",
              "    .colab-df-container {\n",
              "      display:flex;\n",
              "      flex-wrap:wrap;\n",
              "      gap: 12px;\n",
              "    }\n",
              "\n",
              "    .colab-df-convert {\n",
              "      background-color: #E8F0FE;\n",
              "      border: none;\n",
              "      border-radius: 50%;\n",
              "      cursor: pointer;\n",
              "      display: none;\n",
              "      fill: #1967D2;\n",
              "      height: 32px;\n",
              "      padding: 0 0 0 0;\n",
              "      width: 32px;\n",
              "    }\n",
              "\n",
              "    .colab-df-convert:hover {\n",
              "      background-color: #E2EBFA;\n",
              "      box-shadow: 0px 1px 2px rgba(60, 64, 67, 0.3), 0px 1px 3px 1px rgba(60, 64, 67, 0.15);\n",
              "      fill: #174EA6;\n",
              "    }\n",
              "\n",
              "    [theme=dark] .colab-df-convert {\n",
              "      background-color: #3B4455;\n",
              "      fill: #D2E3FC;\n",
              "    }\n",
              "\n",
              "    [theme=dark] .colab-df-convert:hover {\n",
              "      background-color: #434B5C;\n",
              "      box-shadow: 0px 1px 3px 1px rgba(0, 0, 0, 0.15);\n",
              "      filter: drop-shadow(0px 1px 2px rgba(0, 0, 0, 0.3));\n",
              "      fill: #FFFFFF;\n",
              "    }\n",
              "  </style>\n",
              "\n",
              "      <script>\n",
              "        const buttonEl =\n",
              "          document.querySelector('#df-eb6356a2-cd99-4277-bd2a-ed5aa3d6e13f button.colab-df-convert');\n",
              "        buttonEl.style.display =\n",
              "          google.colab.kernel.accessAllowed ? 'block' : 'none';\n",
              "\n",
              "        async function convertToInteractive(key) {\n",
              "          const element = document.querySelector('#df-eb6356a2-cd99-4277-bd2a-ed5aa3d6e13f');\n",
              "          const dataTable =\n",
              "            await google.colab.kernel.invokeFunction('convertToInteractive',\n",
              "                                                     [key], {});\n",
              "          if (!dataTable) return;\n",
              "\n",
              "          const docLinkHtml = 'Like what you see? Visit the ' +\n",
              "            '<a target=\"_blank\" href=https://colab.research.google.com/notebooks/data_table.ipynb>data table notebook</a>'\n",
              "            + ' to learn more about interactive tables.';\n",
              "          element.innerHTML = '';\n",
              "          dataTable['output_type'] = 'display_data';\n",
              "          await google.colab.output.renderOutput(dataTable, element);\n",
              "          const docLink = document.createElement('div');\n",
              "          docLink.innerHTML = docLinkHtml;\n",
              "          element.appendChild(docLink);\n",
              "        }\n",
              "      </script>\n",
              "    </div>\n",
              "  </div>\n",
              "  "
            ]
          },
          "metadata": {},
          "execution_count": 14
        }
      ],
      "source": [
        "cdf = df[\"category_name\"].value_counts().to_frame().reset_index()\n",
        "cdf.rename(columns={\"index\": \"category_name\", \"category_name\": \"No_of_videos\"}, inplace=True)\n",
        "cdf.head()"
      ]
    },
    {
      "cell_type": "code",
      "execution_count": 15,
      "metadata": {
        "colab": {
          "base_uri": "https://localhost:8080/",
          "height": 571
        },
        "id": "l47UP3p67PcM",
        "outputId": "d275cbfd-ebcc-4c2d-8d89-ebb960e0ad35"
      },
      "outputs": [
        {
          "output_type": "display_data",
          "data": {
            "text/plain": [
              "<Figure size 1080x576 with 1 Axes>"
            ],
            "image/png": "[encoded data removed]"
          },
          "metadata": {}
        },
        {
          "output_type": "display_data",
          "data": {
            "text/plain": [
              "<Figure size 1008x1440 with 0 Axes>"
            ]
          },
          "metadata": {}
        }
      ],
      "source": [
        "fig, ax = plt.subplots()\n",
        "plt.figure(figsize = (14,20))\n",
        "_ = sns.barplot(x=\"category_name\", y=\"No_of_videos\", data=cdf, ax=ax, palette=\"Set1\")\n",
        "_ = ax.set_xticklabels(ax.get_xticklabels(), rotation=30)\n",
        "_ = ax.set(xlabel=\"\", ylabel=\"No. de videos\")\n",
        "_ = ax.set_title(\"No. de videos por categoria\", fontsize=20)\n",
        "\n",
        "fig.set_size_inches(15, 8, forward=True)\n"
      ]
    },
    {
      "cell_type": "markdown",
      "metadata": {
        "id": "fBX37DkG7PcM"
      },
      "source": [
        "Descripción: Es claro que la categoría de Música es la que tiene la mayor cantidad de videos en tendencias. Casi `14.000` videos en tendencias. Le sigue la categoría de Entretenimiento con unos `9.000` vídeos. Se evidencia que estas dos categorías contienen más del `50%` de todos los videos en tendencias. "
      ]
    },
    {
      "cell_type": "markdown",
      "metadata": {
        "id": "qVQP0NHw7PcN"
      },
      "source": [
        "#### 2) ¿Qué categorías de videos son los que más gustan? ¿Y las que menos gustan?\n",
        "Debido a la variabilidad de los likes y dislikes en un video en relación a otro, primero crearemos un nuevo df con dos nuevas columnas que nos ayudarán a visualizar mejor la data. Las columnas `likes_dis` and `dislikes_dis` tendrán los valores de likes y dislikes como distribuciones normales para así visualizar mejor la data."
      ]
    },
    {
      "cell_type": "code",
      "execution_count": 16,
      "metadata": {
        "id": "dPvUqV4R7PcN"
      },
      "outputs": [],
      "source": [
        "cld_df = df[['category_name']].copy()\n",
        "cld_df['dislikes_dis'] = np.log(df['dislikes'] + 1)\n",
        "cld_df['likes_dis'] = np.log(df['likes'] + 1)"
      ]
    },
    {
      "cell_type": "code",
      "execution_count": 17,
      "metadata": {
        "colab": {
          "base_uri": "https://localhost:8080/",
          "height": 609
        },
        "id": "oqZzdw2g7PcN",
        "outputId": "690164a9-b93f-4d03-8c59-42f2a5952584"
      },
      "outputs": [
        {
          "output_type": "display_data",
          "data": {
            "text/plain": [
              "<Figure size 1080x576 with 1 Axes>"
            ],
            "image/png": "[encoded data removed]"
          },
          "metadata": {}
        },
        {
          "output_type": "display_data",
          "data": {
            "text/plain": [
              "<Figure size 1008x1440 with 0 Axes>"
            ]
          },
          "metadata": {}
        }
      ],
      "source": [
        "# Me gustas lik\n",
        "fig, ax = plt.subplots()\n",
        "plt.figure(figsize = (14,20))\n",
        "\n",
        "g = sns.boxplot(x='category_name', y='likes_dis', data=cld_df, palette=\"Set1\", ax=ax)\n",
        "_ = ax.set(xlabel=\"\", ylabel=\"Likes (dis)\", title=\"Distribución de Me Gustas por categoría\")\n",
        "_ = ax.set_xticklabels(ax.get_xticklabels(), rotation=75)\n",
        "fig.set_size_inches(15, 8, forward=True)\n",
        "\n",
        "plt.show()"
      ]
    },
    {
      "cell_type": "code",
      "execution_count": 18,
      "metadata": {
        "colab": {
          "base_uri": "https://localhost:8080/",
          "height": 609
        },
        "id": "XJYNjiz47PcN",
        "outputId": "74708da4-2e55-4e53-8cb6-9b3dfb8603dc"
      },
      "outputs": [
        {
          "output_type": "display_data",
          "data": {
            "text/plain": [
              "<Figure size 1080x576 with 1 Axes>"
            ],
            "image/png": "[encoded data removed]"
          },
          "metadata": {}
        },
        {
          "output_type": "display_data",
          "data": {
            "text/plain": [
              "<Figure size 1008x1440 with 0 Axes>"
            ]
          },
          "metadata": {}
        }
      ],
      "source": [
        "# Me gustas lik\n",
        "fig, ax = plt.subplots()\n",
        "plt.figure(figsize = (14,20))\n",
        "\n",
        "g = sns.boxplot(x='category_name', y='dislikes_dis', data=cld_df, palette=\"Set1\", ax=ax)\n",
        "_ = ax.set(xlabel=\"\", ylabel=\"Dislikes (dis)\", title=\"Distribución de No Me Gustas por categoría\")\n",
        "_ = ax.set_xticklabels(ax.get_xticklabels(), rotation=75)\n",
        "fig.set_size_inches(15, 8, forward=True)\n"
      ]
    },
    {
      "cell_type": "markdown",
      "metadata": {
        "id": "iw0XFrSJ7PcO"
      },
      "source": [
        "Por un lado, se evidencia que la categoría de `Música` es la que tiene la mayor cantidad de me gustas y parece ser la que más gusta, del mismo modo, es la categoría con la mayor cantidad de no me gustas. Debido al análisis anterior es entendible que a esta ser la categoría con el mayor número de video en tendencias tenga el mayor número de interacciones y valores outliers. \n",
        "\n",
        "Por otro lado, la categoría de `Entretenimiento` tiene la mayor cantidad de valores de no me gusta fuera del rango promedio. Es decir, a pesar de que la mayoría de los videos se encuentran en un rango estable de no me gustas, los videos menos gustados en este dataset de tendencia se encuentran en esta categoría. "
      ]
    },
    {
      "cell_type": "markdown",
      "source": [
        "#### 3) ¿Qué categorías de videos tienen la mejor proporción (ratio) de “Me gusta” / “No me gusta”?"
      ],
      "metadata": {
        "id": "gyuP24h6FNmX"
      }
    },
    {
      "cell_type": "markdown",
      "source": [
        "Debido a la variabilidad de los likes y dislikes en un video en relación a otro, primero crearemos un nuevo df con dos n uevas columnas que recolectaran la data del ratio por columna de la categoria, que sera representada por los me gusta y los no me gusta"
      ],
      "metadata": {
        "id": "avEAV-flb8lp"
      }
    },
    {
      "cell_type": "code",
      "source": [
        "rld_df = df[['category_name']].copy()\n",
        "rld_df['likes'] = ((df.isnull().sum() / len(df))*100).sort_values(ascending = False)\n",
        "rld_df['dislikes'] = ((df.isnull().sum() / len(df))*100).sort_values(ascending = False)"
      ],
      "metadata": {
        "id": "asuLeXjpeR33"
      },
      "execution_count": 19,
      "outputs": []
    },
    {
      "cell_type": "code",
      "source": [
        "fig, ax = plt.subplots()\n",
        "plt.figure(figsize = (14,20))\n",
        "\n",
        "g = sns.boxplot(x='category_name', y='dislikes', data=rld_df, palette=\"Set1\", ax=ax)\n",
        "_ = ax.set(xlabel=\"\", ylabel=\"Dislikes\" , title=\"Ratio de No me gusta por categoria\")\n",
        "_ = ax.set_xticklabels(ax.get_xticklabels(), rotation=75)\n",
        "fig.set_size_inches(15, 8, forward=True)"
      ],
      "metadata": {
        "id": "31eFX5LWaoiD",
        "colab": {
          "base_uri": "https://localhost:8080/",
          "height": 609
        },
        "outputId": "fb7fdc42-15d1-464f-dc88-c05806900d24"
      },
      "execution_count": 23,
      "outputs": [
        {
          "output_type": "display_data",
          "data": {
            "text/plain": [
              "<Figure size 1080x576 with 1 Axes>"
            ],
            "image/png": "[encoded data removed]"
          },
          "metadata": {}
        },
        {
          "output_type": "display_data",
          "data": {
            "text/plain": [
              "<Figure size 1008x1440 with 0 Axes>"
            ]
          },
          "metadata": {}
        }
      ]
    },
    {
      "cell_type": "code",
      "source": [
        "fig, ax = plt.subplots()\n",
        "plt.figure(figsize = (14,20))\n",
        "\n",
        "g = sns.boxplot(x='category_name', y='likes', data=rld_df, palette=\"Set1\", ax=ax)\n",
        "_ = ax.set(xlabel=\"\", ylabel=\"likes\" , title=\"Ratio de me gusta por categoria\")\n",
        "_ = ax.set_xticklabels(ax.get_xticklabels(), rotation=75)\n",
        "fig.set_size_inches(15, 8, forward=True)"
      ],
      "metadata": {
        "id": "Ll5zMaijaqiF",
        "colab": {
          "base_uri": "https://localhost:8080/",
          "height": 609
        },
        "outputId": "ec6740f1-0ce1-434a-be4a-d617f81bed3d"
      },
      "execution_count": 25,
      "outputs": [
        {
          "output_type": "display_data",
          "data": {
            "text/plain": [
              "<Figure size 1080x576 with 1 Axes>"
            ],
            "image/png": "[encoded data removed]"
          },
          "metadata": {}
        },
        {
          "output_type": "display_data",
          "data": {
            "text/plain": [
              "<Figure size 1008x1440 with 0 Axes>"
            ]
          },
          "metadata": {}
        }
      ]
    },
    {
      "cell_type": "markdown",
      "source": [
        "Como se puede apreciar en el grafico , el que tiene mayor proporcion por categoria de videos , son los Me gustas , esto debido al contenido que de las diversas categorias ."
      ],
      "metadata": {
        "id": "FCOqL4oKcT0N"
      }
    },
    {
      "cell_type": "markdown",
      "source": [
        "#### 4) ¿Qué categorías de videos tienen la mejor proporción (ratio) de “Vistas” / “Comentarios”?"
      ],
      "metadata": {
        "id": "qispRcvjFZg3"
      }
    },
    {
      "cell_type": "markdown",
      "source": [
        "Debido a la variabilidad de los likes y dislikes en un video en relación a otro, primero crearemos un nuevo df con dos n uevas columnas que recolectaran la data del ratio por columna de la categoria, que sera representada por los me vistas y los comentarios"
      ],
      "metadata": {
        "id": "EtlA2XxkcGO8"
      }
    },
    {
      "cell_type": "code",
      "source": [
        "rld_df = df[['category_name']].copy()\n",
        "rld_df['views'] = ((df.isnull().sum() / len(df))*100).sort_values(ascending = False)\n",
        "rld_df['comment_count'] = ((df.isnull().sum() / len(df))*100).sort_values(ascending = False)"
      ],
      "metadata": {
        "id": "DyUTeN4hFfM8"
      },
      "execution_count": 26,
      "outputs": []
    },
    {
      "cell_type": "code",
      "source": [
        "fig, ax = plt.subplots()\n",
        "plt.figure(figsize = (14,20))\n",
        "\n",
        "g = sns.boxplot(x='category_name', y='views', data=rld_df, palette=\"Set1\", ax=ax)\n",
        "_ = ax.set(xlabel=\"\", ylabel=\"views\" , title=\"Ratio de vistas por categoria\")\n",
        "_ = ax.set_xticklabels(ax.get_xticklabels(), rotation=75)\n",
        "fig.set_size_inches(15, 8, forward=True)"
      ],
      "metadata": {
        "id": "1lfSPFVOa5_T",
        "colab": {
          "base_uri": "https://localhost:8080/",
          "height": 609
        },
        "outputId": "0a5c89a3-24f1-4eaf-c667-8a3453be194b"
      },
      "execution_count": 28,
      "outputs": [
        {
          "output_type": "display_data",
          "data": {
            "text/plain": [
              "<Figure size 1080x576 with 1 Axes>"
            ],
            "image/png": "[encoded data removed]"
          },
          "metadata": {}
        },
        {
          "output_type": "display_data",
          "data": {
            "text/plain": [
              "<Figure size 1008x1440 with 0 Axes>"
            ]
          },
          "metadata": {}
        }
      ]
    },
    {
      "cell_type": "code",
      "source": [
        "fig, ax = plt.subplots()\n",
        "plt.figure(figsize = (14,20))\n",
        "\n",
        "g = sns.boxplot(x='category_name', y='comment_count', data=rld_df, palette=\"Set1\", ax=ax)\n",
        "_ = ax.set(xlabel=\"\", ylabel=\"comment_count\" , title=\"Ratio de comentarios por categoria\")\n",
        "_ = ax.set_xticklabels(ax.get_xticklabels(), rotation=75)\n",
        "fig.set_size_inches(15, 8, forward=True)"
      ],
      "metadata": {
        "id": "TlP77wZqbFbf",
        "colab": {
          "base_uri": "https://localhost:8080/",
          "height": 609
        },
        "outputId": "c776b83c-7a10-4456-a3d2-01da1396d95e"
      },
      "execution_count": 30,
      "outputs": [
        {
          "output_type": "display_data",
          "data": {
            "text/plain": [
              "<Figure size 1080x576 with 1 Axes>"
            ],
            "image/png": "[encoded data removed]"
          },
          "metadata": {}
        },
        {
          "output_type": "display_data",
          "data": {
            "text/plain": [
              "<Figure size 1008x1440 with 0 Axes>"
            ]
          },
          "metadata": {}
        }
      ]
    },
    {
      "cell_type": "markdown",
      "source": [
        "Como se puede apreciar en el grafico , el que tiene mayor proporcion por categoria de videos , son las vistas , ya que dependiendo del contenido de la categoria los usuarios comentan si fue o no su agrado de la categoria"
      ],
      "metadata": {
        "id": "IhujCJSjcp5u"
      }
    },
    {
      "cell_type": "markdown",
      "source": [
        "### **Por el tiempo transcurrido**"
      ],
      "metadata": {
        "id": "d7ifXkKbE1hT"
      }
    },
    {
      "cell_type": "markdown",
      "source": [
        "#### 5) ¿Cómo ha cambiado el volumen de los videos en tendencia a lo largo del tiempo?"
      ],
      "metadata": {
        "id": "hNg1WQUlFqrM"
      }
    },
    {
      "cell_type": "markdown",
      "source": [
        ""
      ],
      "metadata": {
        "id": "KKDtL8A68EGo"
      }
    },
    {
      "cell_type": "code",
      "source": [
        "#by_time = df.groupby(\"trending_date\")\n",
        "df2 = df.groupby('trending_date')['views'].sum().plot(legend=True,rot=30)\n",
        "plt.legend([\"Cantida de vistas\"]);"
      ],
      "metadata": {
        "id": "B44h51L6Hf8g",
        "outputId": "a25ddb93-6cc3-48be-d710-15f0ce74ce7a",
        "colab": {
          "base_uri": "https://localhost:8080/",
          "height": 308
        }
      },
      "execution_count": 31,
      "outputs": [
        {
          "output_type": "display_data",
          "data": {
            "text/plain": [
              "<Figure size 432x288 with 1 Axes>"
            ],
            "image/png": "[encoded data removed]"
          },
          "metadata": {}
        }
      ]
    },
    {
      "cell_type": "markdown",
      "source": [
        "Aquí se puede apreciar la cantidad de vistas en cantidades elevadas ala 9, como escala.\n",
        "Podemos ver como incrementa el volumen de vistas mientras el tiempo(fechas) avanzan, y al final tiende a hacer una curva oscílente. A continuación le haremos un Zoom para ver su comportamiento, para esto elegiremos las fechas de auge y lo ordenaremos de mayor a menor\n",
        "\n"
      ],
      "metadata": {
        "id": "TNieRm7qHkCx"
      }
    },
    {
      "cell_type": "code",
      "source": [
        "df2 = df.groupby('trending_date')['views'].sum().nlargest(10).plot(legend=True,rot=30)"
      ],
      "metadata": {
        "id": "nuHsHG9BHh4u",
        "outputId": "4ea9d4f8-c339-4674-f2ed-e553827208fa",
        "colab": {
          "base_uri": "https://localhost:8080/",
          "height": 316
        }
      },
      "execution_count": 32,
      "outputs": [
        {
          "output_type": "display_data",
          "data": {
            "text/plain": [
              "<Figure size 432x288 with 1 Axes>"
            ],
            "image/png": "[encoded data removed]"
          },
          "metadata": {}
        }
      ]
    },
    {
      "cell_type": "markdown",
      "source": [
        "Si ordenaramos a los que mayores vistas tiene de mayor a menor vemos la fecha de su auje y como fue disminuyendo descendientemente, (se estan mostrando los 10 primeros)"
      ],
      "metadata": {
        "id": "QAMI3yrpHldD"
      }
    },
    {
      "cell_type": "markdown",
      "source": [
        "### **Por Canales de YouTube**"
      ],
      "metadata": {
        "id": "DhRK-B-SE-el"
      }
    },
    {
      "cell_type": "markdown",
      "source": [
        "#### 6) ¿Qué Canales de YouTube son tendencia más frecuentemente? ¿Y cuáles con menos frecuencia?"
      ],
      "metadata": {
        "id": "Cz9n-jzaFv38"
      }
    },
    {
      "cell_type": "code",
      "source": [
        "by_chane = df['channel_title'].value_counts().to_frame().reset_index()\n",
        "by_chane.rename(columns={\"index\": \"Canal\", \"channel_title\": \"Cantidad de videos\"}, inplace=True)\n",
        "by_chane.head()"
      ],
      "metadata": {
        "colab": {
          "base_uri": "https://localhost:8080/",
          "height": 206
        },
        "id": "11wIuzyVOX5F",
        "outputId": "53f01f7c-2de8-45de-d64c-19e2868f7459"
      },
      "execution_count": 35,
      "outputs": [
        {
          "output_type": "execute_result",
          "data": {
            "text/plain": [
              "                                    Canal  Cantidad de videos\n",
              "0  The Tonight Show Starring Jimmy Fallon                 208\n",
              "1                       Jimmy Kimmel Live                 207\n",
              "2                            TheEllenShow                 207\n",
              "3                     Saturday Night Live                 206\n",
              "4                                     WWE                 205"
            ],
            "text/html": [
              "\n",
              "  <div id=\"df-9e7d0e77-f3ee-4214-a6b5-fa8c03ec9dd6\">\n",
              "    <div class=\"colab-df-container\">\n",
              "      <div>\n",
              "<style scoped>\n",
              "    .dataframe tbody tr th:only-of-type {\n",
              "        vertical-align: middle;\n",
              "    }\n",
              "\n",
              "    .dataframe tbody tr th {\n",
              "        vertical-align: top;\n",
              "    }\n",
              "\n",
              "    .dataframe thead th {\n",
              "        text-align: right;\n",
              "    }\n",
              "</style>\n",
              "<table border=\"1\" class=\"dataframe\">\n",
              "  <thead>\n",
              "    <tr style=\"text-align: right;\">\n",
              "      <th></th>\n",
              "      <th>Canal</th>\n",
              "      <th>Cantidad de videos</th>\n",
              "    </tr>\n",
              "  </thead>\n",
              "  <tbody>\n",
              "    <tr>\n",
              "      <th>0</th>\n",
              "      <td>The Tonight Show Starring Jimmy Fallon</td>\n",
              "      <td>208</td>\n",
              "    </tr>\n",
              "    <tr>\n",
              "      <th>1</th>\n",
              "      <td>Jimmy Kimmel Live</td>\n",
              "      <td>207</td>\n",
              "    </tr>\n",
              "    <tr>\n",
              "      <th>2</th>\n",
              "      <td>TheEllenShow</td>\n",
              "      <td>207</td>\n",
              "    </tr>\n",
              "    <tr>\n",
              "      <th>3</th>\n",
              "      <td>Saturday Night Live</td>\n",
              "      <td>206</td>\n",
              "    </tr>\n",
              "    <tr>\n",
              "      <th>4</th>\n",
              "      <td>WWE</td>\n",
              "      <td>205</td>\n",
              "    </tr>\n",
              "  </tbody>\n",
              "</table>\n",
              "</div>\n",
              "      <button class=\"colab-df-convert\" onclick=\"convertToInteractive('df-9e7d0e77-f3ee-4214-a6b5-fa8c03ec9dd6')\"\n",
              "              title=\"Convert this dataframe to an interactive table.\"\n",
              "              style=\"display:none;\">\n",
              "        \n",
              "  <svg xmlns=\"http://www.w3.org/2000/svg\" height=\"24px\"viewBox=\"0 0 24 24\"\n",
              "       width=\"24px\">\n",
              "    <path d=\"M0 0h24v24H0V0z\" fill=\"none\"/>\n",
              "    <path d=\"M18.56 5.44l.94 2.06.94-2.06 2.06-.94-2.06-.94-.94-2.06-.94 2.06-2.06.94zm-11 1L8.5 8.5l.94-2.06 2.06-.94-2.06-.94L8.5 2.5l-.94 2.06-2.06.94zm10 10l.94 2.06.94-2.06 2.06-.94-2.06-.94-.94-2.06-.94 2.06-2.06.94z\"/><path d=\"M17.41 7.96l-1.37-1.37c-.4-.4-.92-.59-1.43-.59-.52 0-1.04.2-1.43.59L10.3 9.45l-7.72 7.72c-.78.78-.78 2.05 0 2.83L4 21.41c.39.39.9.59 1.41.59.51 0 1.02-.2 1.41-.59l7.78-7.78 2.81-2.81c.8-.78.8-2.07 0-2.86zM5.41 20L4 18.59l7.72-7.72 1.47 1.35L5.41 20z\"/>\n",
              "  </svg>\n",
              "      </button>\n",
              "      \n",
              "  <style>\n",
              "    .colab-df-container {\n",
              "      display:flex;\n",
              "      flex-wrap:wrap;\n",
              "      gap: 12px;\n",
              "    }\n",
              "\n",
              "    .colab-df-convert {\n",
              "      background-color: #E8F0FE;\n",
              "      border: none;\n",
              "      border-radius: 50%;\n",
              "      cursor: pointer;\n",
              "      display: none;\n",
              "      fill: #1967D2;\n",
              "      height: 32px;\n",
              "      padding: 0 0 0 0;\n",
              "      width: 32px;\n",
              "    }\n",
              "\n",
              "    .colab-df-convert:hover {\n",
              "      background-color: #E2EBFA;\n",
              "      box-shadow: 0px 1px 2px rgba(60, 64, 67, 0.3), 0px 1px 3px 1px rgba(60, 64, 67, 0.15);\n",
              "      fill: #174EA6;\n",
              "    }\n",
              "\n",
              "    [theme=dark] .colab-df-convert {\n",
              "      background-color: #3B4455;\n",
              "      fill: #D2E3FC;\n",
              "    }\n",
              "\n",
              "    [theme=dark] .colab-df-convert:hover {\n",
              "      background-color: #434B5C;\n",
              "      box-shadow: 0px 1px 3px 1px rgba(0, 0, 0, 0.15);\n",
              "      filter: drop-shadow(0px 1px 2px rgba(0, 0, 0, 0.3));\n",
              "      fill: #FFFFFF;\n",
              "    }\n",
              "  </style>\n",
              "\n",
              "      <script>\n",
              "        const buttonEl =\n",
              "          document.querySelector('#df-9e7d0e77-f3ee-4214-a6b5-fa8c03ec9dd6 button.colab-df-convert');\n",
              "        buttonEl.style.display =\n",
              "          google.colab.kernel.accessAllowed ? 'block' : 'none';\n",
              "\n",
              "        async function convertToInteractive(key) {\n",
              "          const element = document.querySelector('#df-9e7d0e77-f3ee-4214-a6b5-fa8c03ec9dd6');\n",
              "          const dataTable =\n",
              "            await google.colab.kernel.invokeFunction('convertToInteractive',\n",
              "                                                     [key], {});\n",
              "          if (!dataTable) return;\n",
              "\n",
              "          const docLinkHtml = 'Like what you see? Visit the ' +\n",
              "            '<a target=\"_blank\" href=https://colab.research.google.com/notebooks/data_table.ipynb>data table notebook</a>'\n",
              "            + ' to learn more about interactive tables.';\n",
              "          element.innerHTML = '';\n",
              "          dataTable['output_type'] = 'display_data';\n",
              "          await google.colab.output.renderOutput(dataTable, element);\n",
              "          const docLink = document.createElement('div');\n",
              "          docLink.innerHTML = docLinkHtml;\n",
              "          element.appendChild(docLink);\n",
              "        }\n",
              "      </script>\n",
              "    </div>\n",
              "  </div>\n",
              "  "
            ]
          },
          "metadata": {},
          "execution_count": 35
        }
      ]
    },
    {
      "cell_type": "markdown",
      "source": [
        "Como vemos Este es el DataFrame de los canales con más videos en tendencia, y como se puede apreciar el canal \"The Tonight Show Starring Jimmy Fallon\" es el que anda liderando con 208 videos en tendencia, para lograr esto se realizó un groupby en \"canal\" y un count del mismo (cantidad de videos en tendencia)"
      ],
      "metadata": {
        "id": "4HdEPDMbOqzX"
      }
    },
    {
      "cell_type": "code",
      "source": [
        "fig, ax = plt.subplots()\n",
        "plt.figure(figsize = (14,20))\n",
        "_ = sns.barplot(x=\"Canal\", y=\"Cantidad de videos\", data=by_chane[:20], ax=ax, palette=\"Set1\")\n",
        "_ = ax.set_xticklabels(ax.get_xticklabels(), rotation=30)\n",
        "_ = ax.set(xlabel=\"\", ylabel=\"No. de videos Trending\")\n",
        "_ = ax.set_title(\"Canales\", fontsize=20)\n",
        "\n",
        "fig.set_size_inches(15, 8, forward=True)"
      ],
      "metadata": {
        "colab": {
          "base_uri": "https://localhost:8080/",
          "height": 616
        },
        "id": "8PKwWF-BOcb2",
        "outputId": "c37f232e-c386-4a49-9446-3f50d790691a"
      },
      "execution_count": 36,
      "outputs": [
        {
          "output_type": "display_data",
          "data": {
            "text/plain": [
              "<Figure size 1080x576 with 1 Axes>"
            ],
            "image/png": "[encoded data removed]"
          },
          "metadata": {}
        },
        {
          "output_type": "display_data",
          "data": {
            "text/plain": [
              "<Figure size 1008x1440 with 0 Axes>"
            ]
          },
          "metadata": {}
        }
      ]
    },
    {
      "cell_type": "markdown",
      "source": [
        "Aquí lo podemos observar en un gráfico de barras, con la misma información del DataFrame"
      ],
      "metadata": {
        "id": "unnuICwKOrzP"
      }
    },
    {
      "cell_type": "markdown",
      "metadata": {
        "id": "aL5XSfuJ7PcO"
      },
      "source": [
        "### **Por la geografía del país**\n"
      ]
    },
    {
      "cell_type": "markdown",
      "source": [
        "#### 7) ¿En qué Estados se presenta el mayor número de “Vistas”, “Me gusta” y “No me gusta”?"
      ],
      "metadata": {
        "id": "2JyzoMJFF57e"
      }
    },
    {
      "cell_type": "code",
      "execution_count": 37,
      "metadata": {
        "id": "xz7wg7MZ7PcO"
      },
      "outputs": [],
      "source": [
        "g_map = df.groupby([\"state\", \"lon\", \"lat\"])\n",
        "\n",
        "\n",
        "views_map = g_map['views'].sum().reset_index() \n",
        "likes_map = g_map['likes'].sum().reset_index() \n",
        "dislikes_map = g_map['dislikes'].sum().reset_index() "
      ]
    },
    {
      "cell_type": "markdown",
      "source": [
        "##### Vistas"
      ],
      "metadata": {
        "id": "Eky5ilSLEqjq"
      }
    },
    {
      "cell_type": "code",
      "source": [
        "fig = px.scatter_mapbox(views_map, lat=\"lat\", lon=\"lon\", zoom=4, height=450, \n",
        "                        color=\"views\", hover_name=\"state\", size=\"views\", size_max=25,\n",
        "                        color_continuous_scale=px.colors.sequential.Rainbow\n",
        "                      )\n",
        "\n",
        "print( views_map.sort_values(by=['views'], ascending=False).head() )\n",
        "print( views_map.sort_values(by=['views']).head(2) )\n",
        "\n",
        "fig.update_layout(margin={\"r\":0,\"t\":0,\"l\":0,\"b\":0})\n",
        "fig.show()"
      ],
      "metadata": {
        "colab": {
          "base_uri": "https://localhost:8080/",
          "height": 626
        },
        "id": "IK-zF1Ryes1E",
        "outputId": "95ce8b47-2fc6-4676-9f64-d3f2847f2dbc"
      },
      "execution_count": 38,
      "outputs": [
        {
          "output_type": "stream",
          "name": "stdout",
          "text": [
            "               state   lon   lat       views\n",
            "39       Southampton -1.40 50.90  5570080346\n",
            "0           Aberdeen -2.08 57.17  5482827742\n",
            "41  Stockton On Tees -1.23 54.58  5458518084\n",
            "38   South Yorkshire -1.50 53.37  5448546504\n",
            "46     West Midlands -1.50 52.42  5368026416\n",
            "         state   lon   lat       views\n",
            "2      Belfast -5.96 54.60  3532467750\n",
            "26  Merseyside -2.92 53.42  3646696350\n"
          ]
        },
        {
          "output_type": "display_data",
          "data": {
            "text/html": [
              "<html>\n",
              "<head><meta charset=\"utf-8\" /></head>\n",
              "<body>\n",
              "    <div>            <script src=\"https://cdnjs.cloudflare.com/ajax/libs/mathjax/2.7.5/MathJax.js?config=TeX-AMS-MML_SVG\"></script><script type=\"text/javascript\">if (window.MathJax) {MathJax.Hub.Config({SVG: {font: \"STIX-Web\"}});}</script>                <script type=\"text/javascript\">window.PlotlyConfig = {MathJaxConfig: 'local'};</script>\n",
              "        <script src=\"https://cdn.plot.ly/plotly-2.8.3.min.js\"></script>                <div id=\"c1a6e18b-5e56-4072-8a05-c6aaed5e8851\" class=\"plotly-graph-div\" style=\"height:450px; width:100%;\"></div>            <script type=\"text/javascript\">                                    window.PLOTLYENV=window.PLOTLYENV || {};                                    if (document.getElementById(\"c1a6e18b-5e56-4072-8a05-c6aaed5e8851\")) {                    Plotly.newPlot(                        \"c1a6e18b-5e56-4072-8a05-c6aaed5e8851\",                        [{\"hovertemplate\":\"<b>%{hovertext}</b><br><br>views=%{marker.color}<br>lat=%{lat}<br>lon=%{lon}<extra></extra>\",\"hovertext\":[\"Aberdeen\",\"Bath And North East Somerset\",\"Belfast\",\"Bournemouth\",\"Brighton And Hove\",\"Bristol\",\"Cambridgeshire\",\"Cardiff\",\"Cheshire\",\"Cornwall\",\"Cumbria\",\"Derry\",\"Devon\",\"Dumfries And Galloway\",\"Dundee\",\"Dungannon\",\"Edinburgh\",\"Glasgow\",\"Highland\",\"Inverclyde\",\"Kent\",\"Kingston Upon Hull\",\"Lancashire\",\"Leicester\",\"Luton\",\"Manchester\",\"Merseyside\",\"Moray\",\"Norfolk\",\"North Yorkshire\",\"Nottingham\",\"Omagh\",\"Oxfordshire\",\"Perthshire And Kinross\",\"Peterborough\",\"Plymouth\",\"Portsmouth\",\"South Ayrshire\",\"South Yorkshire\",\"Southampton\",\"Southend On Sea\",\"Stockton On Tees\",\"Stoke On Trent\",\"Suffolk\",\"Swansea\",\"Tyne And Wear\",\"West Midlands\",\"West Yorkshire\",\"Westminster\",\"York\"],\"lat\":[57.17039797,51.3837486,54.60001223,50.72999005,50.83034568,51.44999778,52.20039125,51.49999473,53.20002016,50.13372154,54.87999514,55.00037539,50.70040529,55.06708966,56.47038902,54.52037884,55.94832786,55.87440472,56.81647795,55.93329002,51.13371218,53.75042584,53.83039512,52.62997744,51.88035911,53.50041526,53.41600181,58.96698081,52.63036501,54.28039349,52.97034426,54.60001223,51.46997072,56.40034161,52.58041974,50.38538576,50.80034751,55.4503996,53.36667666,50.90003135,51.55001752,54.58037518,53.00036826,52.07034751,51.6299868,54.92001853,52.42040367,53.80003522,51.49999473,53.97038658],\"legendgroup\":\"\",\"lon\":[-2.079987021,-2.350022218,-5.960034425,-1.900049684,-0.169974407,-2.583315472,0.116623086,-3.22500757,-2.919987428,-5.550033611,-2.929986818,-7.333283937,-3.529950197,-3.550000652,-3.000008384,-6.670016929,-3.219090618,-4.250707236,-5.112075806,-4.750030763,1.300013386,-0.32999048,-3.050005332,-1.133248943,-0.420010825,-2.247987103,-2.917997886,-2.950011435,1.300013386,-0.429984376,-1.170016725,-7.300004315,-0.980028322,-3.469979697,-0.249995363,-4.159989259,-1.080022218,-4.61667973,-1.499996583,-1.399976849,0.71999711,-1.230013063,-2.180006756,1.169995482,-3.950002077,-1.380029746,-1.499996583,-1.749981325,-0.116721844,-1.080022218],\"marker\":{\"color\":[5482827742,4828805364,3532467750,4603034344,4525524165,4410796990,3908156682,4434368246,4753695644,5298639759,4545948178,4574596836,5236283148,4982355430,5023003418,4783746462,5060494061,4804951216,4410351857,4813324483,4611098476,4181781846,4667667681,4955744142,5020085252,3929637399,3646696350,4104481405,4604008882,4649625738,3694054622,3740325469,4468987875,4990167458,3924155649,3779021942,4619751463,4411173162,5448546504,5570080346,4512061737,5458518084,4089730191,4902388681,4236316310,4634994436,5368026416,4135972051,5142633271,4558093561],\"coloraxis\":\"coloraxis\",\"size\":[5482827742,4828805364,3532467750,4603034344,4525524165,4410796990,3908156682,4434368246,4753695644,5298639759,4545948178,4574596836,5236283148,4982355430,5023003418,4783746462,5060494061,4804951216,4410351857,4813324483,4611098476,4181781846,4667667681,4955744142,5020085252,3929637399,3646696350,4104481405,4604008882,4649625738,3694054622,3740325469,4468987875,4990167458,3924155649,3779021942,4619751463,4411173162,5448546504,5570080346,4512061737,5458518084,4089730191,4902388681,4236316310,4634994436,5368026416,4135972051,5142633271,4558093561],\"sizemode\":\"area\",\"sizeref\":8912128.5536},\"mode\":\"markers\",\"name\":\"\",\"showlegend\":false,\"subplot\":\"mapbox\",\"type\":\"scattermapbox\"}],                        {\"template\":{\"data\":{\"bar\":[{\"error_x\":{\"color\":\"#2a3f5f\"},\"error_y\":{\"color\":\"#2a3f5f\"},\"marker\":{\"line\":{\"color\":\"#E5ECF6\",\"width\":0.5},\"pattern\":{\"fillmode\":\"overlay\",\"size\":10,\"solidity\":0.2}},\"type\":\"bar\"}],\"barpolar\":[{\"marker\":{\"line\":{\"color\":\"#E5ECF6\",\"width\":0.5},\"pattern\":{\"fillmode\":\"overlay\",\"size\":10,\"solidity\":0.2}},\"type\":\"barpolar\"}],\"carpet\":[{\"aaxis\":{\"endlinecolor\":\"#2a3f5f\",\"gridcolor\":\"white\",\"linecolor\":\"white\",\"minorgridcolor\":\"white\",\"startlinecolor\":\"#2a3f5f\"},\"baxis\":{\"endlinecolor\":\"#2a3f5f\",\"gridcolor\":\"white\",\"linecolor\":\"white\",\"minorgridcolor\":\"white\",\"startlinecolor\":\"#2a3f5f\"},\"type\":\"carpet\"}],\"choropleth\":[{\"colorbar\":{\"outlinewidth\":0,\"ticks\":\"\"},\"type\":\"choropleth\"}],\"contour\":[{\"colorbar\":{\"outlinewidth\":0,\"ticks\":\"\"},\"colorscale\":[[0.0,\"#0d0887\"],[0.1111111111111111,\"#46039f\"],[0.2222222222222222,\"#7201a8\"],[0.3333333333333333,\"#9c179e\"],[0.4444444444444444,\"#bd3786\"],[0.5555555555555556,\"#d8576b\"],[0.6666666666666666,\"#ed7953\"],[0.7777777777777778,\"#fb9f3a\"],[0.8888888888888888,\"#fdca26\"],[1.0,\"#f0f921\"]],\"type\":\"contour\"}],\"contourcarpet\":[{\"colorbar\":{\"outlinewidth\":0,\"ticks\":\"\"},\"type\":\"contourcarpet\"}],\"heatmap\":[{\"colorbar\":{\"outlinewidth\":0,\"ticks\":\"\"},\"colorscale\":[[0.0,\"#0d0887\"],[0.1111111111111111,\"#46039f\"],[0.2222222222222222,\"#7201a8\"],[0.3333333333333333,\"#9c179e\"],[0.4444444444444444,\"#bd3786\"],[0.5555555555555556,\"#d8576b\"],[0.6666666666666666,\"#ed7953\"],[0.7777777777777778,\"#fb9f3a\"],[0.8888888888888888,\"#fdca26\"],[1.0,\"#f0f921\"]],\"type\":\"heatmap\"}],\"heatmapgl\":[{\"colorbar\":{\"outlinewidth\":0,\"ticks\":\"\"},\"colorscale\":[[0.0,\"#0d0887\"],[0.1111111111111111,\"#46039f\"],[0.2222222222222222,\"#7201a8\"],[0.3333333333333333,\"#9c179e\"],[0.4444444444444444,\"#bd3786\"],[0.5555555555555556,\"#d8576b\"],[0.6666666666666666,\"#ed7953\"],[0.7777777777777778,\"#fb9f3a\"],[0.8888888888888888,\"#fdca26\"],[1.0,\"#f0f921\"]],\"type\":\"heatmapgl\"}],\"histogram\":[{\"marker\":{\"pattern\":{\"fillmode\":\"overlay\",\"size\":10,\"solidity\":0.2}},\"type\":\"histogram\"}],\"histogram2d\":[{\"colorbar\":{\"outlinewidth\":0,\"ticks\":\"\"},\"colorscale\":[[0.0,\"#0d0887\"],[0.1111111111111111,\"#46039f\"],[0.2222222222222222,\"#7201a8\"],[0.3333333333333333,\"#9c179e\"],[0.4444444444444444,\"#bd3786\"],[0.5555555555555556,\"#d8576b\"],[0.6666666666666666,\"#ed7953\"],[0.7777777777777778,\"#fb9f3a\"],[0.8888888888888888,\"#fdca26\"],[1.0,\"#f0f921\"]],\"type\":\"histogram2d\"}],\"histogram2dcontour\":[{\"colorbar\":{\"outlinewidth\":0,\"ticks\":\"\"},\"colorscale\":[[0.0,\"#0d0887\"],[0.1111111111111111,\"#46039f\"],[0.2222222222222222,\"#7201a8\"],[0.3333333333333333,\"#9c179e\"],[0.4444444444444444,\"#bd3786\"],[0.5555555555555556,\"#d8576b\"],[0.6666666666666666,\"#ed7953\"],[0.7777777777777778,\"#fb9f3a\"],[0.8888888888888888,\"#fdca26\"],[1.0,\"#f0f921\"]],\"type\":\"histogram2dcontour\"}],\"mesh3d\":[{\"colorbar\":{\"outlinewidth\":0,\"ticks\":\"\"},\"type\":\"mesh3d\"}],\"parcoords\":[{\"line\":{\"colorbar\":{\"outlinewidth\":0,\"ticks\":\"\"}},\"type\":\"parcoords\"}],\"pie\":[{\"automargin\":true,\"type\":\"pie\"}],\"scatter\":[{\"marker\":{\"colorbar\":{\"outlinewidth\":0,\"ticks\":\"\"}},\"type\":\"scatter\"}],\"scatter3d\":[{\"line\":{\"colorbar\":{\"outlinewidth\":0,\"ticks\":\"\"}},\"marker\":{\"colorbar\":{\"outlinewidth\":0,\"ticks\":\"\"}},\"type\":\"scatter3d\"}],\"scattercarpet\":[{\"marker\":{\"colorbar\":{\"outlinewidth\":0,\"ticks\":\"\"}},\"type\":\"scattercarpet\"}],\"scattergeo\":[{\"marker\":{\"colorbar\":{\"outlinewidth\":0,\"ticks\":\"\"}},\"type\":\"scattergeo\"}],\"scattergl\":[{\"marker\":{\"colorbar\":{\"outlinewidth\":0,\"ticks\":\"\"}},\"type\":\"scattergl\"}],\"scattermapbox\":[{\"marker\":{\"colorbar\":{\"outlinewidth\":0,\"ticks\":\"\"}},\"type\":\"scattermapbox\"}],\"scatterpolar\":[{\"marker\":{\"colorbar\":{\"outlinewidth\":0,\"ticks\":\"\"}},\"type\":\"scatterpolar\"}],\"scatterpolargl\":[{\"marker\":{\"colorbar\":{\"outlinewidth\":0,\"ticks\":\"\"}},\"type\":\"scatterpolargl\"}],\"scatterternary\":[{\"marker\":{\"colorbar\":{\"outlinewidth\":0,\"ticks\":\"\"}},\"type\":\"scatterternary\"}],\"surface\":[{\"colorbar\":{\"outlinewidth\":0,\"ticks\":\"\"},\"colorscale\":[[0.0,\"#0d0887\"],[0.1111111111111111,\"#46039f\"],[0.2222222222222222,\"#7201a8\"],[0.3333333333333333,\"#9c179e\"],[0.4444444444444444,\"#bd3786\"],[0.5555555555555556,\"#d8576b\"],[0.6666666666666666,\"#ed7953\"],[0.7777777777777778,\"#fb9f3a\"],[0.8888888888888888,\"#fdca26\"],[1.0,\"#f0f921\"]],\"type\":\"surface\"}],\"table\":[{\"cells\":{\"fill\":{\"color\":\"#EBF0F8\"},\"line\":{\"color\":\"white\"}},\"header\":{\"fill\":{\"color\":\"#C8D4E3\"},\"line\":{\"color\":\"white\"}},\"type\":\"table\"}]},\"layout\":{\"annotationdefaults\":{\"arrowcolor\":\"#2a3f5f\",\"arrowhead\":0,\"arrowwidth\":1},\"autotypenumbers\":\"strict\",\"coloraxis\":{\"colorbar\":{\"outlinewidth\":0,\"ticks\":\"\"}},\"colorscale\":{\"diverging\":[[0,\"#8e0152\"],[0.1,\"#c51b7d\"],[0.2,\"#de77ae\"],[0.3,\"#f1b6da\"],[0.4,\"#fde0ef\"],[0.5,\"#f7f7f7\"],[0.6,\"#e6f5d0\"],[0.7,\"#b8e186\"],[0.8,\"#7fbc41\"],[0.9,\"#4d9221\"],[1,\"#276419\"]],\"sequential\":[[0.0,\"#0d0887\"],[0.1111111111111111,\"#46039f\"],[0.2222222222222222,\"#7201a8\"],[0.3333333333333333,\"#9c179e\"],[0.4444444444444444,\"#bd3786\"],[0.5555555555555556,\"#d8576b\"],[0.6666666666666666,\"#ed7953\"],[0.7777777777777778,\"#fb9f3a\"],[0.8888888888888888,\"#fdca26\"],[1.0,\"#f0f921\"]],\"sequentialminus\":[[0.0,\"#0d0887\"],[0.1111111111111111,\"#46039f\"],[0.2222222222222222,\"#7201a8\"],[0.3333333333333333,\"#9c179e\"],[0.4444444444444444,\"#bd3786\"],[0.5555555555555556,\"#d8576b\"],[0.6666666666666666,\"#ed7953\"],[0.7777777777777778,\"#fb9f3a\"],[0.8888888888888888,\"#fdca26\"],[1.0,\"#f0f921\"]]},\"colorway\":[\"#636efa\",\"#EF553B\",\"#00cc96\",\"#ab63fa\",\"#FFA15A\",\"#19d3f3\",\"#FF6692\",\"#B6E880\",\"#FF97FF\",\"#FECB52\"],\"font\":{\"color\":\"#2a3f5f\"},\"geo\":{\"bgcolor\":\"white\",\"lakecolor\":\"white\",\"landcolor\":\"#E5ECF6\",\"showlakes\":true,\"showland\":true,\"subunitcolor\":\"white\"},\"hoverlabel\":{\"align\":\"left\"},\"hovermode\":\"closest\",\"mapbox\":{\"style\":\"light\"},\"paper_bgcolor\":\"white\",\"plot_bgcolor\":\"#E5ECF6\",\"polar\":{\"angularaxis\":{\"gridcolor\":\"white\",\"linecolor\":\"white\",\"ticks\":\"\"},\"bgcolor\":\"#E5ECF6\",\"radialaxis\":{\"gridcolor\":\"white\",\"linecolor\":\"white\",\"ticks\":\"\"}},\"scene\":{\"xaxis\":{\"backgroundcolor\":\"#E5ECF6\",\"gridcolor\":\"white\",\"gridwidth\":2,\"linecolor\":\"white\",\"showbackground\":true,\"ticks\":\"\",\"zerolinecolor\":\"white\"},\"yaxis\":{\"backgroundcolor\":\"#E5ECF6\",\"gridcolor\":\"white\",\"gridwidth\":2,\"linecolor\":\"white\",\"showbackground\":true,\"ticks\":\"\",\"zerolinecolor\":\"white\"},\"zaxis\":{\"backgroundcolor\":\"#E5ECF6\",\"gridcolor\":\"white\",\"gridwidth\":2,\"linecolor\":\"white\",\"showbackground\":true,\"ticks\":\"\",\"zerolinecolor\":\"white\"}},\"shapedefaults\":{\"line\":{\"color\":\"#2a3f5f\"}},\"ternary\":{\"aaxis\":{\"gridcolor\":\"white\",\"linecolor\":\"white\",\"ticks\":\"\"},\"baxis\":{\"gridcolor\":\"white\",\"linecolor\":\"white\",\"ticks\":\"\"},\"bgcolor\":\"#E5ECF6\",\"caxis\":{\"gridcolor\":\"white\",\"linecolor\":\"white\",\"ticks\":\"\"}},\"title\":{\"x\":0.05},\"xaxis\":{\"automargin\":true,\"gridcolor\":\"white\",\"linecolor\":\"white\",\"ticks\":\"\",\"title\":{\"standoff\":15},\"zerolinecolor\":\"white\",\"zerolinewidth\":2},\"yaxis\":{\"automargin\":true,\"gridcolor\":\"white\",\"linecolor\":\"white\",\"ticks\":\"\",\"title\":{\"standoff\":15},\"zerolinecolor\":\"white\",\"zerolinewidth\":2}}},\"mapbox\":{\"domain\":{\"x\":[0.0,1.0],\"y\":[0.0,1.0]},\"center\":{\"lat\":53.375892867800005,\"lon\":-2.38139239558},\"accesstoken\":\"pk.eyJ1IjoidTIwMTcyNDQyMyIsImEiOiJjbDN2eHZpaDgwMHdrM2txcHd5YzlwempxIn0.iDkPaJgRqFMJjiBW8_gVEQ\",\"zoom\":4},\"coloraxis\":{\"colorbar\":{\"title\":{\"text\":\"views\"}},\"colorscale\":[[0.0,\"rgb(150,0,90)\"],[0.125,\"rgb(0,0,200)\"],[0.25,\"rgb(0,25,255)\"],[0.375,\"rgb(0,152,255)\"],[0.5,\"rgb(44,255,150)\"],[0.625,\"rgb(151,255,0)\"],[0.75,\"rgb(255,234,0)\"],[0.875,\"rgb(255,111,0)\"],[1.0,\"rgb(255,0,0)\"]]},\"legend\":{\"tracegroupgap\":0,\"itemsizing\":\"constant\"},\"margin\":{\"t\":0,\"r\":0,\"l\":0,\"b\":0},\"height\":450},                        {\"responsive\": true}                    ).then(function(){\n",
              "                            \n",
              "var gd = document.getElementById('c1a6e18b-5e56-4072-8a05-c6aaed5e8851');\n",
              "var x = new MutationObserver(function (mutations, observer) {{\n",
              "        var display = window.getComputedStyle(gd).display;\n",
              "        if (!display || display === 'none') {{\n",
              "            console.log([gd, 'removed!']);\n",
              "            Plotly.purge(gd);\n",
              "            observer.disconnect();\n",
              "        }}\n",
              "}});\n",
              "\n",
              "// Listen for the removal of the full notebook cells\n",
              "var notebookContainer = gd.closest('#notebook-container');\n",
              "if (notebookContainer) {{\n",
              "    x.observe(notebookContainer, {childList: true});\n",
              "}}\n",
              "\n",
              "// Listen for the clearing of the current output cell\n",
              "var outputEl = gd.closest('.output');\n",
              "if (outputEl) {{\n",
              "    x.observe(outputEl, {childList: true});\n",
              "}}\n",
              "\n",
              "                        })                };                            </script>        </div>\n",
              "</body>\n",
              "</html>"
            ]
          },
          "metadata": {}
        }
      ]
    },
    {
      "cell_type": "markdown",
      "source": [
        "En el gráfico se puede visualizar que existen tres zonas que se acercan a los `5.5B` de visitas. El estado con el mayor número de vistas es `Southampton` con `5.570.080.346` de vistas y el segundo con el mayor número es `Aberdeen` con `5.482.827.742`. Los estados con menos vistas son `Belfast` y `Merseyside` respectivamente.  "
      ],
      "metadata": {
        "id": "Ks9NXNgG8O_F"
      }
    },
    {
      "cell_type": "markdown",
      "source": [
        "##### Me gustas"
      ],
      "metadata": {
        "id": "m0gSju2qEsxn"
      }
    },
    {
      "cell_type": "code",
      "source": [
        "fig = px.scatter_mapbox(likes_map, lat=\"lat\", lon=\"lon\", zoom=4, height=450, \n",
        "                        color=\"likes\", hover_name=\"state\", size=\"likes\", size_max=25,\n",
        "                        color_continuous_scale=px.colors.sequential.Rainbow\n",
        "                      )\n",
        "\n",
        "print( likes_map.sort_values(by=['likes'], ascending=False).head() )\n",
        "print( likes_map.sort_values(by=['likes']).head(2) )\n",
        "\n",
        "fig.update_layout(margin={\"r\":0,\"t\":0,\"l\":0,\"b\":0})\n",
        "fig.show()"
      ],
      "metadata": {
        "colab": {
          "base_uri": "https://localhost:8080/",
          "height": 626
        },
        "id": "NoxUGR5nEyd-",
        "outputId": "1a740a32-52a5-447b-ba56-9f946a4c1966"
      },
      "execution_count": 39,
      "outputs": [
        {
          "output_type": "stream",
          "name": "stdout",
          "text": [
            "                     state   lon   lat      likes\n",
            "38         South Yorkshire -1.50 53.37  132686060\n",
            "46           West Midlands -1.50 52.42  121579342\n",
            "23               Leicester -1.13 52.63  121366689\n",
            "12                   Devon -3.53 50.70  120366933\n",
            "33  Perthshire And Kinross -3.47 56.40  119876590\n",
            "      state   lon   lat     likes\n",
            "2   Belfast -5.96 54.60  84331627\n",
            "31    Omagh -7.30 54.60  85009092\n"
          ]
        },
        {
          "output_type": "display_data",
          "data": {
            "text/html": [
              "<html>\n",
              "<head><meta charset=\"utf-8\" /></head>\n",
              "<body>\n",
              "    <div>            <script src=\"https://cdnjs.cloudflare.com/ajax/libs/mathjax/2.7.5/MathJax.js?config=TeX-AMS-MML_SVG\"></script><script type=\"text/javascript\">if (window.MathJax) {MathJax.Hub.Config({SVG: {font: \"STIX-Web\"}});}</script>                <script type=\"text/javascript\">window.PlotlyConfig = {MathJaxConfig: 'local'};</script>\n",
              "        <script src=\"https://cdn.plot.ly/plotly-2.8.3.min.js\"></script>                <div id=\"29838937-662e-4078-8d7c-e176cd56c3ce\" class=\"plotly-graph-div\" style=\"height:450px; width:100%;\"></div>            <script type=\"text/javascript\">                                    window.PLOTLYENV=window.PLOTLYENV || {};                                    if (document.getElementById(\"29838937-662e-4078-8d7c-e176cd56c3ce\")) {                    Plotly.newPlot(                        \"29838937-662e-4078-8d7c-e176cd56c3ce\",                        [{\"hovertemplate\":\"<b>%{hovertext}</b><br><br>likes=%{marker.color}<br>lat=%{lat}<br>lon=%{lon}<extra></extra>\",\"hovertext\":[\"Aberdeen\",\"Bath And North East Somerset\",\"Belfast\",\"Bournemouth\",\"Brighton And Hove\",\"Bristol\",\"Cambridgeshire\",\"Cardiff\",\"Cheshire\",\"Cornwall\",\"Cumbria\",\"Derry\",\"Devon\",\"Dumfries And Galloway\",\"Dundee\",\"Dungannon\",\"Edinburgh\",\"Glasgow\",\"Highland\",\"Inverclyde\",\"Kent\",\"Kingston Upon Hull\",\"Lancashire\",\"Leicester\",\"Luton\",\"Manchester\",\"Merseyside\",\"Moray\",\"Norfolk\",\"North Yorkshire\",\"Nottingham\",\"Omagh\",\"Oxfordshire\",\"Perthshire And Kinross\",\"Peterborough\",\"Plymouth\",\"Portsmouth\",\"South Ayrshire\",\"South Yorkshire\",\"Southampton\",\"Southend On Sea\",\"Stockton On Tees\",\"Stoke On Trent\",\"Suffolk\",\"Swansea\",\"Tyne And Wear\",\"West Midlands\",\"West Yorkshire\",\"Westminster\",\"York\"],\"lat\":[57.17039797,51.3837486,54.60001223,50.72999005,50.83034568,51.44999778,52.20039125,51.49999473,53.20002016,50.13372154,54.87999514,55.00037539,50.70040529,55.06708966,56.47038902,54.52037884,55.94832786,55.87440472,56.81647795,55.93329002,51.13371218,53.75042584,53.83039512,52.62997744,51.88035911,53.50041526,53.41600181,58.96698081,52.63036501,54.28039349,52.97034426,54.60001223,51.46997072,56.40034161,52.58041974,50.38538576,50.80034751,55.4503996,53.36667666,50.90003135,51.55001752,54.58037518,53.00036826,52.07034751,51.6299868,54.92001853,52.42040367,53.80003522,51.49999473,53.97038658],\"legendgroup\":\"\",\"lon\":[-2.079987021,-2.350022218,-5.960034425,-1.900049684,-0.169974407,-2.583315472,0.116623086,-3.22500757,-2.919987428,-5.550033611,-2.929986818,-7.333283937,-3.529950197,-3.550000652,-3.000008384,-6.670016929,-3.219090618,-4.250707236,-5.112075806,-4.750030763,1.300013386,-0.32999048,-3.050005332,-1.133248943,-0.420010825,-2.247987103,-2.917997886,-2.950011435,1.300013386,-0.429984376,-1.170016725,-7.300004315,-0.980028322,-3.469979697,-0.249995363,-4.159989259,-1.080022218,-4.61667973,-1.499996583,-1.399976849,0.71999711,-1.230013063,-2.180006756,1.169995482,-3.950002077,-1.380029746,-1.499996583,-1.749981325,-0.116721844,-1.080022218],\"marker\":{\"color\":[117255591,112994972,84331627,92031935,101730390,99945050,93840521,91837466,98355542,111092162,113243584,103071570,120366933,96372370,110350746,112779225,116546473,105250743,100318551,110622321,102004364,98829413,103959942,121366689,101637332,97160095,91536744,111263024,108117090,107926063,88649337,85009092,111611556,119876590,103460526,93899897,114198669,91565968,132686060,115414323,102205206,107866359,92054681,104841018,100005687,108367954,121579342,91658707,118032685,95840759],\"coloraxis\":\"coloraxis\",\"size\":[117255591,112994972,84331627,92031935,101730390,99945050,93840521,91837466,98355542,111092162,113243584,103071570,120366933,96372370,110350746,112779225,116546473,105250743,100318551,110622321,102004364,98829413,103959942,121366689,101637332,97160095,91536744,111263024,108117090,107926063,88649337,85009092,111611556,119876590,103460526,93899897,114198669,91565968,132686060,115414323,102205206,107866359,92054681,104841018,100005687,108367954,121579342,91658707,118032685,95840759],\"sizemode\":\"area\",\"sizeref\":212297.696},\"mode\":\"markers\",\"name\":\"\",\"showlegend\":false,\"subplot\":\"mapbox\",\"type\":\"scattermapbox\"}],                        {\"template\":{\"data\":{\"bar\":[{\"error_x\":{\"color\":\"#2a3f5f\"},\"error_y\":{\"color\":\"#2a3f5f\"},\"marker\":{\"line\":{\"color\":\"#E5ECF6\",\"width\":0.5},\"pattern\":{\"fillmode\":\"overlay\",\"size\":10,\"solidity\":0.2}},\"type\":\"bar\"}],\"barpolar\":[{\"marker\":{\"line\":{\"color\":\"#E5ECF6\",\"width\":0.5},\"pattern\":{\"fillmode\":\"overlay\",\"size\":10,\"solidity\":0.2}},\"type\":\"barpolar\"}],\"carpet\":[{\"aaxis\":{\"endlinecolor\":\"#2a3f5f\",\"gridcolor\":\"white\",\"linecolor\":\"white\",\"minorgridcolor\":\"white\",\"startlinecolor\":\"#2a3f5f\"},\"baxis\":{\"endlinecolor\":\"#2a3f5f\",\"gridcolor\":\"white\",\"linecolor\":\"white\",\"minorgridcolor\":\"white\",\"startlinecolor\":\"#2a3f5f\"},\"type\":\"carpet\"}],\"choropleth\":[{\"colorbar\":{\"outlinewidth\":0,\"ticks\":\"\"},\"type\":\"choropleth\"}],\"contour\":[{\"colorbar\":{\"outlinewidth\":0,\"ticks\":\"\"},\"colorscale\":[[0.0,\"#0d0887\"],[0.1111111111111111,\"#46039f\"],[0.2222222222222222,\"#7201a8\"],[0.3333333333333333,\"#9c179e\"],[0.4444444444444444,\"#bd3786\"],[0.5555555555555556,\"#d8576b\"],[0.6666666666666666,\"#ed7953\"],[0.7777777777777778,\"#fb9f3a\"],[0.8888888888888888,\"#fdca26\"],[1.0,\"#f0f921\"]],\"type\":\"contour\"}],\"contourcarpet\":[{\"colorbar\":{\"outlinewidth\":0,\"ticks\":\"\"},\"type\":\"contourcarpet\"}],\"heatmap\":[{\"colorbar\":{\"outlinewidth\":0,\"ticks\":\"\"},\"colorscale\":[[0.0,\"#0d0887\"],[0.1111111111111111,\"#46039f\"],[0.2222222222222222,\"#7201a8\"],[0.3333333333333333,\"#9c179e\"],[0.4444444444444444,\"#bd3786\"],[0.5555555555555556,\"#d8576b\"],[0.6666666666666666,\"#ed7953\"],[0.7777777777777778,\"#fb9f3a\"],[0.8888888888888888,\"#fdca26\"],[1.0,\"#f0f921\"]],\"type\":\"heatmap\"}],\"heatmapgl\":[{\"colorbar\":{\"outlinewidth\":0,\"ticks\":\"\"},\"colorscale\":[[0.0,\"#0d0887\"],[0.1111111111111111,\"#46039f\"],[0.2222222222222222,\"#7201a8\"],[0.3333333333333333,\"#9c179e\"],[0.4444444444444444,\"#bd3786\"],[0.5555555555555556,\"#d8576b\"],[0.6666666666666666,\"#ed7953\"],[0.7777777777777778,\"#fb9f3a\"],[0.8888888888888888,\"#fdca26\"],[1.0,\"#f0f921\"]],\"type\":\"heatmapgl\"}],\"histogram\":[{\"marker\":{\"pattern\":{\"fillmode\":\"overlay\",\"size\":10,\"solidity\":0.2}},\"type\":\"histogram\"}],\"histogram2d\":[{\"colorbar\":{\"outlinewidth\":0,\"ticks\":\"\"},\"colorscale\":[[0.0,\"#0d0887\"],[0.1111111111111111,\"#46039f\"],[0.2222222222222222,\"#7201a8\"],[0.3333333333333333,\"#9c179e\"],[0.4444444444444444,\"#bd3786\"],[0.5555555555555556,\"#d8576b\"],[0.6666666666666666,\"#ed7953\"],[0.7777777777777778,\"#fb9f3a\"],[0.8888888888888888,\"#fdca26\"],[1.0,\"#f0f921\"]],\"type\":\"histogram2d\"}],\"histogram2dcontour\":[{\"colorbar\":{\"outlinewidth\":0,\"ticks\":\"\"},\"colorscale\":[[0.0,\"#0d0887\"],[0.1111111111111111,\"#46039f\"],[0.2222222222222222,\"#7201a8\"],[0.3333333333333333,\"#9c179e\"],[0.4444444444444444,\"#bd3786\"],[0.5555555555555556,\"#d8576b\"],[0.6666666666666666,\"#ed7953\"],[0.7777777777777778,\"#fb9f3a\"],[0.8888888888888888,\"#fdca26\"],[1.0,\"#f0f921\"]],\"type\":\"histogram2dcontour\"}],\"mesh3d\":[{\"colorbar\":{\"outlinewidth\":0,\"ticks\":\"\"},\"type\":\"mesh3d\"}],\"parcoords\":[{\"line\":{\"colorbar\":{\"outlinewidth\":0,\"ticks\":\"\"}},\"type\":\"parcoords\"}],\"pie\":[{\"automargin\":true,\"type\":\"pie\"}],\"scatter\":[{\"marker\":{\"colorbar\":{\"outlinewidth\":0,\"ticks\":\"\"}},\"type\":\"scatter\"}],\"scatter3d\":[{\"line\":{\"colorbar\":{\"outlinewidth\":0,\"ticks\":\"\"}},\"marker\":{\"colorbar\":{\"outlinewidth\":0,\"ticks\":\"\"}},\"type\":\"scatter3d\"}],\"scattercarpet\":[{\"marker\":{\"colorbar\":{\"outlinewidth\":0,\"ticks\":\"\"}},\"type\":\"scattercarpet\"}],\"scattergeo\":[{\"marker\":{\"colorbar\":{\"outlinewidth\":0,\"ticks\":\"\"}},\"type\":\"scattergeo\"}],\"scattergl\":[{\"marker\":{\"colorbar\":{\"outlinewidth\":0,\"ticks\":\"\"}},\"type\":\"scattergl\"}],\"scattermapbox\":[{\"marker\":{\"colorbar\":{\"outlinewidth\":0,\"ticks\":\"\"}},\"type\":\"scattermapbox\"}],\"scatterpolar\":[{\"marker\":{\"colorbar\":{\"outlinewidth\":0,\"ticks\":\"\"}},\"type\":\"scatterpolar\"}],\"scatterpolargl\":[{\"marker\":{\"colorbar\":{\"outlinewidth\":0,\"ticks\":\"\"}},\"type\":\"scatterpolargl\"}],\"scatterternary\":[{\"marker\":{\"colorbar\":{\"outlinewidth\":0,\"ticks\":\"\"}},\"type\":\"scatterternary\"}],\"surface\":[{\"colorbar\":{\"outlinewidth\":0,\"ticks\":\"\"},\"colorscale\":[[0.0,\"#0d0887\"],[0.1111111111111111,\"#46039f\"],[0.2222222222222222,\"#7201a8\"],[0.3333333333333333,\"#9c179e\"],[0.4444444444444444,\"#bd3786\"],[0.5555555555555556,\"#d8576b\"],[0.6666666666666666,\"#ed7953\"],[0.7777777777777778,\"#fb9f3a\"],[0.8888888888888888,\"#fdca26\"],[1.0,\"#f0f921\"]],\"type\":\"surface\"}],\"table\":[{\"cells\":{\"fill\":{\"color\":\"#EBF0F8\"},\"line\":{\"color\":\"white\"}},\"header\":{\"fill\":{\"color\":\"#C8D4E3\"},\"line\":{\"color\":\"white\"}},\"type\":\"table\"}]},\"layout\":{\"annotationdefaults\":{\"arrowcolor\":\"#2a3f5f\",\"arrowhead\":0,\"arrowwidth\":1},\"autotypenumbers\":\"strict\",\"coloraxis\":{\"colorbar\":{\"outlinewidth\":0,\"ticks\":\"\"}},\"colorscale\":{\"diverging\":[[0,\"#8e0152\"],[0.1,\"#c51b7d\"],[0.2,\"#de77ae\"],[0.3,\"#f1b6da\"],[0.4,\"#fde0ef\"],[0.5,\"#f7f7f7\"],[0.6,\"#e6f5d0\"],[0.7,\"#b8e186\"],[0.8,\"#7fbc41\"],[0.9,\"#4d9221\"],[1,\"#276419\"]],\"sequential\":[[0.0,\"#0d0887\"],[0.1111111111111111,\"#46039f\"],[0.2222222222222222,\"#7201a8\"],[0.3333333333333333,\"#9c179e\"],[0.4444444444444444,\"#bd3786\"],[0.5555555555555556,\"#d8576b\"],[0.6666666666666666,\"#ed7953\"],[0.7777777777777778,\"#fb9f3a\"],[0.8888888888888888,\"#fdca26\"],[1.0,\"#f0f921\"]],\"sequentialminus\":[[0.0,\"#0d0887\"],[0.1111111111111111,\"#46039f\"],[0.2222222222222222,\"#7201a8\"],[0.3333333333333333,\"#9c179e\"],[0.4444444444444444,\"#bd3786\"],[0.5555555555555556,\"#d8576b\"],[0.6666666666666666,\"#ed7953\"],[0.7777777777777778,\"#fb9f3a\"],[0.8888888888888888,\"#fdca26\"],[1.0,\"#f0f921\"]]},\"colorway\":[\"#636efa\",\"#EF553B\",\"#00cc96\",\"#ab63fa\",\"#FFA15A\",\"#19d3f3\",\"#FF6692\",\"#B6E880\",\"#FF97FF\",\"#FECB52\"],\"font\":{\"color\":\"#2a3f5f\"},\"geo\":{\"bgcolor\":\"white\",\"lakecolor\":\"white\",\"landcolor\":\"#E5ECF6\",\"showlakes\":true,\"showland\":true,\"subunitcolor\":\"white\"},\"hoverlabel\":{\"align\":\"left\"},\"hovermode\":\"closest\",\"mapbox\":{\"style\":\"light\"},\"paper_bgcolor\":\"white\",\"plot_bgcolor\":\"#E5ECF6\",\"polar\":{\"angularaxis\":{\"gridcolor\":\"white\",\"linecolor\":\"white\",\"ticks\":\"\"},\"bgcolor\":\"#E5ECF6\",\"radialaxis\":{\"gridcolor\":\"white\",\"linecolor\":\"white\",\"ticks\":\"\"}},\"scene\":{\"xaxis\":{\"backgroundcolor\":\"#E5ECF6\",\"gridcolor\":\"white\",\"gridwidth\":2,\"linecolor\":\"white\",\"showbackground\":true,\"ticks\":\"\",\"zerolinecolor\":\"white\"},\"yaxis\":{\"backgroundcolor\":\"#E5ECF6\",\"gridcolor\":\"white\",\"gridwidth\":2,\"linecolor\":\"white\",\"showbackground\":true,\"ticks\":\"\",\"zerolinecolor\":\"white\"},\"zaxis\":{\"backgroundcolor\":\"#E5ECF6\",\"gridcolor\":\"white\",\"gridwidth\":2,\"linecolor\":\"white\",\"showbackground\":true,\"ticks\":\"\",\"zerolinecolor\":\"white\"}},\"shapedefaults\":{\"line\":{\"color\":\"#2a3f5f\"}},\"ternary\":{\"aaxis\":{\"gridcolor\":\"white\",\"linecolor\":\"white\",\"ticks\":\"\"},\"baxis\":{\"gridcolor\":\"white\",\"linecolor\":\"white\",\"ticks\":\"\"},\"bgcolor\":\"#E5ECF6\",\"caxis\":{\"gridcolor\":\"white\",\"linecolor\":\"white\",\"ticks\":\"\"}},\"title\":{\"x\":0.05},\"xaxis\":{\"automargin\":true,\"gridcolor\":\"white\",\"linecolor\":\"white\",\"ticks\":\"\",\"title\":{\"standoff\":15},\"zerolinecolor\":\"white\",\"zerolinewidth\":2},\"yaxis\":{\"automargin\":true,\"gridcolor\":\"white\",\"linecolor\":\"white\",\"ticks\":\"\",\"title\":{\"standoff\":15},\"zerolinecolor\":\"white\",\"zerolinewidth\":2}}},\"mapbox\":{\"domain\":{\"x\":[0.0,1.0],\"y\":[0.0,1.0]},\"center\":{\"lat\":53.375892867800005,\"lon\":-2.38139239558},\"accesstoken\":\"pk.eyJ1IjoidTIwMTcyNDQyMyIsImEiOiJjbDN2eHZpaDgwMHdrM2txcHd5YzlwempxIn0.iDkPaJgRqFMJjiBW8_gVEQ\",\"zoom\":4},\"coloraxis\":{\"colorbar\":{\"title\":{\"text\":\"likes\"}},\"colorscale\":[[0.0,\"rgb(150,0,90)\"],[0.125,\"rgb(0,0,200)\"],[0.25,\"rgb(0,25,255)\"],[0.375,\"rgb(0,152,255)\"],[0.5,\"rgb(44,255,150)\"],[0.625,\"rgb(151,255,0)\"],[0.75,\"rgb(255,234,0)\"],[0.875,\"rgb(255,111,0)\"],[1.0,\"rgb(255,0,0)\"]]},\"legend\":{\"tracegroupgap\":0,\"itemsizing\":\"constant\"},\"margin\":{\"t\":0,\"r\":0,\"l\":0,\"b\":0},\"height\":450},                        {\"responsive\": true}                    ).then(function(){\n",
              "                            \n",
              "var gd = document.getElementById('29838937-662e-4078-8d7c-e176cd56c3ce');\n",
              "var x = new MutationObserver(function (mutations, observer) {{\n",
              "        var display = window.getComputedStyle(gd).display;\n",
              "        if (!display || display === 'none') {{\n",
              "            console.log([gd, 'removed!']);\n",
              "            Plotly.purge(gd);\n",
              "            observer.disconnect();\n",
              "        }}\n",
              "}});\n",
              "\n",
              "// Listen for the removal of the full notebook cells\n",
              "var notebookContainer = gd.closest('#notebook-container');\n",
              "if (notebookContainer) {{\n",
              "    x.observe(notebookContainer, {childList: true});\n",
              "}}\n",
              "\n",
              "// Listen for the clearing of the current output cell\n",
              "var outputEl = gd.closest('.output');\n",
              "if (outputEl) {{\n",
              "    x.observe(outputEl, {childList: true});\n",
              "}}\n",
              "\n",
              "                        })                };                            </script>        </div>\n",
              "</body>\n",
              "</html>"
            ]
          },
          "metadata": {}
        }
      ]
    },
    {
      "cell_type": "markdown",
      "source": [
        "En este gráfico se evidencia aún más claramente la zona con la mayor cantidad de Me gustas es `South Yorkshire` con más de `130M` de Me gustas le sigue después `West Midlands` con `121M`. Las regiones que menos interactuaron con el Me gusta fueron Belfast` y `Omagh`."
      ],
      "metadata": {
        "id": "EIPTMIiHE9wl"
      }
    },
    {
      "cell_type": "markdown",
      "source": [
        "##### No Me Gusta"
      ],
      "metadata": {
        "id": "bHeiFuodGry1"
      }
    },
    {
      "cell_type": "code",
      "source": [
        "fig = px.scatter_mapbox(dislikes_map, lat=\"lat\", lon=\"lon\", zoom=4, height=450, \n",
        "                        color=\"dislikes\", hover_name=\"state\", size=\"dislikes\", size_max=25,\n",
        "                        color_continuous_scale=px.colors.sequential.Rainbow\n",
        "                      )\n",
        "\n",
        "print( dislikes_map.sort_values(by=['dislikes'], ascending=False).head() )\n",
        "print( dislikes_map.sort_values(by=['dislikes']).head(2) )\n",
        "\n",
        "fig.update_layout(margin={\"r\":0,\"t\":0,\"l\":0,\"b\":0})\n",
        "fig.show()"
      ],
      "metadata": {
        "colab": {
          "base_uri": "https://localhost:8080/",
          "height": 626
        },
        "id": "XvQMxCAYGu7P",
        "outputId": "c3bbbb3b-5760-47e8-a9eb-a525addab580"
      },
      "execution_count": 40,
      "outputs": [
        {
          "output_type": "stream",
          "name": "stdout",
          "text": [
            "                           state   lon   lat  dislikes\n",
            "1   Bath And North East Somerset -2.35 51.38  12622353\n",
            "39                   Southampton -1.40 50.90   8617820\n",
            "38               South Yorkshire -1.50 53.37   8451143\n",
            "19                    Inverclyde -4.75 55.93   8390226\n",
            "17                       Glasgow -4.25 55.87   8385133\n",
            "         state   lon   lat  dislikes\n",
            "7      Cardiff -3.23 51.50   3906929\n",
            "26  Merseyside -2.92 53.42   3910656\n"
          ]
        },
        {
          "output_type": "display_data",
          "data": {
            "text/html": [
              "<html>\n",
              "<head><meta charset=\"utf-8\" /></head>\n",
              "<body>\n",
              "    <div>            <script src=\"https://cdnjs.cloudflare.com/ajax/libs/mathjax/2.7.5/MathJax.js?config=TeX-AMS-MML_SVG\"></script><script type=\"text/javascript\">if (window.MathJax) {MathJax.Hub.Config({SVG: {font: \"STIX-Web\"}});}</script>                <script type=\"text/javascript\">window.PlotlyConfig = {MathJaxConfig: 'local'};</script>\n",
              "        <script src=\"https://cdn.plot.ly/plotly-2.8.3.min.js\"></script>                <div id=\"17b6b3f5-e099-4f8c-bcb1-c53627c53f0d\" class=\"plotly-graph-div\" style=\"height:450px; width:100%;\"></div>            <script type=\"text/javascript\">                                    window.PLOTLYENV=window.PLOTLYENV || {};                                    if (document.getElementById(\"17b6b3f5-e099-4f8c-bcb1-c53627c53f0d\")) {                    Plotly.newPlot(                        \"17b6b3f5-e099-4f8c-bcb1-c53627c53f0d\",                        [{\"hovertemplate\":\"<b>%{hovertext}</b><br><br>dislikes=%{marker.color}<br>lat=%{lat}<br>lon=%{lon}<extra></extra>\",\"hovertext\":[\"Aberdeen\",\"Bath And North East Somerset\",\"Belfast\",\"Bournemouth\",\"Brighton And Hove\",\"Bristol\",\"Cambridgeshire\",\"Cardiff\",\"Cheshire\",\"Cornwall\",\"Cumbria\",\"Derry\",\"Devon\",\"Dumfries And Galloway\",\"Dundee\",\"Dungannon\",\"Edinburgh\",\"Glasgow\",\"Highland\",\"Inverclyde\",\"Kent\",\"Kingston Upon Hull\",\"Lancashire\",\"Leicester\",\"Luton\",\"Manchester\",\"Merseyside\",\"Moray\",\"Norfolk\",\"North Yorkshire\",\"Nottingham\",\"Omagh\",\"Oxfordshire\",\"Perthshire And Kinross\",\"Peterborough\",\"Plymouth\",\"Portsmouth\",\"South Ayrshire\",\"South Yorkshire\",\"Southampton\",\"Southend On Sea\",\"Stockton On Tees\",\"Stoke On Trent\",\"Suffolk\",\"Swansea\",\"Tyne And Wear\",\"West Midlands\",\"West Yorkshire\",\"Westminster\",\"York\"],\"lat\":[57.17039797,51.3837486,54.60001223,50.72999005,50.83034568,51.44999778,52.20039125,51.49999473,53.20002016,50.13372154,54.87999514,55.00037539,50.70040529,55.06708966,56.47038902,54.52037884,55.94832786,55.87440472,56.81647795,55.93329002,51.13371218,53.75042584,53.83039512,52.62997744,51.88035911,53.50041526,53.41600181,58.96698081,52.63036501,54.28039349,52.97034426,54.60001223,51.46997072,56.40034161,52.58041974,50.38538576,50.80034751,55.4503996,53.36667666,50.90003135,51.55001752,54.58037518,53.00036826,52.07034751,51.6299868,54.92001853,52.42040367,53.80003522,51.49999473,53.97038658],\"legendgroup\":\"\",\"lon\":[-2.079987021,-2.350022218,-5.960034425,-1.900049684,-0.169974407,-2.583315472,0.116623086,-3.22500757,-2.919987428,-5.550033611,-2.929986818,-7.333283937,-3.529950197,-3.550000652,-3.000008384,-6.670016929,-3.219090618,-4.250707236,-5.112075806,-4.750030763,1.300013386,-0.32999048,-3.050005332,-1.133248943,-0.420010825,-2.247987103,-2.917997886,-2.950011435,1.300013386,-0.429984376,-1.170016725,-7.300004315,-0.980028322,-3.469979697,-0.249995363,-4.159989259,-1.080022218,-4.61667973,-1.499996583,-1.399976849,0.71999711,-1.230013063,-2.180006756,1.169995482,-3.950002077,-1.380029746,-1.499996583,-1.749981325,-0.116721844,-1.080022218],\"marker\":{\"color\":[7664138,12622353,6507720,4586031,5207645,6105049,5889628,3906929,4584350,5580924,6809995,4764587,6640839,6013210,4900039,5278969,4904976,8385133,5874281,8390226,4280316,7004495,4996405,7640439,5083773,6664608,3910656,5001180,8286702,6853675,3957762,4181272,5462377,5809542,4757728,4679700,6000441,4133012,8451143,8617820,5230860,5329842,6605230,6330005,4629987,5646689,7366056,4435693,6111115,4174839],\"coloraxis\":\"coloraxis\",\"size\":[7664138,12622353,6507720,4586031,5207645,6105049,5889628,3906929,4584350,5580924,6809995,4764587,6640839,6013210,4900039,5278969,4904976,8385133,5874281,8390226,4280316,7004495,4996405,7640439,5083773,6664608,3910656,5001180,8286702,6853675,3957762,4181272,5462377,5809542,4757728,4679700,6000441,4133012,8451143,8617820,5230860,5329842,6605230,6330005,4629987,5646689,7366056,4435693,6111115,4174839],\"sizemode\":\"area\",\"sizeref\":20195.7648},\"mode\":\"markers\",\"name\":\"\",\"showlegend\":false,\"subplot\":\"mapbox\",\"type\":\"scattermapbox\"}],                        {\"template\":{\"data\":{\"bar\":[{\"error_x\":{\"color\":\"#2a3f5f\"},\"error_y\":{\"color\":\"#2a3f5f\"},\"marker\":{\"line\":{\"color\":\"#E5ECF6\",\"width\":0.5},\"pattern\":{\"fillmode\":\"overlay\",\"size\":10,\"solidity\":0.2}},\"type\":\"bar\"}],\"barpolar\":[{\"marker\":{\"line\":{\"color\":\"#E5ECF6\",\"width\":0.5},\"pattern\":{\"fillmode\":\"overlay\",\"size\":10,\"solidity\":0.2}},\"type\":\"barpolar\"}],\"carpet\":[{\"aaxis\":{\"endlinecolor\":\"#2a3f5f\",\"gridcolor\":\"white\",\"linecolor\":\"white\",\"minorgridcolor\":\"white\",\"startlinecolor\":\"#2a3f5f\"},\"baxis\":{\"endlinecolor\":\"#2a3f5f\",\"gridcolor\":\"white\",\"linecolor\":\"white\",\"minorgridcolor\":\"white\",\"startlinecolor\":\"#2a3f5f\"},\"type\":\"carpet\"}],\"choropleth\":[{\"colorbar\":{\"outlinewidth\":0,\"ticks\":\"\"},\"type\":\"choropleth\"}],\"contour\":[{\"colorbar\":{\"outlinewidth\":0,\"ticks\":\"\"},\"colorscale\":[[0.0,\"#0d0887\"],[0.1111111111111111,\"#46039f\"],[0.2222222222222222,\"#7201a8\"],[0.3333333333333333,\"#9c179e\"],[0.4444444444444444,\"#bd3786\"],[0.5555555555555556,\"#d8576b\"],[0.6666666666666666,\"#ed7953\"],[0.7777777777777778,\"#fb9f3a\"],[0.8888888888888888,\"#fdca26\"],[1.0,\"#f0f921\"]],\"type\":\"contour\"}],\"contourcarpet\":[{\"colorbar\":{\"outlinewidth\":0,\"ticks\":\"\"},\"type\":\"contourcarpet\"}],\"heatmap\":[{\"colorbar\":{\"outlinewidth\":0,\"ticks\":\"\"},\"colorscale\":[[0.0,\"#0d0887\"],[0.1111111111111111,\"#46039f\"],[0.2222222222222222,\"#7201a8\"],[0.3333333333333333,\"#9c179e\"],[0.4444444444444444,\"#bd3786\"],[0.5555555555555556,\"#d8576b\"],[0.6666666666666666,\"#ed7953\"],[0.7777777777777778,\"#fb9f3a\"],[0.8888888888888888,\"#fdca26\"],[1.0,\"#f0f921\"]],\"type\":\"heatmap\"}],\"heatmapgl\":[{\"colorbar\":{\"outlinewidth\":0,\"ticks\":\"\"},\"colorscale\":[[0.0,\"#0d0887\"],[0.1111111111111111,\"#46039f\"],[0.2222222222222222,\"#7201a8\"],[0.3333333333333333,\"#9c179e\"],[0.4444444444444444,\"#bd3786\"],[0.5555555555555556,\"#d8576b\"],[0.6666666666666666,\"#ed7953\"],[0.7777777777777778,\"#fb9f3a\"],[0.8888888888888888,\"#fdca26\"],[1.0,\"#f0f921\"]],\"type\":\"heatmapgl\"}],\"histogram\":[{\"marker\":{\"pattern\":{\"fillmode\":\"overlay\",\"size\":10,\"solidity\":0.2}},\"type\":\"histogram\"}],\"histogram2d\":[{\"colorbar\":{\"outlinewidth\":0,\"ticks\":\"\"},\"colorscale\":[[0.0,\"#0d0887\"],[0.1111111111111111,\"#46039f\"],[0.2222222222222222,\"#7201a8\"],[0.3333333333333333,\"#9c179e\"],[0.4444444444444444,\"#bd3786\"],[0.5555555555555556,\"#d8576b\"],[0.6666666666666666,\"#ed7953\"],[0.7777777777777778,\"#fb9f3a\"],[0.8888888888888888,\"#fdca26\"],[1.0,\"#f0f921\"]],\"type\":\"histogram2d\"}],\"histogram2dcontour\":[{\"colorbar\":{\"outlinewidth\":0,\"ticks\":\"\"},\"colorscale\":[[0.0,\"#0d0887\"],[0.1111111111111111,\"#46039f\"],[0.2222222222222222,\"#7201a8\"],[0.3333333333333333,\"#9c179e\"],[0.4444444444444444,\"#bd3786\"],[0.5555555555555556,\"#d8576b\"],[0.6666666666666666,\"#ed7953\"],[0.7777777777777778,\"#fb9f3a\"],[0.8888888888888888,\"#fdca26\"],[1.0,\"#f0f921\"]],\"type\":\"histogram2dcontour\"}],\"mesh3d\":[{\"colorbar\":{\"outlinewidth\":0,\"ticks\":\"\"},\"type\":\"mesh3d\"}],\"parcoords\":[{\"line\":{\"colorbar\":{\"outlinewidth\":0,\"ticks\":\"\"}},\"type\":\"parcoords\"}],\"pie\":[{\"automargin\":true,\"type\":\"pie\"}],\"scatter\":[{\"marker\":{\"colorbar\":{\"outlinewidth\":0,\"ticks\":\"\"}},\"type\":\"scatter\"}],\"scatter3d\":[{\"line\":{\"colorbar\":{\"outlinewidth\":0,\"ticks\":\"\"}},\"marker\":{\"colorbar\":{\"outlinewidth\":0,\"ticks\":\"\"}},\"type\":\"scatter3d\"}],\"scattercarpet\":[{\"marker\":{\"colorbar\":{\"outlinewidth\":0,\"ticks\":\"\"}},\"type\":\"scattercarpet\"}],\"scattergeo\":[{\"marker\":{\"colorbar\":{\"outlinewidth\":0,\"ticks\":\"\"}},\"type\":\"scattergeo\"}],\"scattergl\":[{\"marker\":{\"colorbar\":{\"outlinewidth\":0,\"ticks\":\"\"}},\"type\":\"scattergl\"}],\"scattermapbox\":[{\"marker\":{\"colorbar\":{\"outlinewidth\":0,\"ticks\":\"\"}},\"type\":\"scattermapbox\"}],\"scatterpolar\":[{\"marker\":{\"colorbar\":{\"outlinewidth\":0,\"ticks\":\"\"}},\"type\":\"scatterpolar\"}],\"scatterpolargl\":[{\"marker\":{\"colorbar\":{\"outlinewidth\":0,\"ticks\":\"\"}},\"type\":\"scatterpolargl\"}],\"scatterternary\":[{\"marker\":{\"colorbar\":{\"outlinewidth\":0,\"ticks\":\"\"}},\"type\":\"scatterternary\"}],\"surface\":[{\"colorbar\":{\"outlinewidth\":0,\"ticks\":\"\"},\"colorscale\":[[0.0,\"#0d0887\"],[0.1111111111111111,\"#46039f\"],[0.2222222222222222,\"#7201a8\"],[0.3333333333333333,\"#9c179e\"],[0.4444444444444444,\"#bd3786\"],[0.5555555555555556,\"#d8576b\"],[0.6666666666666666,\"#ed7953\"],[0.7777777777777778,\"#fb9f3a\"],[0.8888888888888888,\"#fdca26\"],[1.0,\"#f0f921\"]],\"type\":\"surface\"}],\"table\":[{\"cells\":{\"fill\":{\"color\":\"#EBF0F8\"},\"line\":{\"color\":\"white\"}},\"header\":{\"fill\":{\"color\":\"#C8D4E3\"},\"line\":{\"color\":\"white\"}},\"type\":\"table\"}]},\"layout\":{\"annotationdefaults\":{\"arrowcolor\":\"#2a3f5f\",\"arrowhead\":0,\"arrowwidth\":1},\"autotypenumbers\":\"strict\",\"coloraxis\":{\"colorbar\":{\"outlinewidth\":0,\"ticks\":\"\"}},\"colorscale\":{\"diverging\":[[0,\"#8e0152\"],[0.1,\"#c51b7d\"],[0.2,\"#de77ae\"],[0.3,\"#f1b6da\"],[0.4,\"#fde0ef\"],[0.5,\"#f7f7f7\"],[0.6,\"#e6f5d0\"],[0.7,\"#b8e186\"],[0.8,\"#7fbc41\"],[0.9,\"#4d9221\"],[1,\"#276419\"]],\"sequential\":[[0.0,\"#0d0887\"],[0.1111111111111111,\"#46039f\"],[0.2222222222222222,\"#7201a8\"],[0.3333333333333333,\"#9c179e\"],[0.4444444444444444,\"#bd3786\"],[0.5555555555555556,\"#d8576b\"],[0.6666666666666666,\"#ed7953\"],[0.7777777777777778,\"#fb9f3a\"],[0.8888888888888888,\"#fdca26\"],[1.0,\"#f0f921\"]],\"sequentialminus\":[[0.0,\"#0d0887\"],[0.1111111111111111,\"#46039f\"],[0.2222222222222222,\"#7201a8\"],[0.3333333333333333,\"#9c179e\"],[0.4444444444444444,\"#bd3786\"],[0.5555555555555556,\"#d8576b\"],[0.6666666666666666,\"#ed7953\"],[0.7777777777777778,\"#fb9f3a\"],[0.8888888888888888,\"#fdca26\"],[1.0,\"#f0f921\"]]},\"colorway\":[\"#636efa\",\"#EF553B\",\"#00cc96\",\"#ab63fa\",\"#FFA15A\",\"#19d3f3\",\"#FF6692\",\"#B6E880\",\"#FF97FF\",\"#FECB52\"],\"font\":{\"color\":\"#2a3f5f\"},\"geo\":{\"bgcolor\":\"white\",\"lakecolor\":\"white\",\"landcolor\":\"#E5ECF6\",\"showlakes\":true,\"showland\":true,\"subunitcolor\":\"white\"},\"hoverlabel\":{\"align\":\"left\"},\"hovermode\":\"closest\",\"mapbox\":{\"style\":\"light\"},\"paper_bgcolor\":\"white\",\"plot_bgcolor\":\"#E5ECF6\",\"polar\":{\"angularaxis\":{\"gridcolor\":\"white\",\"linecolor\":\"white\",\"ticks\":\"\"},\"bgcolor\":\"#E5ECF6\",\"radialaxis\":{\"gridcolor\":\"white\",\"linecolor\":\"white\",\"ticks\":\"\"}},\"scene\":{\"xaxis\":{\"backgroundcolor\":\"#E5ECF6\",\"gridcolor\":\"white\",\"gridwidth\":2,\"linecolor\":\"white\",\"showbackground\":true,\"ticks\":\"\",\"zerolinecolor\":\"white\"},\"yaxis\":{\"backgroundcolor\":\"#E5ECF6\",\"gridcolor\":\"white\",\"gridwidth\":2,\"linecolor\":\"white\",\"showbackground\":true,\"ticks\":\"\",\"zerolinecolor\":\"white\"},\"zaxis\":{\"backgroundcolor\":\"#E5ECF6\",\"gridcolor\":\"white\",\"gridwidth\":2,\"linecolor\":\"white\",\"showbackground\":true,\"ticks\":\"\",\"zerolinecolor\":\"white\"}},\"shapedefaults\":{\"line\":{\"color\":\"#2a3f5f\"}},\"ternary\":{\"aaxis\":{\"gridcolor\":\"white\",\"linecolor\":\"white\",\"ticks\":\"\"},\"baxis\":{\"gridcolor\":\"white\",\"linecolor\":\"white\",\"ticks\":\"\"},\"bgcolor\":\"#E5ECF6\",\"caxis\":{\"gridcolor\":\"white\",\"linecolor\":\"white\",\"ticks\":\"\"}},\"title\":{\"x\":0.05},\"xaxis\":{\"automargin\":true,\"gridcolor\":\"white\",\"linecolor\":\"white\",\"ticks\":\"\",\"title\":{\"standoff\":15},\"zerolinecolor\":\"white\",\"zerolinewidth\":2},\"yaxis\":{\"automargin\":true,\"gridcolor\":\"white\",\"linecolor\":\"white\",\"ticks\":\"\",\"title\":{\"standoff\":15},\"zerolinecolor\":\"white\",\"zerolinewidth\":2}}},\"mapbox\":{\"domain\":{\"x\":[0.0,1.0],\"y\":[0.0,1.0]},\"center\":{\"lat\":53.375892867800005,\"lon\":-2.38139239558},\"accesstoken\":\"pk.eyJ1IjoidTIwMTcyNDQyMyIsImEiOiJjbDN2eHZpaDgwMHdrM2txcHd5YzlwempxIn0.iDkPaJgRqFMJjiBW8_gVEQ\",\"zoom\":4},\"coloraxis\":{\"colorbar\":{\"title\":{\"text\":\"dislikes\"}},\"colorscale\":[[0.0,\"rgb(150,0,90)\"],[0.125,\"rgb(0,0,200)\"],[0.25,\"rgb(0,25,255)\"],[0.375,\"rgb(0,152,255)\"],[0.5,\"rgb(44,255,150)\"],[0.625,\"rgb(151,255,0)\"],[0.75,\"rgb(255,234,0)\"],[0.875,\"rgb(255,111,0)\"],[1.0,\"rgb(255,0,0)\"]]},\"legend\":{\"tracegroupgap\":0,\"itemsizing\":\"constant\"},\"margin\":{\"t\":0,\"r\":0,\"l\":0,\"b\":0},\"height\":450},                        {\"responsive\": true}                    ).then(function(){\n",
              "                            \n",
              "var gd = document.getElementById('17b6b3f5-e099-4f8c-bcb1-c53627c53f0d');\n",
              "var x = new MutationObserver(function (mutations, observer) {{\n",
              "        var display = window.getComputedStyle(gd).display;\n",
              "        if (!display || display === 'none') {{\n",
              "            console.log([gd, 'removed!']);\n",
              "            Plotly.purge(gd);\n",
              "            observer.disconnect();\n",
              "        }}\n",
              "}});\n",
              "\n",
              "// Listen for the removal of the full notebook cells\n",
              "var notebookContainer = gd.closest('#notebook-container');\n",
              "if (notebookContainer) {{\n",
              "    x.observe(notebookContainer, {childList: true});\n",
              "}}\n",
              "\n",
              "// Listen for the clearing of the current output cell\n",
              "var outputEl = gd.closest('.output');\n",
              "if (outputEl) {{\n",
              "    x.observe(outputEl, {childList: true});\n",
              "}}\n",
              "\n",
              "                        })                };                            </script>        </div>\n",
              "</body>\n",
              "</html>"
            ]
          },
          "metadata": {}
        }
      ]
    },
    {
      "cell_type": "markdown",
      "source": [
        "Pocas regiones interactúan con el botón de No Me Gusta pero entre todas destaca `Bath And North East Somerset` con una gran cantidad de No Me Gustas en relación al resto de los estados. Exactamente la diferencia entre el primero y el segundo estado es de más de `4M` de No Me Gustas. "
      ],
      "metadata": {
        "id": "jNNcq7jRHNOc"
      }
    },
    {
      "cell_type": "markdown",
      "source": [
        "### Adicionalmente, al cliente le gustaría conocer si:"
      ],
      "metadata": {
        "id": "RxbOhfrdGEmw"
      }
    },
    {
      "cell_type": "markdown",
      "source": [
        "#### ¿Es factible predecir el número de “Vistas” o “Me gusta” o “No me gusta”?"
      ],
      "metadata": {
        "id": "ANihqK3tGQOi"
      }
    },
    {
      "cell_type": "code",
      "source": [
        "dfs=df.sort_values(by=['views'], ascending=False)\n",
        "dfs[['views','likes','dislikes']]"
      ],
      "metadata": {
        "id": "GpOUf7gQGWO9",
        "colab": {
          "base_uri": "https://localhost:8080/",
          "height": 423
        },
        "outputId": "e7122246-ced7-444c-920a-1affbf6e8ab0"
      },
      "execution_count": 41,
      "outputs": [
        {
          "output_type": "execute_result",
          "data": {
            "text/plain": [
              "           views    likes  dislikes\n",
              "28412  424538912  2818771    149275\n",
              "28212  413586699  2768654    145643\n",
              "28008  402650804  2719005    142006\n",
              "27811  392036878  2670723    138334\n",
              "27615  382401497  2618320    134625\n",
              "...          ...      ...       ...\n",
              "4342         972       13         0\n",
              "4113         937       13         0\n",
              "3908         922       13         0\n",
              "3701         890       13         0\n",
              "3477         851       12         0\n",
              "\n",
              "[38916 rows x 3 columns]"
            ],
            "text/html": [
              "\n",
              "  <div id=\"df-abdd54aa-5816-4ffe-a693-4b6c432e2289\">\n",
              "    <div class=\"colab-df-container\">\n",
              "      <div>\n",
              "<style scoped>\n",
              "    .dataframe tbody tr th:only-of-type {\n",
              "        vertical-align: middle;\n",
              "    }\n",
              "\n",
              "    .dataframe tbody tr th {\n",
              "        vertical-align: top;\n",
              "    }\n",
              "\n",
              "    .dataframe thead th {\n",
              "        text-align: right;\n",
              "    }\n",
              "</style>\n",
              "<table border=\"1\" class=\"dataframe\">\n",
              "  <thead>\n",
              "    <tr style=\"text-align: right;\">\n",
              "      <th></th>\n",
              "      <th>views</th>\n",
              "      <th>likes</th>\n",
              "      <th>dislikes</th>\n",
              "    </tr>\n",
              "  </thead>\n",
              "  <tbody>\n",
              "    <tr>\n",
              "      <th>28412</th>\n",
              "      <td>424538912</td>\n",
              "      <td>2818771</td>\n",
              "      <td>149275</td>\n",
              "    </tr>\n",
              "    <tr>\n",
              "      <th>28212</th>\n",
              "      <td>413586699</td>\n",
              "      <td>2768654</td>\n",
              "      <td>145643</td>\n",
              "    </tr>\n",
              "    <tr>\n",
              "      <th>28008</th>\n",
              "      <td>402650804</td>\n",
              "      <td>2719005</td>\n",
              "      <td>142006</td>\n",
              "    </tr>\n",
              "    <tr>\n",
              "      <th>27811</th>\n",
              "      <td>392036878</td>\n",
              "      <td>2670723</td>\n",
              "      <td>138334</td>\n",
              "    </tr>\n",
              "    <tr>\n",
              "      <th>27615</th>\n",
              "      <td>382401497</td>\n",
              "      <td>2618320</td>\n",
              "      <td>134625</td>\n",
              "    </tr>\n",
              "    <tr>\n",
              "      <th>...</th>\n",
              "      <td>...</td>\n",
              "      <td>...</td>\n",
              "      <td>...</td>\n",
              "    </tr>\n",
              "    <tr>\n",
              "      <th>4342</th>\n",
              "      <td>972</td>\n",
              "      <td>13</td>\n",
              "      <td>0</td>\n",
              "    </tr>\n",
              "    <tr>\n",
              "      <th>4113</th>\n",
              "      <td>937</td>\n",
              "      <td>13</td>\n",
              "      <td>0</td>\n",
              "    </tr>\n",
              "    <tr>\n",
              "      <th>3908</th>\n",
              "      <td>922</td>\n",
              "      <td>13</td>\n",
              "      <td>0</td>\n",
              "    </tr>\n",
              "    <tr>\n",
              "      <th>3701</th>\n",
              "      <td>890</td>\n",
              "      <td>13</td>\n",
              "      <td>0</td>\n",
              "    </tr>\n",
              "    <tr>\n",
              "      <th>3477</th>\n",
              "      <td>851</td>\n",
              "      <td>12</td>\n",
              "      <td>0</td>\n",
              "    </tr>\n",
              "  </tbody>\n",
              "</table>\n",
              "<p>38916 rows × 3 columns</p>\n",
              "</div>\n",
              "      <button class=\"colab-df-convert\" onclick=\"convertToInteractive('df-abdd54aa-5816-4ffe-a693-4b6c432e2289')\"\n",
              "              title=\"Convert this dataframe to an interactive table.\"\n",
              "              style=\"display:none;\">\n",
              "        \n",
              "  <svg xmlns=\"http://www.w3.org/2000/svg\" height=\"24px\"viewBox=\"0 0 24 24\"\n",
              "       width=\"24px\">\n",
              "    <path d=\"M0 0h24v24H0V0z\" fill=\"none\"/>\n",
              "    <path d=\"M18.56 5.44l.94 2.06.94-2.06 2.06-.94-2.06-.94-.94-2.06-.94 2.06-2.06.94zm-11 1L8.5 8.5l.94-2.06 2.06-.94-2.06-.94L8.5 2.5l-.94 2.06-2.06.94zm10 10l.94 2.06.94-2.06 2.06-.94-2.06-.94-.94-2.06-.94 2.06-2.06.94z\"/><path d=\"M17.41 7.96l-1.37-1.37c-.4-.4-.92-.59-1.43-.59-.52 0-1.04.2-1.43.59L10.3 9.45l-7.72 7.72c-.78.78-.78 2.05 0 2.83L4 21.41c.39.39.9.59 1.41.59.51 0 1.02-.2 1.41-.59l7.78-7.78 2.81-2.81c.8-.78.8-2.07 0-2.86zM5.41 20L4 18.59l7.72-7.72 1.47 1.35L5.41 20z\"/>\n",
              "  </svg>\n",
              "      </button>\n",
              "      \n",
              "  <style>\n",
              "    .colab-df-container {\n",
              "      display:flex;\n",
              "      flex-wrap:wrap;\n",
              "      gap: 12px;\n",
              "    }\n",
              "\n",
              "    .colab-df-convert {\n",
              "      background-color: #E8F0FE;\n",
              "      border: none;\n",
              "      border-radius: 50%;\n",
              "      cursor: pointer;\n",
              "      display: none;\n",
              "      fill: #1967D2;\n",
              "      height: 32px;\n",
              "      padding: 0 0 0 0;\n",
              "      width: 32px;\n",
              "    }\n",
              "\n",
              "    .colab-df-convert:hover {\n",
              "      background-color: #E2EBFA;\n",
              "      box-shadow: 0px 1px 2px rgba(60, 64, 67, 0.3), 0px 1px 3px 1px rgba(60, 64, 67, 0.15);\n",
              "      fill: #174EA6;\n",
              "    }\n",
              "\n",
              "    [theme=dark] .colab-df-convert {\n",
              "      background-color: #3B4455;\n",
              "      fill: #D2E3FC;\n",
              "    }\n",
              "\n",
              "    [theme=dark] .colab-df-convert:hover {\n",
              "      background-color: #434B5C;\n",
              "      box-shadow: 0px 1px 3px 1px rgba(0, 0, 0, 0.15);\n",
              "      filter: drop-shadow(0px 1px 2px rgba(0, 0, 0, 0.3));\n",
              "      fill: #FFFFFF;\n",
              "    }\n",
              "  </style>\n",
              "\n",
              "      <script>\n",
              "        const buttonEl =\n",
              "          document.querySelector('#df-abdd54aa-5816-4ffe-a693-4b6c432e2289 button.colab-df-convert');\n",
              "        buttonEl.style.display =\n",
              "          google.colab.kernel.accessAllowed ? 'block' : 'none';\n",
              "\n",
              "        async function convertToInteractive(key) {\n",
              "          const element = document.querySelector('#df-abdd54aa-5816-4ffe-a693-4b6c432e2289');\n",
              "          const dataTable =\n",
              "            await google.colab.kernel.invokeFunction('convertToInteractive',\n",
              "                                                     [key], {});\n",
              "          if (!dataTable) return;\n",
              "\n",
              "          const docLinkHtml = 'Like what you see? Visit the ' +\n",
              "            '<a target=\"_blank\" href=https://colab.research.google.com/notebooks/data_table.ipynb>data table notebook</a>'\n",
              "            + ' to learn more about interactive tables.';\n",
              "          element.innerHTML = '';\n",
              "          dataTable['output_type'] = 'display_data';\n",
              "          await google.colab.output.renderOutput(dataTable, element);\n",
              "          const docLink = document.createElement('div');\n",
              "          docLink.innerHTML = docLinkHtml;\n",
              "          element.appendChild(docLink);\n",
              "        }\n",
              "      </script>\n",
              "    </div>\n",
              "  </div>\n",
              "  "
            ]
          },
          "metadata": {},
          "execution_count": 41
        }
      ]
    },
    {
      "cell_type": "markdown",
      "source": [
        ":Se asume que la cantidad de “Vistas” o “Me gusta” o “No me gusta” , depende de la popularidad del video "
      ],
      "metadata": {
        "id": "6tWKwZiKJid6"
      }
    },
    {
      "cell_type": "code",
      "source": [
        "mask = (df['views'] >= df['likes'])\n",
        "df[['likes','dislikes']]\n",
        "dfa = df[df['likes'] > df['dislikes']]\n",
        "dfb[['views','likes','dislikes']]"
      ],
      "metadata": {
        "colab": {
          "base_uri": "https://localhost:8080/",
          "height": 1000
        },
        "id": "8QEM3gQuMrL8",
        "outputId": "297ef618-c883-41fb-a6c7-44650038e6cd"
      },
      "execution_count": null,
      "outputs": [
        {
          "output_type": "execute_result",
          "data": {
            "text/plain": [
              "        views  likes  dislikes\n",
              "91     159065   1160      1164\n",
              "309    160381   1168      1170\n",
              "1183   161542   1173      1174\n",
              "1390   161624   1173      1174\n",
              "6237   194417    603      4732\n",
              "6418   708489   3960     54062\n",
              "6450   197887    619      4765\n",
              "6622   753386   4167     57285\n",
              "6655   199235    621      4779\n",
              "6831   773421   4234     58327\n",
              "6868   200228    622      4781\n",
              "7045   781487   4280     58726\n",
              "7080   201025    625      4786\n",
              "7259   786088   4305     58932\n",
              "7293   206126    625      4787\n",
              "7481   789818   4329     59157\n",
              "7516   206471    624      4789\n",
              "7690   793707   4345     59383\n",
              "7728   206813    626      4791\n",
              "7896   796700   4351     59537\n",
              "7934   207111    626      4794\n",
              "8109   797730   4355     59550\n",
              "8147   207855    626      4796\n",
              "8317   798461   4361     59573\n",
              "8355   208233    626      4800\n",
              "8524   798893   4362     59583\n",
              "8563   208446    627      4800\n",
              "8733   799336   4366     59597\n",
              "8772   208718    627      4800\n",
              "8944   799676   4370     59607\n",
              "8984   208981    627      4803\n",
              "9151   803678   4375     59671\n",
              "9191   209811    631      4807\n",
              "9358   804272   4375     59680\n",
              "9579   804559   4374     59684\n",
              "9782   804763   4373     59687\n",
              "9990   804935   4372     59691\n",
              "29197  102129    635       675\n",
              "29387  106311    666       727\n",
              "29569  109831    691       767\n",
              "29755  110730    695       774\n",
              "33797  868163  17644     75955\n",
              "33871  868163  17644     75955"
            ],
            "text/html": [
              "\n",
              "  <div id=\"df-5f164e0c-1c64-4363-bd7a-e5b26c8e1c68\">\n",
              "    <div class=\"colab-df-container\">\n",
              "      <div>\n",
              "<style scoped>\n",
              "    .dataframe tbody tr th:only-of-type {\n",
              "        vertical-align: middle;\n",
              "    }\n",
              "\n",
              "    .dataframe tbody tr th {\n",
              "        vertical-align: top;\n",
              "    }\n",
              "\n",
              "    .dataframe thead th {\n",
              "        text-align: right;\n",
              "    }\n",
              "</style>\n",
              "<table border=\"1\" class=\"dataframe\">\n",
              "  <thead>\n",
              "    <tr style=\"text-align: right;\">\n",
              "      <th></th>\n",
              "      <th>views</th>\n",
              "      <th>likes</th>\n",
              "      <th>dislikes</th>\n",
              "    </tr>\n",
              "  </thead>\n",
              "  <tbody>\n",
              "    <tr>\n",
              "      <th>91</th>\n",
              "      <td>159065</td>\n",
              "      <td>1160</td>\n",
              "      <td>1164</td>\n",
              "    </tr>\n",
              "    <tr>\n",
              "      <th>309</th>\n",
              "      <td>160381</td>\n",
              "      <td>1168</td>\n",
              "      <td>1170</td>\n",
              "    </tr>\n",
              "    <tr>\n",
              "      <th>1183</th>\n",
              "      <td>161542</td>\n",
              "      <td>1173</td>\n",
              "      <td>1174</td>\n",
              "    </tr>\n",
              "    <tr>\n",
              "      <th>1390</th>\n",
              "      <td>161624</td>\n",
              "      <td>1173</td>\n",
              "      <td>1174</td>\n",
              "    </tr>\n",
              "    <tr>\n",
              "      <th>6237</th>\n",
              "      <td>194417</td>\n",
              "      <td>603</td>\n",
              "      <td>4732</td>\n",
              "    </tr>\n",
              "    <tr>\n",
              "      <th>6418</th>\n",
              "      <td>708489</td>\n",
              "      <td>3960</td>\n",
              "      <td>54062</td>\n",
              "    </tr>\n",
              "    <tr>\n",
              "      <th>6450</th>\n",
              "      <td>197887</td>\n",
              "      <td>619</td>\n",
              "      <td>4765</td>\n",
              "    </tr>\n",
              "    <tr>\n",
              "      <th>6622</th>\n",
              "      <td>753386</td>\n",
              "      <td>4167</td>\n",
              "      <td>57285</td>\n",
              "    </tr>\n",
              "    <tr>\n",
              "      <th>6655</th>\n",
              "      <td>199235</td>\n",
              "      <td>621</td>\n",
              "      <td>4779</td>\n",
              "    </tr>\n",
              "    <tr>\n",
              "      <th>6831</th>\n",
              "      <td>773421</td>\n",
              "      <td>4234</td>\n",
              "      <td>58327</td>\n",
              "    </tr>\n",
              "    <tr>\n",
              "      <th>6868</th>\n",
              "      <td>200228</td>\n",
              "      <td>622</td>\n",
              "      <td>4781</td>\n",
              "    </tr>\n",
              "    <tr>\n",
              "      <th>7045</th>\n",
              "      <td>781487</td>\n",
              "      <td>4280</td>\n",
              "      <td>58726</td>\n",
              "    </tr>\n",
              "    <tr>\n",
              "      <th>7080</th>\n",
              "      <td>201025</td>\n",
              "      <td>625</td>\n",
              "      <td>4786</td>\n",
              "    </tr>\n",
              "    <tr>\n",
              "      <th>7259</th>\n",
              "      <td>786088</td>\n",
              "      <td>4305</td>\n",
              "      <td>58932</td>\n",
              "    </tr>\n",
              "    <tr>\n",
              "      <th>7293</th>\n",
              "      <td>206126</td>\n",
              "      <td>625</td>\n",
              "      <td>4787</td>\n",
              "    </tr>\n",
              "    <tr>\n",
              "      <th>7481</th>\n",
              "      <td>789818</td>\n",
              "      <td>4329</td>\n",
              "      <td>59157</td>\n",
              "    </tr>\n",
              "    <tr>\n",
              "      <th>7516</th>\n",
              "      <td>206471</td>\n",
              "      <td>624</td>\n",
              "      <td>4789</td>\n",
              "    </tr>\n",
              "    <tr>\n",
              "      <th>7690</th>\n",
              "      <td>793707</td>\n",
              "      <td>4345</td>\n",
              "      <td>59383</td>\n",
              "    </tr>\n",
              "    <tr>\n",
              "      <th>7728</th>\n",
              "      <td>206813</td>\n",
              "      <td>626</td>\n",
              "      <td>4791</td>\n",
              "    </tr>\n",
              "    <tr>\n",
              "      <th>7896</th>\n",
              "      <td>796700</td>\n",
              "      <td>4351</td>\n",
              "      <td>59537</td>\n",
              "    </tr>\n",
              "    <tr>\n",
              "      <th>7934</th>\n",
              "      <td>207111</td>\n",
              "      <td>626</td>\n",
              "      <td>4794</td>\n",
              "    </tr>\n",
              "    <tr>\n",
              "      <th>8109</th>\n",
              "      <td>797730</td>\n",
              "      <td>4355</td>\n",
              "      <td>59550</td>\n",
              "    </tr>\n",
              "    <tr>\n",
              "      <th>8147</th>\n",
              "      <td>207855</td>\n",
              "      <td>626</td>\n",
              "      <td>4796</td>\n",
              "    </tr>\n",
              "    <tr>\n",
              "      <th>8317</th>\n",
              "      <td>798461</td>\n",
              "      <td>4361</td>\n",
              "      <td>59573</td>\n",
              "    </tr>\n",
              "    <tr>\n",
              "      <th>8355</th>\n",
              "      <td>208233</td>\n",
              "      <td>626</td>\n",
              "      <td>4800</td>\n",
              "    </tr>\n",
              "    <tr>\n",
              "      <th>8524</th>\n",
              "      <td>798893</td>\n",
              "      <td>4362</td>\n",
              "      <td>59583</td>\n",
              "    </tr>\n",
              "    <tr>\n",
              "      <th>8563</th>\n",
              "      <td>208446</td>\n",
              "      <td>627</td>\n",
              "      <td>4800</td>\n",
              "    </tr>\n",
              "    <tr>\n",
              "      <th>8733</th>\n",
              "      <td>799336</td>\n",
              "      <td>4366</td>\n",
              "      <td>59597</td>\n",
              "    </tr>\n",
              "    <tr>\n",
              "      <th>8772</th>\n",
              "      <td>208718</td>\n",
              "      <td>627</td>\n",
              "      <td>4800</td>\n",
              "    </tr>\n",
              "    <tr>\n",
              "      <th>8944</th>\n",
              "      <td>799676</td>\n",
              "      <td>4370</td>\n",
              "      <td>59607</td>\n",
              "    </tr>\n",
              "    <tr>\n",
              "      <th>8984</th>\n",
              "      <td>208981</td>\n",
              "      <td>627</td>\n",
              "      <td>4803</td>\n",
              "    </tr>\n",
              "    <tr>\n",
              "      <th>9151</th>\n",
              "      <td>803678</td>\n",
              "      <td>4375</td>\n",
              "      <td>59671</td>\n",
              "    </tr>\n",
              "    <tr>\n",
              "      <th>9191</th>\n",
              "      <td>209811</td>\n",
              "      <td>631</td>\n",
              "      <td>4807</td>\n",
              "    </tr>\n",
              "    <tr>\n",
              "      <th>9358</th>\n",
              "      <td>804272</td>\n",
              "      <td>4375</td>\n",
              "      <td>59680</td>\n",
              "    </tr>\n",
              "    <tr>\n",
              "      <th>9579</th>\n",
              "      <td>804559</td>\n",
              "      <td>4374</td>\n",
              "      <td>59684</td>\n",
              "    </tr>\n",
              "    <tr>\n",
              "      <th>9782</th>\n",
              "      <td>804763</td>\n",
              "      <td>4373</td>\n",
              "      <td>59687</td>\n",
              "    </tr>\n",
              "    <tr>\n",
              "      <th>9990</th>\n",
              "      <td>804935</td>\n",
              "      <td>4372</td>\n",
              "      <td>59691</td>\n",
              "    </tr>\n",
              "    <tr>\n",
              "      <th>29197</th>\n",
              "      <td>102129</td>\n",
              "      <td>635</td>\n",
              "      <td>675</td>\n",
              "    </tr>\n",
              "    <tr>\n",
              "      <th>29387</th>\n",
              "      <td>106311</td>\n",
              "      <td>666</td>\n",
              "      <td>727</td>\n",
              "    </tr>\n",
              "    <tr>\n",
              "      <th>29569</th>\n",
              "      <td>109831</td>\n",
              "      <td>691</td>\n",
              "      <td>767</td>\n",
              "    </tr>\n",
              "    <tr>\n",
              "      <th>29755</th>\n",
              "      <td>110730</td>\n",
              "      <td>695</td>\n",
              "      <td>774</td>\n",
              "    </tr>\n",
              "    <tr>\n",
              "      <th>33797</th>\n",
              "      <td>868163</td>\n",
              "      <td>17644</td>\n",
              "      <td>75955</td>\n",
              "    </tr>\n",
              "    <tr>\n",
              "      <th>33871</th>\n",
              "      <td>868163</td>\n",
              "      <td>17644</td>\n",
              "      <td>75955</td>\n",
              "    </tr>\n",
              "  </tbody>\n",
              "</table>\n",
              "</div>\n",
              "      <button class=\"colab-df-convert\" onclick=\"convertToInteractive('df-5f164e0c-1c64-4363-bd7a-e5b26c8e1c68')\"\n",
              "              title=\"Convert this dataframe to an interactive table.\"\n",
              "              style=\"display:none;\">\n",
              "        \n",
              "  <svg xmlns=\"http://www.w3.org/2000/svg\" height=\"24px\"viewBox=\"0 0 24 24\"\n",
              "       width=\"24px\">\n",
              "    <path d=\"M0 0h24v24H0V0z\" fill=\"none\"/>\n",
              "    <path d=\"M18.56 5.44l.94 2.06.94-2.06 2.06-.94-2.06-.94-.94-2.06-.94 2.06-2.06.94zm-11 1L8.5 8.5l.94-2.06 2.06-.94-2.06-.94L8.5 2.5l-.94 2.06-2.06.94zm10 10l.94 2.06.94-2.06 2.06-.94-2.06-.94-.94-2.06-.94 2.06-2.06.94z\"/><path d=\"M17.41 7.96l-1.37-1.37c-.4-.4-.92-.59-1.43-.59-.52 0-1.04.2-1.43.59L10.3 9.45l-7.72 7.72c-.78.78-.78 2.05 0 2.83L4 21.41c.39.39.9.59 1.41.59.51 0 1.02-.2 1.41-.59l7.78-7.78 2.81-2.81c.8-.78.8-2.07 0-2.86zM5.41 20L4 18.59l7.72-7.72 1.47 1.35L5.41 20z\"/>\n",
              "  </svg>\n",
              "      </button>\n",
              "      \n",
              "  <style>\n",
              "    .colab-df-container {\n",
              "      display:flex;\n",
              "      flex-wrap:wrap;\n",
              "      gap: 12px;\n",
              "    }\n",
              "\n",
              "    .colab-df-convert {\n",
              "      background-color: #E8F0FE;\n",
              "      border: none;\n",
              "      border-radius: 50%;\n",
              "      cursor: pointer;\n",
              "      display: none;\n",
              "      fill: #1967D2;\n",
              "      height: 32px;\n",
              "      padding: 0 0 0 0;\n",
              "      width: 32px;\n",
              "    }\n",
              "\n",
              "    .colab-df-convert:hover {\n",
              "      background-color: #E2EBFA;\n",
              "      box-shadow: 0px 1px 2px rgba(60, 64, 67, 0.3), 0px 1px 3px 1px rgba(60, 64, 67, 0.15);\n",
              "      fill: #174EA6;\n",
              "    }\n",
              "\n",
              "    [theme=dark] .colab-df-convert {\n",
              "      background-color: #3B4455;\n",
              "      fill: #D2E3FC;\n",
              "    }\n",
              "\n",
              "    [theme=dark] .colab-df-convert:hover {\n",
              "      background-color: #434B5C;\n",
              "      box-shadow: 0px 1px 3px 1px rgba(0, 0, 0, 0.15);\n",
              "      filter: drop-shadow(0px 1px 2px rgba(0, 0, 0, 0.3));\n",
              "      fill: #FFFFFF;\n",
              "    }\n",
              "  </style>\n",
              "\n",
              "      <script>\n",
              "        const buttonEl =\n",
              "          document.querySelector('#df-5f164e0c-1c64-4363-bd7a-e5b26c8e1c68 button.colab-df-convert');\n",
              "        buttonEl.style.display =\n",
              "          google.colab.kernel.accessAllowed ? 'block' : 'none';\n",
              "\n",
              "        async function convertToInteractive(key) {\n",
              "          const element = document.querySelector('#df-5f164e0c-1c64-4363-bd7a-e5b26c8e1c68');\n",
              "          const dataTable =\n",
              "            await google.colab.kernel.invokeFunction('convertToInteractive',\n",
              "                                                     [key], {});\n",
              "          if (!dataTable) return;\n",
              "\n",
              "          const docLinkHtml = 'Like what you see? Visit the ' +\n",
              "            '<a target=\"_blank\" href=https://colab.research.google.com/notebooks/data_table.ipynb>data table notebook</a>'\n",
              "            + ' to learn more about interactive tables.';\n",
              "          element.innerHTML = '';\n",
              "          dataTable['output_type'] = 'display_data';\n",
              "          await google.colab.output.renderOutput(dataTable, element);\n",
              "          const docLink = document.createElement('div');\n",
              "          docLink.innerHTML = docLinkHtml;\n",
              "          element.appendChild(docLink);\n",
              "        }\n",
              "      </script>\n",
              "    </div>\n",
              "  </div>\n",
              "  "
            ]
          },
          "metadata": {},
          "execution_count": 26
        }
      ]
    },
    {
      "cell_type": "markdown",
      "source": [
        "No es factible predecir la cantidad de \"vistas\" , \"me gusta\", \"no me gusta\" , de un video porque el factor puede variar dependiendo del contenido del video , algunos pueden tener mayor vistas y tener mas \"no me gusta\" de lo que un video de menor vistas pueda tener mayor \"me gustas\""
      ],
      "metadata": {
        "id": "EyN-t9ySP8QL"
      }
    },
    {
      "cell_type": "markdown",
      "source": [
        "#### ¿Los videos en tendencia son los que mayor cantidad de comentarios positivos reciben?"
      ],
      "metadata": {
        "id": "7ImtXb0_GWfw"
      }
    },
    {
      "cell_type": "markdown",
      "source": [
        "Se asume que la cantidad de comentarios negativos se da cuando hay un alto número de dislikes (más alto que el de los likes), que los comentarios fueron deshabilitados o que se deshabilitaron la calificación por rating"
      ],
      "metadata": {
        "id": "dWULBJ-gSevu"
      }
    },
    {
      "cell_type": "code",
      "source": [
        "dfs=df.sort_values(by=['views'], ascending=False)\n",
        "dfs[['views','likes','dislikes','comments_disabled','ratings_disabled']]"
      ],
      "metadata": {
        "colab": {
          "base_uri": "https://localhost:8080/",
          "height": 424
        },
        "id": "ITB-LE_lMBAH",
        "outputId": "aac55229-84db-4f52-e54b-5040425f0d9c"
      },
      "execution_count": null,
      "outputs": [
        {
          "output_type": "execute_result",
          "data": {
            "text/plain": [
              "           views    likes  dislikes  comments_disabled  ratings_disabled\n",
              "28412  424538912  2818771    149275              False             False\n",
              "28212  413586699  2768654    145643              False             False\n",
              "28008  402650804  2719005    142006              False             False\n",
              "27811  392036878  2670723    138334              False             False\n",
              "27615  382401497  2618320    134625              False             False\n",
              "...          ...      ...       ...                ...               ...\n",
              "4342         972       13         0              False             False\n",
              "4113         937       13         0              False             False\n",
              "3908         922       13         0              False             False\n",
              "3701         890       13         0              False             False\n",
              "3477         851       12         0              False             False\n",
              "\n",
              "[38916 rows x 5 columns]"
            ],
            "text/html": [
              "\n",
              "  <div id=\"df-fe91ae83-dec1-43e4-9d0f-c6a6d7c6aa2f\">\n",
              "    <div class=\"colab-df-container\">\n",
              "      <div>\n",
              "<style scoped>\n",
              "    .dataframe tbody tr th:only-of-type {\n",
              "        vertical-align: middle;\n",
              "    }\n",
              "\n",
              "    .dataframe tbody tr th {\n",
              "        vertical-align: top;\n",
              "    }\n",
              "\n",
              "    .dataframe thead th {\n",
              "        text-align: right;\n",
              "    }\n",
              "</style>\n",
              "<table border=\"1\" class=\"dataframe\">\n",
              "  <thead>\n",
              "    <tr style=\"text-align: right;\">\n",
              "      <th></th>\n",
              "      <th>views</th>\n",
              "      <th>likes</th>\n",
              "      <th>dislikes</th>\n",
              "      <th>comments_disabled</th>\n",
              "      <th>ratings_disabled</th>\n",
              "    </tr>\n",
              "  </thead>\n",
              "  <tbody>\n",
              "    <tr>\n",
              "      <th>28412</th>\n",
              "      <td>424538912</td>\n",
              "      <td>2818771</td>\n",
              "      <td>149275</td>\n",
              "      <td>False</td>\n",
              "      <td>False</td>\n",
              "    </tr>\n",
              "    <tr>\n",
              "      <th>28212</th>\n",
              "      <td>413586699</td>\n",
              "      <td>2768654</td>\n",
              "      <td>145643</td>\n",
              "      <td>False</td>\n",
              "      <td>False</td>\n",
              "    </tr>\n",
              "    <tr>\n",
              "      <th>28008</th>\n",
              "      <td>402650804</td>\n",
              "      <td>2719005</td>\n",
              "      <td>142006</td>\n",
              "      <td>False</td>\n",
              "      <td>False</td>\n",
              "    </tr>\n",
              "    <tr>\n",
              "      <th>27811</th>\n",
              "      <td>392036878</td>\n",
              "      <td>2670723</td>\n",
              "      <td>138334</td>\n",
              "      <td>False</td>\n",
              "      <td>False</td>\n",
              "    </tr>\n",
              "    <tr>\n",
              "      <th>27615</th>\n",
              "      <td>382401497</td>\n",
              "      <td>2618320</td>\n",
              "      <td>134625</td>\n",
              "      <td>False</td>\n",
              "      <td>False</td>\n",
              "    </tr>\n",
              "    <tr>\n",
              "      <th>...</th>\n",
              "      <td>...</td>\n",
              "      <td>...</td>\n",
              "      <td>...</td>\n",
              "      <td>...</td>\n",
              "      <td>...</td>\n",
              "    </tr>\n",
              "    <tr>\n",
              "      <th>4342</th>\n",
              "      <td>972</td>\n",
              "      <td>13</td>\n",
              "      <td>0</td>\n",
              "      <td>False</td>\n",
              "      <td>False</td>\n",
              "    </tr>\n",
              "    <tr>\n",
              "      <th>4113</th>\n",
              "      <td>937</td>\n",
              "      <td>13</td>\n",
              "      <td>0</td>\n",
              "      <td>False</td>\n",
              "      <td>False</td>\n",
              "    </tr>\n",
              "    <tr>\n",
              "      <th>3908</th>\n",
              "      <td>922</td>\n",
              "      <td>13</td>\n",
              "      <td>0</td>\n",
              "      <td>False</td>\n",
              "      <td>False</td>\n",
              "    </tr>\n",
              "    <tr>\n",
              "      <th>3701</th>\n",
              "      <td>890</td>\n",
              "      <td>13</td>\n",
              "      <td>0</td>\n",
              "      <td>False</td>\n",
              "      <td>False</td>\n",
              "    </tr>\n",
              "    <tr>\n",
              "      <th>3477</th>\n",
              "      <td>851</td>\n",
              "      <td>12</td>\n",
              "      <td>0</td>\n",
              "      <td>False</td>\n",
              "      <td>False</td>\n",
              "    </tr>\n",
              "  </tbody>\n",
              "</table>\n",
              "<p>38916 rows × 5 columns</p>\n",
              "</div>\n",
              "      <button class=\"colab-df-convert\" onclick=\"convertToInteractive('df-fe91ae83-dec1-43e4-9d0f-c6a6d7c6aa2f')\"\n",
              "              title=\"Convert this dataframe to an interactive table.\"\n",
              "              style=\"display:none;\">\n",
              "        \n",
              "  <svg xmlns=\"http://www.w3.org/2000/svg\" height=\"24px\"viewBox=\"0 0 24 24\"\n",
              "       width=\"24px\">\n",
              "    <path d=\"M0 0h24v24H0V0z\" fill=\"none\"/>\n",
              "    <path d=\"M18.56 5.44l.94 2.06.94-2.06 2.06-.94-2.06-.94-.94-2.06-.94 2.06-2.06.94zm-11 1L8.5 8.5l.94-2.06 2.06-.94-2.06-.94L8.5 2.5l-.94 2.06-2.06.94zm10 10l.94 2.06.94-2.06 2.06-.94-2.06-.94-.94-2.06-.94 2.06-2.06.94z\"/><path d=\"M17.41 7.96l-1.37-1.37c-.4-.4-.92-.59-1.43-.59-.52 0-1.04.2-1.43.59L10.3 9.45l-7.72 7.72c-.78.78-.78 2.05 0 2.83L4 21.41c.39.39.9.59 1.41.59.51 0 1.02-.2 1.41-.59l7.78-7.78 2.81-2.81c.8-.78.8-2.07 0-2.86zM5.41 20L4 18.59l7.72-7.72 1.47 1.35L5.41 20z\"/>\n",
              "  </svg>\n",
              "      </button>\n",
              "      \n",
              "  <style>\n",
              "    .colab-df-container {\n",
              "      display:flex;\n",
              "      flex-wrap:wrap;\n",
              "      gap: 12px;\n",
              "    }\n",
              "\n",
              "    .colab-df-convert {\n",
              "      background-color: #E8F0FE;\n",
              "      border: none;\n",
              "      border-radius: 50%;\n",
              "      cursor: pointer;\n",
              "      display: none;\n",
              "      fill: #1967D2;\n",
              "      height: 32px;\n",
              "      padding: 0 0 0 0;\n",
              "      width: 32px;\n",
              "    }\n",
              "\n",
              "    .colab-df-convert:hover {\n",
              "      background-color: #E2EBFA;\n",
              "      box-shadow: 0px 1px 2px rgba(60, 64, 67, 0.3), 0px 1px 3px 1px rgba(60, 64, 67, 0.15);\n",
              "      fill: #174EA6;\n",
              "    }\n",
              "\n",
              "    [theme=dark] .colab-df-convert {\n",
              "      background-color: #3B4455;\n",
              "      fill: #D2E3FC;\n",
              "    }\n",
              "\n",
              "    [theme=dark] .colab-df-convert:hover {\n",
              "      background-color: #434B5C;\n",
              "      box-shadow: 0px 1px 3px 1px rgba(0, 0, 0, 0.15);\n",
              "      filter: drop-shadow(0px 1px 2px rgba(0, 0, 0, 0.3));\n",
              "      fill: #FFFFFF;\n",
              "    }\n",
              "  </style>\n",
              "\n",
              "      <script>\n",
              "        const buttonEl =\n",
              "          document.querySelector('#df-fe91ae83-dec1-43e4-9d0f-c6a6d7c6aa2f button.colab-df-convert');\n",
              "        buttonEl.style.display =\n",
              "          google.colab.kernel.accessAllowed ? 'block' : 'none';\n",
              "\n",
              "        async function convertToInteractive(key) {\n",
              "          const element = document.querySelector('#df-fe91ae83-dec1-43e4-9d0f-c6a6d7c6aa2f');\n",
              "          const dataTable =\n",
              "            await google.colab.kernel.invokeFunction('convertToInteractive',\n",
              "                                                     [key], {});\n",
              "          if (!dataTable) return;\n",
              "\n",
              "          const docLinkHtml = 'Like what you see? Visit the ' +\n",
              "            '<a target=\"_blank\" href=https://colab.research.google.com/notebooks/data_table.ipynb>data table notebook</a>'\n",
              "            + ' to learn more about interactive tables.';\n",
              "          element.innerHTML = '';\n",
              "          dataTable['output_type'] = 'display_data';\n",
              "          await google.colab.output.renderOutput(dataTable, element);\n",
              "          const docLink = document.createElement('div');\n",
              "          docLink.innerHTML = docLinkHtml;\n",
              "          element.appendChild(docLink);\n",
              "        }\n",
              "      </script>\n",
              "    </div>\n",
              "  </div>\n",
              "  "
            ]
          },
          "metadata": {},
          "execution_count": 21
        }
      ]
    },
    {
      "cell_type": "markdown",
      "source": [
        "Como se puede ver los videos con mayores views que son los que mas en tendencia estan no tienen ese comportamiento"
      ],
      "metadata": {
        "id": "HhQk1NgdS2Kf"
      }
    },
    {
      "cell_type": "code",
      "source": [
        "mask = (df['likes'] >= df['dislikes'])\n",
        "df[['likes','dislikes']]\n",
        "dfa = df[df['likes'] < df['dislikes']]\n",
        "dfb = dfa[df['comments_disabled']==True]\n",
        "'''\n",
        "Notas del editor:\n",
        "  se usaria \"DFC\" pero como se ve en el resultado no hay valores con True en nuestro filtrado\n",
        "'''\n",
        "dfc = dfb[df['ratings_disabled']==True]\n",
        "dfb[['views','likes','dislikes','comments_disabled','ratings_disabled']]"
      ],
      "metadata": {
        "colab": {
          "base_uri": "https://localhost:8080/",
          "height": 1000
        },
        "id": "sRfIu2trTJ9Q",
        "outputId": "1324b646-7a96-4a71-dd73-f9a28a4cf907"
      },
      "execution_count": null,
      "outputs": [
        {
          "output_type": "stream",
          "name": "stderr",
          "text": [
            "/usr/local/lib/python3.7/dist-packages/ipykernel_launcher.py:4: UserWarning: Boolean Series key will be reindexed to match DataFrame index.\n",
            "  after removing the cwd from sys.path.\n",
            "/usr/local/lib/python3.7/dist-packages/ipykernel_launcher.py:9: UserWarning: Boolean Series key will be reindexed to match DataFrame index.\n",
            "  if __name__ == '__main__':\n"
          ]
        },
        {
          "output_type": "execute_result",
          "data": {
            "text/plain": [
              "        views  likes  dislikes  comments_disabled  ratings_disabled\n",
              "91     159065   1160      1164               True             False\n",
              "309    160381   1168      1170               True             False\n",
              "1183   161542   1173      1174               True             False\n",
              "1390   161624   1173      1174               True             False\n",
              "6237   194417    603      4732               True             False\n",
              "6418   708489   3960     54062               True             False\n",
              "6450   197887    619      4765               True             False\n",
              "6622   753386   4167     57285               True             False\n",
              "6655   199235    621      4779               True             False\n",
              "6831   773421   4234     58327               True             False\n",
              "6868   200228    622      4781               True             False\n",
              "7045   781487   4280     58726               True             False\n",
              "7080   201025    625      4786               True             False\n",
              "7259   786088   4305     58932               True             False\n",
              "7293   206126    625      4787               True             False\n",
              "7481   789818   4329     59157               True             False\n",
              "7516   206471    624      4789               True             False\n",
              "7690   793707   4345     59383               True             False\n",
              "7728   206813    626      4791               True             False\n",
              "7896   796700   4351     59537               True             False\n",
              "7934   207111    626      4794               True             False\n",
              "8109   797730   4355     59550               True             False\n",
              "8147   207855    626      4796               True             False\n",
              "8317   798461   4361     59573               True             False\n",
              "8355   208233    626      4800               True             False\n",
              "8524   798893   4362     59583               True             False\n",
              "8563   208446    627      4800               True             False\n",
              "8733   799336   4366     59597               True             False\n",
              "8772   208718    627      4800               True             False\n",
              "8944   799676   4370     59607               True             False\n",
              "8984   208981    627      4803               True             False\n",
              "9151   803678   4375     59671               True             False\n",
              "9191   209811    631      4807               True             False\n",
              "9358   804272   4375     59680               True             False\n",
              "9579   804559   4374     59684               True             False\n",
              "9782   804763   4373     59687               True             False\n",
              "9990   804935   4372     59691               True             False\n",
              "29197  102129    635       675               True             False\n",
              "29387  106311    666       727               True             False\n",
              "29569  109831    691       767               True             False\n",
              "29755  110730    695       774               True             False\n",
              "33797  868163  17644     75955               True             False\n",
              "33871  868163  17644     75955               True             False"
            ],
            "text/html": [
              "\n",
              "  <div id=\"df-c165e434-e0a4-4259-bce8-9e6ce7e825fe\">\n",
              "    <div class=\"colab-df-container\">\n",
              "      <div>\n",
              "<style scoped>\n",
              "    .dataframe tbody tr th:only-of-type {\n",
              "        vertical-align: middle;\n",
              "    }\n",
              "\n",
              "    .dataframe tbody tr th {\n",
              "        vertical-align: top;\n",
              "    }\n",
              "\n",
              "    .dataframe thead th {\n",
              "        text-align: right;\n",
              "    }\n",
              "</style>\n",
              "<table border=\"1\" class=\"dataframe\">\n",
              "  <thead>\n",
              "    <tr style=\"text-align: right;\">\n",
              "      <th></th>\n",
              "      <th>views</th>\n",
              "      <th>likes</th>\n",
              "      <th>dislikes</th>\n",
              "      <th>comments_disabled</th>\n",
              "      <th>ratings_disabled</th>\n",
              "    </tr>\n",
              "  </thead>\n",
              "  <tbody>\n",
              "    <tr>\n",
              "      <th>91</th>\n",
              "      <td>159065</td>\n",
              "      <td>1160</td>\n",
              "      <td>1164</td>\n",
              "      <td>True</td>\n",
              "      <td>False</td>\n",
              "    </tr>\n",
              "    <tr>\n",
              "      <th>309</th>\n",
              "      <td>160381</td>\n",
              "      <td>1168</td>\n",
              "      <td>1170</td>\n",
              "      <td>True</td>\n",
              "      <td>False</td>\n",
              "    </tr>\n",
              "    <tr>\n",
              "      <th>1183</th>\n",
              "      <td>161542</td>\n",
              "      <td>1173</td>\n",
              "      <td>1174</td>\n",
              "      <td>True</td>\n",
              "      <td>False</td>\n",
              "    </tr>\n",
              "    <tr>\n",
              "      <th>1390</th>\n",
              "      <td>161624</td>\n",
              "      <td>1173</td>\n",
              "      <td>1174</td>\n",
              "      <td>True</td>\n",
              "      <td>False</td>\n",
              "    </tr>\n",
              "    <tr>\n",
              "      <th>6237</th>\n",
              "      <td>194417</td>\n",
              "      <td>603</td>\n",
              "      <td>4732</td>\n",
              "      <td>True</td>\n",
              "      <td>False</td>\n",
              "    </tr>\n",
              "    <tr>\n",
              "      <th>6418</th>\n",
              "      <td>708489</td>\n",
              "      <td>3960</td>\n",
              "      <td>54062</td>\n",
              "      <td>True</td>\n",
              "      <td>False</td>\n",
              "    </tr>\n",
              "    <tr>\n",
              "      <th>6450</th>\n",
              "      <td>197887</td>\n",
              "      <td>619</td>\n",
              "      <td>4765</td>\n",
              "      <td>True</td>\n",
              "      <td>False</td>\n",
              "    </tr>\n",
              "    <tr>\n",
              "      <th>6622</th>\n",
              "      <td>753386</td>\n",
              "      <td>4167</td>\n",
              "      <td>57285</td>\n",
              "      <td>True</td>\n",
              "      <td>False</td>\n",
              "    </tr>\n",
              "    <tr>\n",
              "      <th>6655</th>\n",
              "      <td>199235</td>\n",
              "      <td>621</td>\n",
              "      <td>4779</td>\n",
              "      <td>True</td>\n",
              "      <td>False</td>\n",
              "    </tr>\n",
              "    <tr>\n",
              "      <th>6831</th>\n",
              "      <td>773421</td>\n",
              "      <td>4234</td>\n",
              "      <td>58327</td>\n",
              "      <td>True</td>\n",
              "      <td>False</td>\n",
              "    </tr>\n",
              "    <tr>\n",
              "      <th>6868</th>\n",
              "      <td>200228</td>\n",
              "      <td>622</td>\n",
              "      <td>4781</td>\n",
              "      <td>True</td>\n",
              "      <td>False</td>\n",
              "    </tr>\n",
              "    <tr>\n",
              "      <th>7045</th>\n",
              "      <td>781487</td>\n",
              "      <td>4280</td>\n",
              "      <td>58726</td>\n",
              "      <td>True</td>\n",
              "      <td>False</td>\n",
              "    </tr>\n",
              "    <tr>\n",
              "      <th>7080</th>\n",
              "      <td>201025</td>\n",
              "      <td>625</td>\n",
              "      <td>4786</td>\n",
              "      <td>True</td>\n",
              "      <td>False</td>\n",
              "    </tr>\n",
              "    <tr>\n",
              "      <th>7259</th>\n",
              "      <td>786088</td>\n",
              "      <td>4305</td>\n",
              "      <td>58932</td>\n",
              "      <td>True</td>\n",
              "      <td>False</td>\n",
              "    </tr>\n",
              "    <tr>\n",
              "      <th>7293</th>\n",
              "      <td>206126</td>\n",
              "      <td>625</td>\n",
              "      <td>4787</td>\n",
              "      <td>True</td>\n",
              "      <td>False</td>\n",
              "    </tr>\n",
              "    <tr>\n",
              "      <th>7481</th>\n",
              "      <td>789818</td>\n",
              "      <td>4329</td>\n",
              "      <td>59157</td>\n",
              "      <td>True</td>\n",
              "      <td>False</td>\n",
              "    </tr>\n",
              "    <tr>\n",
              "      <th>7516</th>\n",
              "      <td>206471</td>\n",
              "      <td>624</td>\n",
              "      <td>4789</td>\n",
              "      <td>True</td>\n",
              "      <td>False</td>\n",
              "    </tr>\n",
              "    <tr>\n",
              "      <th>7690</th>\n",
              "      <td>793707</td>\n",
              "      <td>4345</td>\n",
              "      <td>59383</td>\n",
              "      <td>True</td>\n",
              "      <td>False</td>\n",
              "    </tr>\n",
              "    <tr>\n",
              "      <th>7728</th>\n",
              "      <td>206813</td>\n",
              "      <td>626</td>\n",
              "      <td>4791</td>\n",
              "      <td>True</td>\n",
              "      <td>False</td>\n",
              "    </tr>\n",
              "    <tr>\n",
              "      <th>7896</th>\n",
              "      <td>796700</td>\n",
              "      <td>4351</td>\n",
              "      <td>59537</td>\n",
              "      <td>True</td>\n",
              "      <td>False</td>\n",
              "    </tr>\n",
              "    <tr>\n",
              "      <th>7934</th>\n",
              "      <td>207111</td>\n",
              "      <td>626</td>\n",
              "      <td>4794</td>\n",
              "      <td>True</td>\n",
              "      <td>False</td>\n",
              "    </tr>\n",
              "    <tr>\n",
              "      <th>8109</th>\n",
              "      <td>797730</td>\n",
              "      <td>4355</td>\n",
              "      <td>59550</td>\n",
              "      <td>True</td>\n",
              "      <td>False</td>\n",
              "    </tr>\n",
              "    <tr>\n",
              "      <th>8147</th>\n",
              "      <td>207855</td>\n",
              "      <td>626</td>\n",
              "      <td>4796</td>\n",
              "      <td>True</td>\n",
              "      <td>False</td>\n",
              "    </tr>\n",
              "    <tr>\n",
              "      <th>8317</th>\n",
              "      <td>798461</td>\n",
              "      <td>4361</td>\n",
              "      <td>59573</td>\n",
              "      <td>True</td>\n",
              "      <td>False</td>\n",
              "    </tr>\n",
              "    <tr>\n",
              "      <th>8355</th>\n",
              "      <td>208233</td>\n",
              "      <td>626</td>\n",
              "      <td>4800</td>\n",
              "      <td>True</td>\n",
              "      <td>False</td>\n",
              "    </tr>\n",
              "    <tr>\n",
              "      <th>8524</th>\n",
              "      <td>798893</td>\n",
              "      <td>4362</td>\n",
              "      <td>59583</td>\n",
              "      <td>True</td>\n",
              "      <td>False</td>\n",
              "    </tr>\n",
              "    <tr>\n",
              "      <th>8563</th>\n",
              "      <td>208446</td>\n",
              "      <td>627</td>\n",
              "      <td>4800</td>\n",
              "      <td>True</td>\n",
              "      <td>False</td>\n",
              "    </tr>\n",
              "    <tr>\n",
              "      <th>8733</th>\n",
              "      <td>799336</td>\n",
              "      <td>4366</td>\n",
              "      <td>59597</td>\n",
              "      <td>True</td>\n",
              "      <td>False</td>\n",
              "    </tr>\n",
              "    <tr>\n",
              "      <th>8772</th>\n",
              "      <td>208718</td>\n",
              "      <td>627</td>\n",
              "      <td>4800</td>\n",
              "      <td>True</td>\n",
              "      <td>False</td>\n",
              "    </tr>\n",
              "    <tr>\n",
              "      <th>8944</th>\n",
              "      <td>799676</td>\n",
              "      <td>4370</td>\n",
              "      <td>59607</td>\n",
              "      <td>True</td>\n",
              "      <td>False</td>\n",
              "    </tr>\n",
              "    <tr>\n",
              "      <th>8984</th>\n",
              "      <td>208981</td>\n",
              "      <td>627</td>\n",
              "      <td>4803</td>\n",
              "      <td>True</td>\n",
              "      <td>False</td>\n",
              "    </tr>\n",
              "    <tr>\n",
              "      <th>9151</th>\n",
              "      <td>803678</td>\n",
              "      <td>4375</td>\n",
              "      <td>59671</td>\n",
              "      <td>True</td>\n",
              "      <td>False</td>\n",
              "    </tr>\n",
              "    <tr>\n",
              "      <th>9191</th>\n",
              "      <td>209811</td>\n",
              "      <td>631</td>\n",
              "      <td>4807</td>\n",
              "      <td>True</td>\n",
              "      <td>False</td>\n",
              "    </tr>\n",
              "    <tr>\n",
              "      <th>9358</th>\n",
              "      <td>804272</td>\n",
              "      <td>4375</td>\n",
              "      <td>59680</td>\n",
              "      <td>True</td>\n",
              "      <td>False</td>\n",
              "    </tr>\n",
              "    <tr>\n",
              "      <th>9579</th>\n",
              "      <td>804559</td>\n",
              "      <td>4374</td>\n",
              "      <td>59684</td>\n",
              "      <td>True</td>\n",
              "      <td>False</td>\n",
              "    </tr>\n",
              "    <tr>\n",
              "      <th>9782</th>\n",
              "      <td>804763</td>\n",
              "      <td>4373</td>\n",
              "      <td>59687</td>\n",
              "      <td>True</td>\n",
              "      <td>False</td>\n",
              "    </tr>\n",
              "    <tr>\n",
              "      <th>9990</th>\n",
              "      <td>804935</td>\n",
              "      <td>4372</td>\n",
              "      <td>59691</td>\n",
              "      <td>True</td>\n",
              "      <td>False</td>\n",
              "    </tr>\n",
              "    <tr>\n",
              "      <th>29197</th>\n",
              "      <td>102129</td>\n",
              "      <td>635</td>\n",
              "      <td>675</td>\n",
              "      <td>True</td>\n",
              "      <td>False</td>\n",
              "    </tr>\n",
              "    <tr>\n",
              "      <th>29387</th>\n",
              "      <td>106311</td>\n",
              "      <td>666</td>\n",
              "      <td>727</td>\n",
              "      <td>True</td>\n",
              "      <td>False</td>\n",
              "    </tr>\n",
              "    <tr>\n",
              "      <th>29569</th>\n",
              "      <td>109831</td>\n",
              "      <td>691</td>\n",
              "      <td>767</td>\n",
              "      <td>True</td>\n",
              "      <td>False</td>\n",
              "    </tr>\n",
              "    <tr>\n",
              "      <th>29755</th>\n",
              "      <td>110730</td>\n",
              "      <td>695</td>\n",
              "      <td>774</td>\n",
              "      <td>True</td>\n",
              "      <td>False</td>\n",
              "    </tr>\n",
              "    <tr>\n",
              "      <th>33797</th>\n",
              "      <td>868163</td>\n",
              "      <td>17644</td>\n",
              "      <td>75955</td>\n",
              "      <td>True</td>\n",
              "      <td>False</td>\n",
              "    </tr>\n",
              "    <tr>\n",
              "      <th>33871</th>\n",
              "      <td>868163</td>\n",
              "      <td>17644</td>\n",
              "      <td>75955</td>\n",
              "      <td>True</td>\n",
              "      <td>False</td>\n",
              "    </tr>\n",
              "  </tbody>\n",
              "</table>\n",
              "</div>\n",
              "      <button class=\"colab-df-convert\" onclick=\"convertToInteractive('df-c165e434-e0a4-4259-bce8-9e6ce7e825fe')\"\n",
              "              title=\"Convert this dataframe to an interactive table.\"\n",
              "              style=\"display:none;\">\n",
              "        \n",
              "  <svg xmlns=\"http://www.w3.org/2000/svg\" height=\"24px\"viewBox=\"0 0 24 24\"\n",
              "       width=\"24px\">\n",
              "    <path d=\"M0 0h24v24H0V0z\" fill=\"none\"/>\n",
              "    <path d=\"M18.56 5.44l.94 2.06.94-2.06 2.06-.94-2.06-.94-.94-2.06-.94 2.06-2.06.94zm-11 1L8.5 8.5l.94-2.06 2.06-.94-2.06-.94L8.5 2.5l-.94 2.06-2.06.94zm10 10l.94 2.06.94-2.06 2.06-.94-2.06-.94-.94-2.06-.94 2.06-2.06.94z\"/><path d=\"M17.41 7.96l-1.37-1.37c-.4-.4-.92-.59-1.43-.59-.52 0-1.04.2-1.43.59L10.3 9.45l-7.72 7.72c-.78.78-.78 2.05 0 2.83L4 21.41c.39.39.9.59 1.41.59.51 0 1.02-.2 1.41-.59l7.78-7.78 2.81-2.81c.8-.78.8-2.07 0-2.86zM5.41 20L4 18.59l7.72-7.72 1.47 1.35L5.41 20z\"/>\n",
              "  </svg>\n",
              "      </button>\n",
              "      \n",
              "  <style>\n",
              "    .colab-df-container {\n",
              "      display:flex;\n",
              "      flex-wrap:wrap;\n",
              "      gap: 12px;\n",
              "    }\n",
              "\n",
              "    .colab-df-convert {\n",
              "      background-color: #E8F0FE;\n",
              "      border: none;\n",
              "      border-radius: 50%;\n",
              "      cursor: pointer;\n",
              "      display: none;\n",
              "      fill: #1967D2;\n",
              "      height: 32px;\n",
              "      padding: 0 0 0 0;\n",
              "      width: 32px;\n",
              "    }\n",
              "\n",
              "    .colab-df-convert:hover {\n",
              "      background-color: #E2EBFA;\n",
              "      box-shadow: 0px 1px 2px rgba(60, 64, 67, 0.3), 0px 1px 3px 1px rgba(60, 64, 67, 0.15);\n",
              "      fill: #174EA6;\n",
              "    }\n",
              "\n",
              "    [theme=dark] .colab-df-convert {\n",
              "      background-color: #3B4455;\n",
              "      fill: #D2E3FC;\n",
              "    }\n",
              "\n",
              "    [theme=dark] .colab-df-convert:hover {\n",
              "      background-color: #434B5C;\n",
              "      box-shadow: 0px 1px 3px 1px rgba(0, 0, 0, 0.15);\n",
              "      filter: drop-shadow(0px 1px 2px rgba(0, 0, 0, 0.3));\n",
              "      fill: #FFFFFF;\n",
              "    }\n",
              "  </style>\n",
              "\n",
              "      <script>\n",
              "        const buttonEl =\n",
              "          document.querySelector('#df-c165e434-e0a4-4259-bce8-9e6ce7e825fe button.colab-df-convert');\n",
              "        buttonEl.style.display =\n",
              "          google.colab.kernel.accessAllowed ? 'block' : 'none';\n",
              "\n",
              "        async function convertToInteractive(key) {\n",
              "          const element = document.querySelector('#df-c165e434-e0a4-4259-bce8-9e6ce7e825fe');\n",
              "          const dataTable =\n",
              "            await google.colab.kernel.invokeFunction('convertToInteractive',\n",
              "                                                     [key], {});\n",
              "          if (!dataTable) return;\n",
              "\n",
              "          const docLinkHtml = 'Like what you see? Visit the ' +\n",
              "            '<a target=\"_blank\" href=https://colab.research.google.com/notebooks/data_table.ipynb>data table notebook</a>'\n",
              "            + ' to learn more about interactive tables.';\n",
              "          element.innerHTML = '';\n",
              "          dataTable['output_type'] = 'display_data';\n",
              "          await google.colab.output.renderOutput(dataTable, element);\n",
              "          const docLink = document.createElement('div');\n",
              "          docLink.innerHTML = docLinkHtml;\n",
              "          element.appendChild(docLink);\n",
              "        }\n",
              "      </script>\n",
              "    </div>\n",
              "  </div>\n",
              "  "
            ]
          },
          "metadata": {},
          "execution_count": 105
        }
      ]
    },
    {
      "cell_type": "markdown",
      "source": [
        "Como se puede ver no necesariamente los videos con mayores views o que mas tendencia marcan son los que tienen comentarios negativos\n"
      ],
      "metadata": {
        "id": "dvdlP720cR7B"
      }
    },
    {
      "cell_type": "markdown",
      "source": [
        "### **Approach 2 Metodo de aprendizaje automatico con boosting**"
      ],
      "metadata": {
        "id": "1HP4sJeYdBTS"
      }
    },
    {
      "cell_type": "code",
      "source": [
        "sns.heatmap(df.corr())"
      ],
      "metadata": {
        "colab": {
          "base_uri": "https://localhost:8080/",
          "height": 395
        },
        "id": "a4_bom2ZalJG",
        "outputId": "0c3a27f7-5eea-4e68-ae9f-f4181f750ffa"
      },
      "execution_count": 47,
      "outputs": [
        {
          "output_type": "execute_result",
          "data": {
            "text/plain": [
              "<matplotlib.axes._subplots.AxesSubplot at 0x7fe7733bb590>"
            ]
          },
          "metadata": {},
          "execution_count": 47
        },
        {
          "output_type": "display_data",
          "data": {
            "text/plain": [
              "<Figure size 432x288 with 2 Axes>"
            ],
            "image/png": "[encoded data removed]"
          },
          "metadata": {
            "needs_background": "dark"
          }
        }
      ]
    },
    {
      "cell_type": "code",
      "source": [
        "X = df[['likes','dislikes','views','comment_count']]\n",
        "y = df['comments_disabled']"
      ],
      "metadata": {
        "id": "sZGy_uxjay0N"
      },
      "execution_count": 48,
      "outputs": []
    },
    {
      "cell_type": "code",
      "source": [
        "X = X.to_numpy()"
      ],
      "metadata": {
        "id": "X3kQPKPQcVTB"
      },
      "execution_count": 49,
      "outputs": []
    },
    {
      "cell_type": "code",
      "source": [
        "X[0:5]"
      ],
      "metadata": {
        "colab": {
          "base_uri": "https://localhost:8080/"
        },
        "id": "K1juVpoXcW_T",
        "outputId": "93582500-2a31-4574-d2d3-f3abb7df88b2"
      },
      "execution_count": 50,
      "outputs": [
        {
          "output_type": "execute_result",
          "data": {
            "text/plain": [
              "array([[   55681,    10247,  7224515,     9479],\n",
              "       [   25561,     2294,  1053632,     2757],\n",
              "       [  787420,    43420, 17158579,   125882],\n",
              "       [     193,       12,    27833,       37],\n",
              "       [      30,        2,     9815,       30]])"
            ]
          },
          "metadata": {},
          "execution_count": 50
        }
      ]
    },
    {
      "cell_type": "code",
      "source": [
        "y = y.to_numpy()"
      ],
      "metadata": {
        "id": "8Aa-o-GocZuu"
      },
      "execution_count": 51,
      "outputs": []
    },
    {
      "cell_type": "code",
      "source": [
        "y[0:5]"
      ],
      "metadata": {
        "colab": {
          "base_uri": "https://localhost:8080/"
        },
        "id": "9UOfUaNgcay4",
        "outputId": "258c9471-240c-4df8-d1e9-04fc2cee6cf4"
      },
      "execution_count": 52,
      "outputs": [
        {
          "output_type": "execute_result",
          "data": {
            "text/plain": [
              "array([False, False, False, False, False])"
            ]
          },
          "metadata": {},
          "execution_count": 52
        }
      ]
    },
    {
      "cell_type": "code",
      "source": [
        "X_train, X_test, y_train, y_test = train_test_split(X, y, test_size = 0.20, random_state = 0)"
      ],
      "metadata": {
        "id": "XDZDgDnccc0z"
      },
      "execution_count": 53,
      "outputs": []
    },
    {
      "cell_type": "code",
      "source": [
        "X_train[0:5]"
      ],
      "metadata": {
        "colab": {
          "base_uri": "https://localhost:8080/"
        },
        "id": "MF4C7nuycesl",
        "outputId": "ee230f7b-afd8-4bf5-a162-d4378b561d75"
      },
      "execution_count": 54,
      "outputs": [
        {
          "output_type": "execute_result",
          "data": {
            "text/plain": [
              "array([[    327,      27,   28872,      38],\n",
              "       [  12159,     439,  239848,     931],\n",
              "       [  31727,     543, 1860859,    1231],\n",
              "       [  12065,     352,  216784,    2723],\n",
              "       [   8251,     917, 1689988,    1374]])"
            ]
          },
          "metadata": {},
          "execution_count": 54
        }
      ]
    },
    {
      "cell_type": "code",
      "source": [
        "X_test[0:5]"
      ],
      "metadata": {
        "colab": {
          "base_uri": "https://localhost:8080/"
        },
        "id": "jUGBLhMYcf2L",
        "outputId": "35420f97-1f96-45fd-effc-4628ad832677"
      },
      "execution_count": 55,
      "outputs": [
        {
          "output_type": "execute_result",
          "data": {
            "text/plain": [
              "array([[    5103,      370,   328693,      946],\n",
              "       [   73280,     1771,  2038158,     8539],\n",
              "       [    4827,      305,   377945,     1182],\n",
              "       [   36571,     3715,   555962,    13827],\n",
              "       [ 1642648,    52596, 71173287,   108846]])"
            ]
          },
          "metadata": {},
          "execution_count": 55
        }
      ]
    },
    {
      "cell_type": "code",
      "source": [
        "X_train_orig = X_train\n",
        "X_test_orig = X_train"
      ],
      "metadata": {
        "id": "TEgMYVyAch1W"
      },
      "execution_count": 56,
      "outputs": []
    },
    {
      "cell_type": "code",
      "source": [
        "X_train = StandardScaler().fit_transform(X_train)\n",
        "X_test = StandardScaler().fit_transform(X_test)"
      ],
      "metadata": {
        "id": "dp5qbfnmckLd"
      },
      "execution_count": 57,
      "outputs": []
    },
    {
      "cell_type": "code",
      "source": [
        "X_train[0:5]"
      ],
      "metadata": {
        "colab": {
          "base_uri": "https://localhost:8080/"
        },
        "id": "AowYwHu0ck9Z",
        "outputId": "e492b55d-0391-44c5-a80c-578ae8000623"
      },
      "execution_count": 58,
      "outputs": [
        {
          "output_type": "execute_result",
          "data": {
            "text/plain": [
              "array([[-0.37933956, -0.14401135, -0.30856688, -0.25501804],\n",
              "       [-0.34582583, -0.13626307, -0.29748071, -0.23761812],\n",
              "       [-0.29040014, -0.13430719, -0.21230132, -0.23177269],\n",
              "       [-0.34609208, -0.13789924, -0.29869265, -0.20270138],\n",
              "       [-0.35689511, -0.12727356, -0.22128009, -0.22898636]])"
            ]
          },
          "metadata": {},
          "execution_count": 58
        }
      ]
    },
    {
      "cell_type": "code",
      "source": [
        "X_test[0:5]"
      ],
      "metadata": {
        "colab": {
          "base_uri": "https://localhost:8080/"
        },
        "id": "QoMp5OPWcmzt",
        "outputId": "da99e032-6430-439c-cf43-7813618e1056"
      },
      "execution_count": 59,
      "outputs": [
        {
          "output_type": "execute_result",
          "data": {
            "text/plain": [
              "array([[-0.38667966, -0.17002388, -0.29799315, -0.25005331],\n",
              "       [-0.1846428 , -0.13577333, -0.20745953, -0.09172066],\n",
              "       [-0.38749756, -0.17161295, -0.29538475, -0.24513214],\n",
              "       [-0.29342686, -0.08824794, -0.28595693,  0.01854709],\n",
              "       [ 4.46604859,  1.10675647,  3.45395123,  1.99992604]])"
            ]
          },
          "metadata": {},
          "execution_count": 59
        }
      ]
    },
    {
      "cell_type": "code",
      "source": [
        "#Validación Cruzada\n",
        "cv_scores = cross_val_score(GradientBoostingClassifier(),X_train,y_train,cv=5)"
      ],
      "metadata": {
        "id": "0LpG45LQcphO"
      },
      "execution_count": 60,
      "outputs": []
    },
    {
      "cell_type": "code",
      "source": [
        "#Accuracy\n",
        "print(cv_scores)"
      ],
      "metadata": {
        "colab": {
          "base_uri": "https://localhost:8080/"
        },
        "id": "05mqn1RScqdz",
        "outputId": "af4b9c6f-9269-47bb-ed78-c57a762ff475"
      },
      "execution_count": 61,
      "outputs": [
        {
          "output_type": "stream",
          "name": "stdout",
          "text": [
            "[0.99967882 0.99967882 0.99951815 0.99967877 0.99967877]\n"
          ]
        }
      ]
    },
    {
      "cell_type": "code",
      "source": [
        "#Tuning\n",
        "#n_estimators: Número de árboles\n",
        "#max_features: Cantidad de variables a considerar al buscar el mejor split\n",
        "#max_depth: Profundidad del árbol\n",
        "\n",
        "param_grid = {\n",
        "    'n_estimators': [200, 700],\n",
        "    'max_features': ['auto', 'sqrt', 'log2'],\n",
        "    'max_depth': [2, 3, 4, 5, 6, 7, 8, 9, 10]\n",
        "}"
      ],
      "metadata": {
        "id": "HZKqyYkVcs-I"
      },
      "execution_count": 63,
      "outputs": []
    },
    {
      "cell_type": "code",
      "source": [
        "grid = GridSearchCV(GradientBoostingClassifier(),param_grid,refit=True,verbose=2,cv=5)\n",
        "grid.fit(X_train,y_train)"
      ],
      "metadata": {
        "colab": {
          "base_uri": "https://localhost:8080/"
        },
        "id": "1gP3Kv3octjx",
        "outputId": "0f980109-9cfc-4b7f-a4ab-52e4b23132d8"
      },
      "execution_count": 64,
      "outputs": [
        {
          "output_type": "stream",
          "name": "stdout",
          "text": [
            "Fitting 5 folds for each of 54 candidates, totalling 270 fits\n",
            "[CV] END ...max_depth=2, max_features=auto, n_estimators=200; total time=   5.3s\n",
            "[CV] END ...max_depth=2, max_features=auto, n_estimators=200; total time=   6.9s\n",
            "[CV] END ...max_depth=2, max_features=auto, n_estimators=200; total time=   6.9s\n",
            "[CV] END ...max_depth=2, max_features=auto, n_estimators=200; total time=   8.1s\n",
            "[CV] END ...max_depth=2, max_features=auto, n_estimators=200; total time=   7.4s\n",
            "[CV] END ...max_depth=2, max_features=auto, n_estimators=700; total time=  23.0s\n",
            "[CV] END ...max_depth=2, max_features=auto, n_estimators=700; total time=  19.0s\n",
            "[CV] END ...max_depth=2, max_features=auto, n_estimators=700; total time=  18.9s\n",
            "[CV] END ...max_depth=2, max_features=auto, n_estimators=700; total time=  18.8s\n",
            "[CV] END ...max_depth=2, max_features=auto, n_estimators=700; total time=  26.0s\n",
            "[CV] END ...max_depth=2, max_features=sqrt, n_estimators=200; total time=   4.7s\n",
            "[CV] END ...max_depth=2, max_features=sqrt, n_estimators=200; total time=   4.0s\n",
            "[CV] END ...max_depth=2, max_features=sqrt, n_estimators=200; total time=   4.3s\n",
            "[CV] END ...max_depth=2, max_features=sqrt, n_estimators=200; total time=   4.3s\n",
            "[CV] END ...max_depth=2, max_features=sqrt, n_estimators=200; total time=   4.6s\n",
            "[CV] END ...max_depth=2, max_features=sqrt, n_estimators=700; total time=  19.4s\n",
            "[CV] END ...max_depth=2, max_features=sqrt, n_estimators=700; total time=  11.7s\n",
            "[CV] END ...max_depth=2, max_features=sqrt, n_estimators=700; total time=  11.3s\n",
            "[CV] END ...max_depth=2, max_features=sqrt, n_estimators=700; total time=  11.9s\n",
            "[CV] END ...max_depth=2, max_features=sqrt, n_estimators=700; total time=  11.1s\n",
            "[CV] END ...max_depth=2, max_features=log2, n_estimators=200; total time=   3.2s\n",
            "[CV] END ...max_depth=2, max_features=log2, n_estimators=200; total time=   3.1s\n",
            "[CV] END ...max_depth=2, max_features=log2, n_estimators=200; total time=   3.9s\n",
            "[CV] END ...max_depth=2, max_features=log2, n_estimators=200; total time=   3.2s\n",
            "[CV] END ...max_depth=2, max_features=log2, n_estimators=200; total time=   3.2s\n",
            "[CV] END ...max_depth=2, max_features=log2, n_estimators=700; total time=  11.2s\n",
            "[CV] END ...max_depth=2, max_features=log2, n_estimators=700; total time=  11.1s\n",
            "[CV] END ...max_depth=2, max_features=log2, n_estimators=700; total time=  13.0s\n",
            "[CV] END ...max_depth=2, max_features=log2, n_estimators=700; total time=  11.1s\n",
            "[CV] END ...max_depth=2, max_features=log2, n_estimators=700; total time=  11.1s\n",
            "[CV] END ...max_depth=3, max_features=auto, n_estimators=200; total time=   7.1s\n",
            "[CV] END ...max_depth=3, max_features=auto, n_estimators=200; total time=   7.0s\n",
            "[CV] END ...max_depth=3, max_features=auto, n_estimators=200; total time=   7.1s\n",
            "[CV] END ...max_depth=3, max_features=auto, n_estimators=200; total time=   7.1s\n",
            "[CV] END ...max_depth=3, max_features=auto, n_estimators=200; total time=   7.0s\n",
            "[CV] END ...max_depth=3, max_features=auto, n_estimators=700; total time=  25.2s\n",
            "[CV] END ...max_depth=3, max_features=auto, n_estimators=700; total time=  24.8s\n",
            "[CV] END ...max_depth=3, max_features=auto, n_estimators=700; total time=  24.1s\n",
            "[CV] END ...max_depth=3, max_features=auto, n_estimators=700; total time=  25.3s\n",
            "[CV] END ...max_depth=3, max_features=auto, n_estimators=700; total time=  25.5s\n",
            "[CV] END ...max_depth=3, max_features=sqrt, n_estimators=200; total time=   4.5s\n",
            "[CV] END ...max_depth=3, max_features=sqrt, n_estimators=200; total time=   4.5s\n",
            "[CV] END ...max_depth=3, max_features=sqrt, n_estimators=200; total time=   4.5s\n",
            "[CV] END ...max_depth=3, max_features=sqrt, n_estimators=200; total time=   4.5s\n",
            "[CV] END ...max_depth=3, max_features=sqrt, n_estimators=200; total time=   4.4s\n",
            "[CV] END ...max_depth=3, max_features=sqrt, n_estimators=700; total time=  15.0s\n",
            "[CV] END ...max_depth=3, max_features=sqrt, n_estimators=700; total time=  16.0s\n",
            "[CV] END ...max_depth=3, max_features=sqrt, n_estimators=700; total time=  14.8s\n",
            "[CV] END ...max_depth=3, max_features=sqrt, n_estimators=700; total time=  14.8s\n",
            "[CV] END ...max_depth=3, max_features=sqrt, n_estimators=700; total time=  14.8s\n",
            "[CV] END ...max_depth=3, max_features=log2, n_estimators=200; total time=   4.5s\n",
            "[CV] END ...max_depth=3, max_features=log2, n_estimators=200; total time=   4.5s\n",
            "[CV] END ...max_depth=3, max_features=log2, n_estimators=200; total time=   4.5s\n",
            "[CV] END ...max_depth=3, max_features=log2, n_estimators=200; total time=   4.4s\n",
            "[CV] END ...max_depth=3, max_features=log2, n_estimators=200; total time=   4.5s\n",
            "[CV] END ...max_depth=3, max_features=log2, n_estimators=700; total time=  15.1s\n",
            "[CV] END ...max_depth=3, max_features=log2, n_estimators=700; total time=  15.1s\n",
            "[CV] END ...max_depth=3, max_features=log2, n_estimators=700; total time=  14.8s\n",
            "[CV] END ...max_depth=3, max_features=log2, n_estimators=700; total time=  14.9s\n",
            "[CV] END ...max_depth=3, max_features=log2, n_estimators=700; total time=  14.9s\n",
            "[CV] END ...max_depth=4, max_features=auto, n_estimators=200; total time=   8.6s\n",
            "[CV] END ...max_depth=4, max_features=auto, n_estimators=200; total time=   7.8s\n",
            "[CV] END ...max_depth=4, max_features=auto, n_estimators=200; total time=   7.8s\n",
            "[CV] END ...max_depth=4, max_features=auto, n_estimators=200; total time=   8.6s\n",
            "[CV] END ...max_depth=4, max_features=auto, n_estimators=200; total time=   8.6s\n",
            "[CV] END ...max_depth=4, max_features=auto, n_estimators=700; total time=  28.2s\n",
            "[CV] END ...max_depth=4, max_features=auto, n_estimators=700; total time=  27.0s\n",
            "[CV] END ...max_depth=4, max_features=auto, n_estimators=700; total time=  26.2s\n",
            "[CV] END ...max_depth=4, max_features=auto, n_estimators=700; total time=  29.2s\n",
            "[CV] END ...max_depth=4, max_features=auto, n_estimators=700; total time=  29.4s\n",
            "[CV] END ...max_depth=4, max_features=sqrt, n_estimators=200; total time=   5.8s\n",
            "[CV] END ...max_depth=4, max_features=sqrt, n_estimators=200; total time=   5.7s\n",
            "[CV] END ...max_depth=4, max_features=sqrt, n_estimators=200; total time=   5.6s\n",
            "[CV] END ...max_depth=4, max_features=sqrt, n_estimators=200; total time=   5.8s\n",
            "[CV] END ...max_depth=4, max_features=sqrt, n_estimators=200; total time=   5.6s\n",
            "[CV] END ...max_depth=4, max_features=sqrt, n_estimators=700; total time=  17.1s\n",
            "[CV] END ...max_depth=4, max_features=sqrt, n_estimators=700; total time=  16.9s\n",
            "[CV] END ...max_depth=4, max_features=sqrt, n_estimators=700; total time=  16.8s\n",
            "[CV] END ...max_depth=4, max_features=sqrt, n_estimators=700; total time=  16.7s\n",
            "[CV] END ...max_depth=4, max_features=sqrt, n_estimators=700; total time=  16.9s\n",
            "[CV] END ...max_depth=4, max_features=log2, n_estimators=200; total time=   5.7s\n",
            "[CV] END ...max_depth=4, max_features=log2, n_estimators=200; total time=   5.5s\n",
            "[CV] END ...max_depth=4, max_features=log2, n_estimators=200; total time=   5.5s\n",
            "[CV] END ...max_depth=4, max_features=log2, n_estimators=200; total time=   5.7s\n",
            "[CV] END ...max_depth=4, max_features=log2, n_estimators=200; total time=   5.5s\n",
            "[CV] END ...max_depth=4, max_features=log2, n_estimators=700; total time=  17.2s\n",
            "[CV] END ...max_depth=4, max_features=log2, n_estimators=700; total time=  17.6s\n",
            "[CV] END ...max_depth=4, max_features=log2, n_estimators=700; total time=  16.8s\n",
            "[CV] END ...max_depth=4, max_features=log2, n_estimators=700; total time=  16.9s\n",
            "[CV] END ...max_depth=4, max_features=log2, n_estimators=700; total time=  17.3s\n",
            "[CV] END ...max_depth=5, max_features=auto, n_estimators=200; total time=   6.7s\n",
            "[CV] END ...max_depth=5, max_features=auto, n_estimators=200; total time=   6.8s\n",
            "[CV] END ...max_depth=5, max_features=auto, n_estimators=200; total time=   7.5s\n",
            "[CV] END ...max_depth=5, max_features=auto, n_estimators=200; total time=   8.6s\n",
            "[CV] END ...max_depth=5, max_features=auto, n_estimators=200; total time=   8.0s\n",
            "[CV] END ...max_depth=5, max_features=auto, n_estimators=700; total time=  28.4s\n",
            "[CV] END ...max_depth=5, max_features=auto, n_estimators=700; total time=  29.5s\n",
            "[CV] END ...max_depth=5, max_features=auto, n_estimators=700; total time=  27.3s\n",
            "[CV] END ...max_depth=5, max_features=auto, n_estimators=700; total time=  28.5s\n",
            "[CV] END ...max_depth=5, max_features=auto, n_estimators=700; total time=  29.1s\n",
            "[CV] END ...max_depth=5, max_features=sqrt, n_estimators=200; total time=   6.4s\n",
            "[CV] END ...max_depth=5, max_features=sqrt, n_estimators=200; total time=   6.1s\n",
            "[CV] END ...max_depth=5, max_features=sqrt, n_estimators=200; total time=   6.1s\n",
            "[CV] END ...max_depth=5, max_features=sqrt, n_estimators=200; total time=   6.3s\n",
            "[CV] END ...max_depth=5, max_features=sqrt, n_estimators=200; total time=   6.4s\n",
            "[CV] END ...max_depth=5, max_features=sqrt, n_estimators=700; total time=  19.4s\n",
            "[CV] END ...max_depth=5, max_features=sqrt, n_estimators=700; total time=  18.2s\n",
            "[CV] END ...max_depth=5, max_features=sqrt, n_estimators=700; total time=  17.8s\n",
            "[CV] END ...max_depth=5, max_features=sqrt, n_estimators=700; total time=  18.7s\n",
            "[CV] END ...max_depth=5, max_features=sqrt, n_estimators=700; total time=  18.2s\n",
            "[CV] END ...max_depth=5, max_features=log2, n_estimators=200; total time=   6.1s\n",
            "[CV] END ...max_depth=5, max_features=log2, n_estimators=200; total time=   6.0s\n",
            "[CV] END ...max_depth=5, max_features=log2, n_estimators=200; total time=   6.0s\n",
            "[CV] END ...max_depth=5, max_features=log2, n_estimators=200; total time=   6.5s\n",
            "[CV] END ...max_depth=5, max_features=log2, n_estimators=200; total time=   6.3s\n",
            "[CV] END ...max_depth=5, max_features=log2, n_estimators=700; total time=  19.8s\n",
            "[CV] END ...max_depth=5, max_features=log2, n_estimators=700; total time=  18.5s\n",
            "[CV] END ...max_depth=5, max_features=log2, n_estimators=700; total time=  17.8s\n",
            "[CV] END ...max_depth=5, max_features=log2, n_estimators=700; total time=  18.1s\n",
            "[CV] END ...max_depth=5, max_features=log2, n_estimators=700; total time=  18.1s\n",
            "[CV] END ...max_depth=6, max_features=auto, n_estimators=200; total time=   5.8s\n",
            "[CV] END ...max_depth=6, max_features=auto, n_estimators=200; total time=   5.8s\n",
            "[CV] END ...max_depth=6, max_features=auto, n_estimators=200; total time=   3.4s\n",
            "[CV] END ...max_depth=6, max_features=auto, n_estimators=200; total time=   6.3s\n",
            "[CV] END ...max_depth=6, max_features=auto, n_estimators=200; total time=   5.2s\n",
            "[CV] END ...max_depth=6, max_features=auto, n_estimators=700; total time=  30.9s\n",
            "[CV] END ...max_depth=6, max_features=auto, n_estimators=700; total time=  29.9s\n",
            "[CV] END ...max_depth=6, max_features=auto, n_estimators=700; total time=  26.4s\n",
            "[CV] END ...max_depth=6, max_features=auto, n_estimators=700; total time=  29.3s\n",
            "[CV] END ...max_depth=6, max_features=auto, n_estimators=700; total time=  28.7s\n",
            "[CV] END ...max_depth=6, max_features=sqrt, n_estimators=200; total time=   6.6s\n",
            "[CV] END ...max_depth=6, max_features=sqrt, n_estimators=200; total time=   6.1s\n",
            "[CV] END ...max_depth=6, max_features=sqrt, n_estimators=200; total time=   6.1s\n",
            "[CV] END ...max_depth=6, max_features=sqrt, n_estimators=200; total time=   6.7s\n",
            "[CV] END ...max_depth=6, max_features=sqrt, n_estimators=200; total time=   6.6s\n",
            "[CV] END ...max_depth=6, max_features=sqrt, n_estimators=700; total time=  21.0s\n",
            "[CV] END ...max_depth=6, max_features=sqrt, n_estimators=700; total time=  18.6s\n",
            "[CV] END ...max_depth=6, max_features=sqrt, n_estimators=700; total time=  20.0s\n",
            "[CV] END ...max_depth=6, max_features=sqrt, n_estimators=700; total time=  17.8s\n",
            "[CV] END ...max_depth=6, max_features=sqrt, n_estimators=700; total time=  18.7s\n",
            "[CV] END ...max_depth=6, max_features=log2, n_estimators=200; total time=   7.2s\n",
            "[CV] END ...max_depth=6, max_features=log2, n_estimators=200; total time=   5.7s\n",
            "[CV] END ...max_depth=6, max_features=log2, n_estimators=200; total time=   6.8s\n",
            "[CV] END ...max_depth=6, max_features=log2, n_estimators=200; total time=   6.8s\n",
            "[CV] END ...max_depth=6, max_features=log2, n_estimators=200; total time=   5.3s\n",
            "[CV] END ...max_depth=6, max_features=log2, n_estimators=700; total time=  19.6s\n",
            "[CV] END ...max_depth=6, max_features=log2, n_estimators=700; total time=  19.6s\n",
            "[CV] END ...max_depth=6, max_features=log2, n_estimators=700; total time=  18.5s\n",
            "[CV] END ...max_depth=6, max_features=log2, n_estimators=700; total time=  18.8s\n",
            "[CV] END ...max_depth=6, max_features=log2, n_estimators=700; total time=  17.4s\n",
            "[CV] END ...max_depth=7, max_features=auto, n_estimators=200; total time=   3.3s\n",
            "[CV] END ...max_depth=7, max_features=auto, n_estimators=200; total time=   3.3s\n",
            "[CV] END ...max_depth=7, max_features=auto, n_estimators=200; total time=   3.4s\n",
            "[CV] END ...max_depth=7, max_features=auto, n_estimators=200; total time=   3.6s\n",
            "[CV] END ...max_depth=7, max_features=auto, n_estimators=200; total time=   3.3s\n",
            "[CV] END ...max_depth=7, max_features=auto, n_estimators=700; total time=  30.1s\n",
            "[CV] END ...max_depth=7, max_features=auto, n_estimators=700; total time=  28.3s\n",
            "[CV] END ...max_depth=7, max_features=auto, n_estimators=700; total time=  27.4s\n",
            "[CV] END ...max_depth=7, max_features=auto, n_estimators=700; total time=  23.6s\n",
            "[CV] END ...max_depth=7, max_features=auto, n_estimators=700; total time=  23.4s\n",
            "[CV] END ...max_depth=7, max_features=sqrt, n_estimators=200; total time=   6.4s\n",
            "[CV] END ...max_depth=7, max_features=sqrt, n_estimators=200; total time=   6.0s\n",
            "[CV] END ...max_depth=7, max_features=sqrt, n_estimators=200; total time=   6.2s\n",
            "[CV] END ...max_depth=7, max_features=sqrt, n_estimators=200; total time=   6.4s\n",
            "[CV] END ...max_depth=7, max_features=sqrt, n_estimators=200; total time=   6.1s\n",
            "[CV] END ...max_depth=7, max_features=sqrt, n_estimators=700; total time=  18.4s\n",
            "[CV] END ...max_depth=7, max_features=sqrt, n_estimators=700; total time=  19.5s\n",
            "[CV] END ...max_depth=7, max_features=sqrt, n_estimators=700; total time=  19.2s\n",
            "[CV] END ...max_depth=7, max_features=sqrt, n_estimators=700; total time=  18.4s\n",
            "[CV] END ...max_depth=7, max_features=sqrt, n_estimators=700; total time=  17.4s\n",
            "[CV] END ...max_depth=7, max_features=log2, n_estimators=200; total time=   5.7s\n",
            "[CV] END ...max_depth=7, max_features=log2, n_estimators=200; total time=   6.3s\n",
            "[CV] END ...max_depth=7, max_features=log2, n_estimators=200; total time=   5.1s\n",
            "[CV] END ...max_depth=7, max_features=log2, n_estimators=200; total time=   7.0s\n",
            "[CV] END ...max_depth=7, max_features=log2, n_estimators=200; total time=   3.5s\n",
            "[CV] END ...max_depth=7, max_features=log2, n_estimators=700; total time=  18.7s\n",
            "[CV] END ...max_depth=7, max_features=log2, n_estimators=700; total time=  17.3s\n",
            "[CV] END ...max_depth=7, max_features=log2, n_estimators=700; total time=  20.4s\n",
            "[CV] END ...max_depth=7, max_features=log2, n_estimators=700; total time=  17.8s\n",
            "[CV] END ...max_depth=7, max_features=log2, n_estimators=700; total time=  16.9s\n",
            "[CV] END ...max_depth=8, max_features=auto, n_estimators=200; total time=   3.3s\n",
            "[CV] END ...max_depth=8, max_features=auto, n_estimators=200; total time=   3.3s\n",
            "[CV] END ...max_depth=8, max_features=auto, n_estimators=200; total time=   3.2s\n",
            "[CV] END ...max_depth=8, max_features=auto, n_estimators=200; total time=   3.3s\n",
            "[CV] END ...max_depth=8, max_features=auto, n_estimators=200; total time=   3.3s\n",
            "[CV] END ...max_depth=8, max_features=auto, n_estimators=700; total time=  30.1s\n",
            "[CV] END ...max_depth=8, max_features=auto, n_estimators=700; total time=  29.5s\n",
            "[CV] END ...max_depth=8, max_features=auto, n_estimators=700; total time=  28.9s\n",
            "[CV] END ...max_depth=8, max_features=auto, n_estimators=700; total time=  24.8s\n",
            "[CV] END ...max_depth=8, max_features=auto, n_estimators=700; total time=  24.8s\n",
            "[CV] END ...max_depth=8, max_features=sqrt, n_estimators=200; total time=   4.1s\n",
            "[CV] END ...max_depth=8, max_features=sqrt, n_estimators=200; total time=   5.0s\n",
            "[CV] END ...max_depth=8, max_features=sqrt, n_estimators=200; total time=   3.3s\n",
            "[CV] END ...max_depth=8, max_features=sqrt, n_estimators=200; total time=   6.1s\n",
            "[CV] END ...max_depth=8, max_features=sqrt, n_estimators=200; total time=   4.1s\n",
            "[CV] END ...max_depth=8, max_features=sqrt, n_estimators=700; total time=  17.3s\n",
            "[CV] END ...max_depth=8, max_features=sqrt, n_estimators=700; total time=  18.7s\n",
            "[CV] END ...max_depth=8, max_features=sqrt, n_estimators=700; total time=  19.1s\n",
            "[CV] END ...max_depth=8, max_features=sqrt, n_estimators=700; total time=  15.8s\n",
            "[CV] END ...max_depth=8, max_features=sqrt, n_estimators=700; total time=  16.8s\n",
            "[CV] END ...max_depth=8, max_features=log2, n_estimators=200; total time=   5.7s\n",
            "[CV] END ...max_depth=8, max_features=log2, n_estimators=200; total time=   3.9s\n",
            "[CV] END ...max_depth=8, max_features=log2, n_estimators=200; total time=   6.1s\n",
            "[CV] END ...max_depth=8, max_features=log2, n_estimators=200; total time=   5.1s\n",
            "[CV] END ...max_depth=8, max_features=log2, n_estimators=200; total time=   4.9s\n",
            "[CV] END ...max_depth=8, max_features=log2, n_estimators=700; total time=  17.7s\n",
            "[CV] END ...max_depth=8, max_features=log2, n_estimators=700; total time=  17.2s\n",
            "[CV] END ...max_depth=8, max_features=log2, n_estimators=700; total time=  20.7s\n",
            "[CV] END ...max_depth=8, max_features=log2, n_estimators=700; total time=  17.8s\n",
            "[CV] END ...max_depth=8, max_features=log2, n_estimators=700; total time=  16.3s\n",
            "[CV] END ...max_depth=9, max_features=auto, n_estimators=200; total time=   3.3s\n",
            "[CV] END ...max_depth=9, max_features=auto, n_estimators=200; total time=   3.3s\n",
            "[CV] END ...max_depth=9, max_features=auto, n_estimators=200; total time=   3.2s\n",
            "[CV] END ...max_depth=9, max_features=auto, n_estimators=200; total time=   3.3s\n",
            "[CV] END ...max_depth=9, max_features=auto, n_estimators=200; total time=   3.3s\n",
            "[CV] END ...max_depth=9, max_features=auto, n_estimators=700; total time=  27.3s\n",
            "[CV] END ...max_depth=9, max_features=auto, n_estimators=700; total time=  30.3s\n",
            "[CV] END ...max_depth=9, max_features=auto, n_estimators=700; total time=  32.0s\n",
            "[CV] END ...max_depth=9, max_features=auto, n_estimators=700; total time=  31.6s\n",
            "[CV] END ...max_depth=9, max_features=auto, n_estimators=700; total time=  24.3s\n",
            "[CV] END ...max_depth=9, max_features=sqrt, n_estimators=200; total time=   3.7s\n",
            "[CV] END ...max_depth=9, max_features=sqrt, n_estimators=200; total time=   5.5s\n",
            "[CV] END ...max_depth=9, max_features=sqrt, n_estimators=200; total time=   3.3s\n",
            "[CV] END ...max_depth=9, max_features=sqrt, n_estimators=200; total time=   3.2s\n",
            "[CV] END ...max_depth=9, max_features=sqrt, n_estimators=200; total time=   5.0s\n",
            "[CV] END ...max_depth=9, max_features=sqrt, n_estimators=700; total time=  15.7s\n",
            "[CV] END ...max_depth=9, max_features=sqrt, n_estimators=700; total time=  17.2s\n",
            "[CV] END ...max_depth=9, max_features=sqrt, n_estimators=700; total time=  20.5s\n",
            "[CV] END ...max_depth=9, max_features=sqrt, n_estimators=700; total time=  15.5s\n",
            "[CV] END ...max_depth=9, max_features=sqrt, n_estimators=700; total time=  15.5s\n",
            "[CV] END ...max_depth=9, max_features=log2, n_estimators=200; total time=   3.4s\n",
            "[CV] END ...max_depth=9, max_features=log2, n_estimators=200; total time=   4.7s\n",
            "[CV] END ...max_depth=9, max_features=log2, n_estimators=200; total time=   3.7s\n",
            "[CV] END ...max_depth=9, max_features=log2, n_estimators=200; total time=   3.5s\n",
            "[CV] END ...max_depth=9, max_features=log2, n_estimators=200; total time=   3.7s\n",
            "[CV] END ...max_depth=9, max_features=log2, n_estimators=700; total time=  18.2s\n",
            "[CV] END ...max_depth=9, max_features=log2, n_estimators=700; total time=  15.5s\n",
            "[CV] END ...max_depth=9, max_features=log2, n_estimators=700; total time=  20.0s\n",
            "[CV] END ...max_depth=9, max_features=log2, n_estimators=700; total time=  15.2s\n",
            "[CV] END ...max_depth=9, max_features=log2, n_estimators=700; total time=  18.1s\n",
            "[CV] END ..max_depth=10, max_features=auto, n_estimators=200; total time=   3.3s\n",
            "[CV] END ..max_depth=10, max_features=auto, n_estimators=200; total time=   3.3s\n",
            "[CV] END ..max_depth=10, max_features=auto, n_estimators=200; total time=   3.3s\n",
            "[CV] END ..max_depth=10, max_features=auto, n_estimators=200; total time=   3.3s\n",
            "[CV] END ..max_depth=10, max_features=auto, n_estimators=200; total time=   3.2s\n",
            "[CV] END ..max_depth=10, max_features=auto, n_estimators=700; total time=  27.3s\n",
            "[CV] END ..max_depth=10, max_features=auto, n_estimators=700; total time=  32.4s\n",
            "[CV] END ..max_depth=10, max_features=auto, n_estimators=700; total time=  35.5s\n",
            "[CV] END ..max_depth=10, max_features=auto, n_estimators=700; total time=  34.7s\n",
            "[CV] END ..max_depth=10, max_features=auto, n_estimators=700; total time=  23.4s\n",
            "[CV] END ..max_depth=10, max_features=sqrt, n_estimators=200; total time=   4.1s\n",
            "[CV] END ..max_depth=10, max_features=sqrt, n_estimators=200; total time=   3.8s\n",
            "[CV] END ..max_depth=10, max_features=sqrt, n_estimators=200; total time=   3.5s\n",
            "[CV] END ..max_depth=10, max_features=sqrt, n_estimators=200; total time=   3.5s\n",
            "[CV] END ..max_depth=10, max_features=sqrt, n_estimators=200; total time=   3.5s\n",
            "[CV] END ..max_depth=10, max_features=sqrt, n_estimators=700; total time=  17.2s\n",
            "[CV] END ..max_depth=10, max_features=sqrt, n_estimators=700; total time=  17.0s\n",
            "[CV] END ..max_depth=10, max_features=sqrt, n_estimators=700; total time=  19.7s\n",
            "[CV] END ..max_depth=10, max_features=sqrt, n_estimators=700; total time=  15.8s\n",
            "[CV] END ..max_depth=10, max_features=sqrt, n_estimators=700; total time=  16.2s\n",
            "[CV] END ..max_depth=10, max_features=log2, n_estimators=200; total time=   3.3s\n",
            "[CV] END ..max_depth=10, max_features=log2, n_estimators=200; total time=   5.3s\n",
            "[CV] END ..max_depth=10, max_features=log2, n_estimators=200; total time=   3.5s\n",
            "[CV] END ..max_depth=10, max_features=log2, n_estimators=200; total time=   4.9s\n",
            "[CV] END ..max_depth=10, max_features=log2, n_estimators=200; total time=   4.1s\n",
            "[CV] END ..max_depth=10, max_features=log2, n_estimators=700; total time=  15.2s\n",
            "[CV] END ..max_depth=10, max_features=log2, n_estimators=700; total time=  16.3s\n",
            "[CV] END ..max_depth=10, max_features=log2, n_estimators=700; total time=  19.2s\n",
            "[CV] END ..max_depth=10, max_features=log2, n_estimators=700; total time=  15.8s\n",
            "[CV] END ..max_depth=10, max_features=log2, n_estimators=700; total time=  16.8s\n"
          ]
        },
        {
          "output_type": "execute_result",
          "data": {
            "text/plain": [
              "GridSearchCV(cv=5, estimator=GradientBoostingClassifier(),\n",
              "             param_grid={'max_depth': [2, 3, 4, 5, 6, 7, 8, 9, 10],\n",
              "                         'max_features': ['auto', 'sqrt', 'log2'],\n",
              "                         'n_estimators': [200, 700]},\n",
              "             verbose=2)"
            ]
          },
          "metadata": {},
          "execution_count": 64
        }
      ]
    },
    {
      "cell_type": "code",
      "source": [
        "print(grid.best_estimator_)"
      ],
      "metadata": {
        "colab": {
          "base_uri": "https://localhost:8080/"
        },
        "id": "S0a59EAvc5KM",
        "outputId": "f0ab9f23-d68c-4f88-a581-02f61e8a451c"
      },
      "execution_count": 65,
      "outputs": [
        {
          "output_type": "stream",
          "name": "stdout",
          "text": [
            "GradientBoostingClassifier(max_features='auto', n_estimators=700)\n"
          ]
        }
      ]
    },
    {
      "cell_type": "code",
      "source": [
        "#Boosting\n",
        "classifier = GradientBoostingClassifier(max_depth=2, max_features='log2', n_estimators=200).fit(X_train, y_train)"
      ],
      "metadata": {
        "id": "_zoytmlvc7dz"
      },
      "execution_count": 66,
      "outputs": []
    },
    {
      "cell_type": "code",
      "source": [
        "feature_scores = pd.Series(classifier.feature_importances_, index=['likes','dislikes','views','comment_count']).sort_values(ascending=False)\n",
        "feature_scores"
      ],
      "metadata": {
        "colab": {
          "base_uri": "https://localhost:8080/"
        },
        "id": "TlRxt5N1c8nE",
        "outputId": "baecfe3b-5226-4b81-f06e-46acbe511276"
      },
      "execution_count": 68,
      "outputs": [
        {
          "output_type": "execute_result",
          "data": {
            "text/plain": [
              "comment_count   0.71\n",
              "likes           0.25\n",
              "views           0.02\n",
              "dislikes        0.02\n",
              "dtype: float64"
            ]
          },
          "metadata": {},
          "execution_count": 68
        }
      ]
    },
    {
      "cell_type": "code",
      "source": [
        "sns.barplot(x=feature_scores, y=feature_scores.index)\n",
        "plt.xlabel('Feature Importance Score')\n",
        "plt.ylabel('Features')\n",
        "plt.title(\"Visualizing Important Features\")\n",
        "plt.show()"
      ],
      "metadata": {
        "colab": {
          "base_uri": "https://localhost:8080/",
          "height": 293
        },
        "id": "pLCZHWqjc9f5",
        "outputId": "a85a46a8-c37a-4012-a680-af93613e7747"
      },
      "execution_count": 69,
      "outputs": [
        {
          "output_type": "display_data",
          "data": {
            "text/plain": [
              "<Figure size 432x288 with 1 Axes>"
            ],
            "image/png": "[encoded data removed]"
          },
          "metadata": {
            "needs_background": "dark"
          }
        }
      ]
    },
    {
      "cell_type": "code",
      "source": [
        "y_pred = classifier.predict(X_test)"
      ],
      "metadata": {
        "id": "1CY62Ul1dVtF"
      },
      "execution_count": 70,
      "outputs": []
    },
    {
      "cell_type": "code",
      "source": [
        "y_pred[0:20]"
      ],
      "metadata": {
        "colab": {
          "base_uri": "https://localhost:8080/"
        },
        "id": "ngKyO5cudWnU",
        "outputId": "c0c84c0a-9433-465a-fc27-08c895ec72f4"
      },
      "execution_count": 71,
      "outputs": [
        {
          "output_type": "execute_result",
          "data": {
            "text/plain": [
              "array([False, False, False, False, False,  True, False, False, False,\n",
              "        True, False, False, False, False, False, False,  True, False,\n",
              "       False, False])"
            ]
          },
          "metadata": {},
          "execution_count": 71
        }
      ]
    },
    {
      "cell_type": "code",
      "source": [
        "y_test[0:20]"
      ],
      "metadata": {
        "colab": {
          "base_uri": "https://localhost:8080/"
        },
        "id": "TUrTLJQddXbT",
        "outputId": "282ae58b-1243-4bce-b644-7bac325c1391"
      },
      "execution_count": 72,
      "outputs": [
        {
          "output_type": "execute_result",
          "data": {
            "text/plain": [
              "array([False, False, False, False, False, False, False, False, False,\n",
              "       False, False, False, False, False, False, False, False, False,\n",
              "       False, False])"
            ]
          },
          "metadata": {},
          "execution_count": 72
        }
      ]
    },
    {
      "cell_type": "code",
      "source": [
        "confusion_matrix(y_test, y_pred)"
      ],
      "metadata": {
        "colab": {
          "base_uri": "https://localhost:8080/"
        },
        "id": "dAsxKq3RdYUu",
        "outputId": "3fee5f56-2d4c-458c-a42d-4a103ce7c735"
      },
      "execution_count": 73,
      "outputs": [
        {
          "output_type": "execute_result",
          "data": {
            "text/plain": [
              "array([[6647, 1006],\n",
              "       [  12,  119]])"
            ]
          },
          "metadata": {},
          "execution_count": 73
        }
      ]
    },
    {
      "cell_type": "code",
      "source": [
        "# Plot non-normalized confusion matrix\n",
        "titles_options = [(\"Confusion matrix, without normalization\", None),\n",
        "                  (\"Normalized confusion matrix\", 'true')]\n",
        "for title, normalize in titles_options:\n",
        "    disp = plot_confusion_matrix(classifier, X_test, y_test,\n",
        "                                 #display_labels=y_test,\n",
        "                                 cmap=plt.cm.Blues,\n",
        "                                 normalize=normalize)\n",
        "    disp.ax_.set_title(title)\n",
        "\n",
        "    print(title)\n",
        "    print(disp.confusion_matrix)\n",
        "\n",
        "plt.show()"
      ],
      "metadata": {
        "colab": {
          "base_uri": "https://localhost:8080/",
          "height": 837
        },
        "id": "WFX_abhcdZ33",
        "outputId": "4f543e6d-5669-4d83-f719-af245efcd20f"
      },
      "execution_count": 74,
      "outputs": [
        {
          "output_type": "stream",
          "name": "stderr",
          "text": [
            "/usr/local/lib/python3.7/dist-packages/sklearn/utils/deprecation.py:87: FutureWarning:\n",
            "\n",
            "Function plot_confusion_matrix is deprecated; Function `plot_confusion_matrix` is deprecated in 1.0 and will be removed in 1.2. Use one of the class methods: ConfusionMatrixDisplay.from_predictions or ConfusionMatrixDisplay.from_estimator.\n",
            "\n",
            "/usr/local/lib/python3.7/dist-packages/sklearn/utils/deprecation.py:87: FutureWarning:\n",
            "\n",
            "Function plot_confusion_matrix is deprecated; Function `plot_confusion_matrix` is deprecated in 1.0 and will be removed in 1.2. Use one of the class methods: ConfusionMatrixDisplay.from_predictions or ConfusionMatrixDisplay.from_estimator.\n",
            "\n"
          ]
        },
        {
          "output_type": "stream",
          "name": "stdout",
          "text": [
            "Confusion matrix, without normalization\n",
            "[[6647 1006]\n",
            " [  12  119]]\n",
            "Normalized confusion matrix\n",
            "[[0.86854828 0.13145172]\n",
            " [0.09160305 0.90839695]]\n"
          ]
        },
        {
          "output_type": "display_data",
          "data": {
            "text/plain": [
              "<Figure size 432x288 with 2 Axes>"
            ],
            "image/png": "[encoded data removed]"
          },
          "metadata": {
            "needs_background": "dark"
          }
        },
        {
          "output_type": "display_data",
          "data": {
            "text/plain": [
              "<Figure size 432x288 with 2 Axes>"
            ],
            "image/png": "[encoded data removed]"
          },
          "metadata": {
            "needs_background": "dark"
          }
        }
      ]
    },
    {
      "cell_type": "code",
      "source": [
        "y_pred_prob = classifier.predict_proba(X_test)"
      ],
      "metadata": {
        "id": "g-Uw1x7Qdbtc"
      },
      "execution_count": 75,
      "outputs": []
    },
    {
      "cell_type": "code",
      "source": [
        "y_pred_prob[0:5]"
      ],
      "metadata": {
        "colab": {
          "base_uri": "https://localhost:8080/"
        },
        "id": "8rGWM9UNdcjL",
        "outputId": "fe15fb35-f76f-49e0-a0b2-634179b23a78"
      },
      "execution_count": 76,
      "outputs": [
        {
          "output_type": "execute_result",
          "data": {
            "text/plain": [
              "array([[9.99986470e-01, 1.35295007e-05],\n",
              "       [9.99998323e-01, 1.67664983e-06],\n",
              "       [9.99986470e-01, 1.35295007e-05],\n",
              "       [9.99998901e-01, 1.09909688e-06],\n",
              "       [9.99999191e-01, 8.09346538e-07]])"
            ]
          },
          "metadata": {},
          "execution_count": 76
        }
      ]
    },
    {
      "cell_type": "code",
      "source": [
        "y_pred_prob[0:5,1]"
      ],
      "metadata": {
        "colab": {
          "base_uri": "https://localhost:8080/"
        },
        "id": "Unf1VRsRddaj",
        "outputId": "f6ddbfd3-2310-4509-d61b-9064c76c460a"
      },
      "execution_count": 78,
      "outputs": [
        {
          "output_type": "execute_result",
          "data": {
            "text/plain": [
              "array([1.35295007e-05, 1.67664983e-06, 1.35295007e-05, 1.09909688e-06,\n",
              "       8.09346538e-07])"
            ]
          },
          "metadata": {},
          "execution_count": 78
        }
      ]
    },
    {
      "cell_type": "code",
      "source": [
        "false_positive_rate, true_positive_rate, thresholds = roc_curve(y_test, y_pred_prob[:,1])"
      ],
      "metadata": {
        "id": "PjjHCzlHdeYs"
      },
      "execution_count": 79,
      "outputs": []
    },
    {
      "cell_type": "code",
      "source": [
        "roc_auc = auc(false_positive_rate, true_positive_rate)\n",
        "roc_auc"
      ],
      "metadata": {
        "colab": {
          "base_uri": "https://localhost:8080/"
        },
        "id": "M-jbqDdvdfPn",
        "outputId": "75f8750e-e9a3-41ac-c455-0d8800d37ba5"
      },
      "execution_count": 80,
      "outputs": [
        {
          "output_type": "execute_result",
          "data": {
            "text/plain": [
              "0.940745683726284"
            ]
          },
          "metadata": {},
          "execution_count": 80
        }
      ]
    },
    {
      "cell_type": "code",
      "source": [
        "plt.title('Receiver Operating Characteristic')\n",
        "plt.plot(false_positive_rate,true_positive_rate, color='red',label = 'AUC = %0.2f' % roc_auc)\n",
        "plt.legend(loc = 'lower right')\n",
        "plt.plot([0, 1], [0, 1],linestyle='--')\n",
        "plt.axis('tight')\n",
        "plt.ylabel('True Positive Rate')\n",
        "plt.xlabel('False Positive Rate')\n",
        "plt.show()"
      ],
      "metadata": {
        "colab": {
          "base_uri": "https://localhost:8080/",
          "height": 293
        },
        "id": "y-3P5kFSdg47",
        "outputId": "7580c167-5512-4c26-ae95-da88353ab148"
      },
      "execution_count": 81,
      "outputs": [
        {
          "output_type": "display_data",
          "data": {
            "text/plain": [
              "<Figure size 432x288 with 1 Axes>"
            ],
            "image/png": "[encoded data removed]"
          },
          "metadata": {
            "needs_background": "dark"
          }
        }
      ]
    }
  ],
  "metadata": {
    "kernelspec": {
      "display_name": "Python 3.9.6 64-bit",
      "language": "python",
      "name": "python3"
    },
    "language_info": {
      "codemirror_mode": {
        "name": "ipython",
        "version": 3
      },
      "file_extension": ".py",
      "mimetype": "text/x-python",
      "name": "python",
      "nbconvert_exporter": "python",
      "pygments_lexer": "ipython3",
      "version": "3.9.6"
    },
    "orig_nbformat": 4,
    "vscode": {
      "interpreter": {
        "hash": "81794d4967e6c3204c66dcd87b604927b115b27c00565d3d43f05ba2f3a2cb0d"
      }
    },
    "colab": {
      "name": "Code_last.ipynb",
      "provenance": [],
      "collapsed_sections": [
        "d7ifXkKbE1hT",
        "2JyzoMJFF57e"
      ]
    }
  },
  "nbformat": 4,
  "nbformat_minor": 0
}